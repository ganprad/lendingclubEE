{
 "cells": [
  {
   "cell_type": "code",
   "execution_count": 1,
   "metadata": {},
   "outputs": [
    {
     "name": "stderr",
     "output_type": "stream",
     "text": [
      "/home/gpk/anaconda3/envs/mcmc/lib/python3.6/site-packages/sklearn/cross_validation.py:41: DeprecationWarning: This module was deprecated in version 0.18 in favor of the model_selection module into which all the refactored classes and functions are moved. Also note that the interface of the new CV iterators are different from that of this module. This module will be removed in 0.20.\n",
      "  \"This module will be removed in 0.20.\", DeprecationWarning)\n",
      "Using TensorFlow backend.\n"
     ]
    }
   ],
   "source": [
    "import pandas as pd\n",
    "import numpy as np\n",
    "import matplotlib.pyplot as plt \n",
    "import seaborn as sns\n",
    "import xgboost as xgb\n",
    "from sklearn.preprocessing import OneHotEncoder\n",
    "from sklearn.cross_validation import train_test_split\n",
    "from sklearn.metrics import roc_auc_score\n",
    "from keras.utils.np_utils import to_categorical\n",
    "from sklearn.feature_extraction.text import CountVectorizer, TfidfTransformer, TfidfVectorizer\n",
    "from sklearn.feature_selection import mutual_info_classif, SelectKBest, SelectFpr\n",
    "from sklearn.pipeline import FeatureUnion, make_union, make_pipeline\n",
    "\n",
    "import pickle\n",
    "\n",
    "# pd.set_option('display.max_rows',200)\n",
    "%matplotlib inline\n"
   ]
  },
  {
   "cell_type": "code",
   "execution_count": 411,
   "metadata": {
    "collapsed": true
   },
   "outputs": [],
   "source": [
    "from keras.layers import Input, Embedding, Dense, Flatten, BatchNormalization, concatenate,Dropout\n",
    "from keras.models import Model\n",
    "from keras.initializers import VarianceScaling, RandomNormal, RandomUniform\n",
    "from keras.regularizers import l1,l2,l1_l2\n",
    "from keras.optimizers import SGD, Adam, Nadam, RMSprop\n",
    "from keras import backend as K"
   ]
  },
  {
   "cell_type": "code",
   "execution_count": 3,
   "metadata": {
    "collapsed": true
   },
   "outputs": [],
   "source": [
    "loans = pd.read_csv('input/LoanStats3a_securev1.csv',skiprows=1,low_memory=False)"
   ]
  },
  {
   "cell_type": "code",
   "execution_count": 4,
   "metadata": {
    "collapsed": true
   },
   "outputs": [],
   "source": [
    "reject_stats = pd.read_csv('input/RejectStatsA.csv',skiprows=1)\n"
   ]
  },
  {
   "cell_type": "code",
   "execution_count": 5,
   "metadata": {
    "collapsed": true
   },
   "outputs": [],
   "source": [
    "\n",
    "# loans['sec_app_chargeoff_within_12_mths']\n"
   ]
  },
  {
   "cell_type": "markdown",
   "metadata": {
    "collapsed": true
   },
   "source": [
    "## Feature engineering:\n",
    "\n",
    "- The data has a lot of columns with nulls. \n",
    "- Explore these columns and cleanup data."
   ]
  },
  {
   "cell_type": "code",
   "execution_count": 6,
   "metadata": {
    "collapsed": true
   },
   "outputs": [],
   "source": [
    "def null_counts(df):\n",
    "    \n",
    "    '''Function creates a dataframe with null counts of each feature in input dataframe'''\n",
    "    \n",
    "    return pd.DataFrame({col:pd.isnull(df[col]).value_counts() for col in df.columns}).T"
   ]
  },
  {
   "cell_type": "code",
   "execution_count": 7,
   "metadata": {
    "scrolled": false
   },
   "outputs": [
    {
     "data": {
      "text/html": [
       "<div>\n",
       "<style>\n",
       "    .dataframe thead tr:only-child th {\n",
       "        text-align: right;\n",
       "    }\n",
       "\n",
       "    .dataframe thead th {\n",
       "        text-align: left;\n",
       "    }\n",
       "\n",
       "    .dataframe tbody tr th {\n",
       "        vertical-align: top;\n",
       "    }\n",
       "</style>\n",
       "<table border=\"1\" class=\"dataframe\">\n",
       "  <thead>\n",
       "    <tr style=\"text-align: right;\">\n",
       "      <th></th>\n",
       "      <th>False</th>\n",
       "      <th>True</th>\n",
       "    </tr>\n",
       "  </thead>\n",
       "  <tbody>\n",
       "    <tr>\n",
       "      <th>acc_now_delinq</th>\n",
       "      <td>42506.0</td>\n",
       "      <td>32.0</td>\n",
       "    </tr>\n",
       "    <tr>\n",
       "      <th>acc_open_past_24mths</th>\n",
       "      <td>NaN</td>\n",
       "      <td>42538.0</td>\n",
       "    </tr>\n",
       "    <tr>\n",
       "      <th>addr_state</th>\n",
       "      <td>42535.0</td>\n",
       "      <td>3.0</td>\n",
       "    </tr>\n",
       "    <tr>\n",
       "      <th>all_util</th>\n",
       "      <td>NaN</td>\n",
       "      <td>42538.0</td>\n",
       "    </tr>\n",
       "    <tr>\n",
       "      <th>annual_inc</th>\n",
       "      <td>42531.0</td>\n",
       "      <td>7.0</td>\n",
       "    </tr>\n",
       "    <tr>\n",
       "      <th>annual_inc_joint</th>\n",
       "      <td>NaN</td>\n",
       "      <td>42538.0</td>\n",
       "    </tr>\n",
       "    <tr>\n",
       "      <th>application_type</th>\n",
       "      <td>42535.0</td>\n",
       "      <td>3.0</td>\n",
       "    </tr>\n",
       "    <tr>\n",
       "      <th>avg_cur_bal</th>\n",
       "      <td>NaN</td>\n",
       "      <td>42538.0</td>\n",
       "    </tr>\n",
       "    <tr>\n",
       "      <th>bc_open_to_buy</th>\n",
       "      <td>NaN</td>\n",
       "      <td>42538.0</td>\n",
       "    </tr>\n",
       "    <tr>\n",
       "      <th>bc_util</th>\n",
       "      <td>NaN</td>\n",
       "      <td>42538.0</td>\n",
       "    </tr>\n",
       "    <tr>\n",
       "      <th>chargeoff_within_12_mths</th>\n",
       "      <td>42390.0</td>\n",
       "      <td>148.0</td>\n",
       "    </tr>\n",
       "    <tr>\n",
       "      <th>collection_recovery_fee</th>\n",
       "      <td>42535.0</td>\n",
       "      <td>3.0</td>\n",
       "    </tr>\n",
       "    <tr>\n",
       "      <th>collections_12_mths_ex_med</th>\n",
       "      <td>42390.0</td>\n",
       "      <td>148.0</td>\n",
       "    </tr>\n",
       "    <tr>\n",
       "      <th>deferral_term</th>\n",
       "      <td>NaN</td>\n",
       "      <td>42538.0</td>\n",
       "    </tr>\n",
       "    <tr>\n",
       "      <th>delinq_2yrs</th>\n",
       "      <td>42506.0</td>\n",
       "      <td>32.0</td>\n",
       "    </tr>\n",
       "    <tr>\n",
       "      <th>delinq_amnt</th>\n",
       "      <td>42506.0</td>\n",
       "      <td>32.0</td>\n",
       "    </tr>\n",
       "    <tr>\n",
       "      <th>desc</th>\n",
       "      <td>29243.0</td>\n",
       "      <td>13295.0</td>\n",
       "    </tr>\n",
       "    <tr>\n",
       "      <th>dti</th>\n",
       "      <td>42535.0</td>\n",
       "      <td>3.0</td>\n",
       "    </tr>\n",
       "    <tr>\n",
       "      <th>dti_joint</th>\n",
       "      <td>NaN</td>\n",
       "      <td>42538.0</td>\n",
       "    </tr>\n",
       "    <tr>\n",
       "      <th>earliest_cr_line</th>\n",
       "      <td>42506.0</td>\n",
       "      <td>32.0</td>\n",
       "    </tr>\n",
       "    <tr>\n",
       "      <th>emp_length</th>\n",
       "      <td>42535.0</td>\n",
       "      <td>3.0</td>\n",
       "    </tr>\n",
       "    <tr>\n",
       "      <th>emp_title</th>\n",
       "      <td>39911.0</td>\n",
       "      <td>2627.0</td>\n",
       "    </tr>\n",
       "    <tr>\n",
       "      <th>fico_range_high</th>\n",
       "      <td>42535.0</td>\n",
       "      <td>3.0</td>\n",
       "    </tr>\n",
       "    <tr>\n",
       "      <th>fico_range_low</th>\n",
       "      <td>42535.0</td>\n",
       "      <td>3.0</td>\n",
       "    </tr>\n",
       "    <tr>\n",
       "      <th>funded_amnt</th>\n",
       "      <td>42535.0</td>\n",
       "      <td>3.0</td>\n",
       "    </tr>\n",
       "    <tr>\n",
       "      <th>funded_amnt_inv</th>\n",
       "      <td>42535.0</td>\n",
       "      <td>3.0</td>\n",
       "    </tr>\n",
       "    <tr>\n",
       "      <th>grade</th>\n",
       "      <td>42535.0</td>\n",
       "      <td>3.0</td>\n",
       "    </tr>\n",
       "    <tr>\n",
       "      <th>hardship_amount</th>\n",
       "      <td>NaN</td>\n",
       "      <td>42538.0</td>\n",
       "    </tr>\n",
       "    <tr>\n",
       "      <th>hardship_dpd</th>\n",
       "      <td>NaN</td>\n",
       "      <td>42538.0</td>\n",
       "    </tr>\n",
       "    <tr>\n",
       "      <th>hardship_end_date</th>\n",
       "      <td>NaN</td>\n",
       "      <td>42538.0</td>\n",
       "    </tr>\n",
       "    <tr>\n",
       "      <th>...</th>\n",
       "      <td>...</td>\n",
       "      <td>...</td>\n",
       "    </tr>\n",
       "    <tr>\n",
       "      <th>sec_app_inq_last_6mths</th>\n",
       "      <td>NaN</td>\n",
       "      <td>42538.0</td>\n",
       "    </tr>\n",
       "    <tr>\n",
       "      <th>sec_app_mort_acc</th>\n",
       "      <td>NaN</td>\n",
       "      <td>42538.0</td>\n",
       "    </tr>\n",
       "    <tr>\n",
       "      <th>sec_app_mths_since_last_major_derog</th>\n",
       "      <td>NaN</td>\n",
       "      <td>42538.0</td>\n",
       "    </tr>\n",
       "    <tr>\n",
       "      <th>sec_app_num_rev_accts</th>\n",
       "      <td>NaN</td>\n",
       "      <td>42538.0</td>\n",
       "    </tr>\n",
       "    <tr>\n",
       "      <th>sec_app_open_acc</th>\n",
       "      <td>NaN</td>\n",
       "      <td>42538.0</td>\n",
       "    </tr>\n",
       "    <tr>\n",
       "      <th>sec_app_open_il_6m</th>\n",
       "      <td>NaN</td>\n",
       "      <td>42538.0</td>\n",
       "    </tr>\n",
       "    <tr>\n",
       "      <th>sec_app_revol_util</th>\n",
       "      <td>NaN</td>\n",
       "      <td>42538.0</td>\n",
       "    </tr>\n",
       "    <tr>\n",
       "      <th>sub_grade</th>\n",
       "      <td>42535.0</td>\n",
       "      <td>3.0</td>\n",
       "    </tr>\n",
       "    <tr>\n",
       "      <th>tax_liens</th>\n",
       "      <td>42430.0</td>\n",
       "      <td>108.0</td>\n",
       "    </tr>\n",
       "    <tr>\n",
       "      <th>term</th>\n",
       "      <td>42535.0</td>\n",
       "      <td>3.0</td>\n",
       "    </tr>\n",
       "    <tr>\n",
       "      <th>title</th>\n",
       "      <td>42523.0</td>\n",
       "      <td>15.0</td>\n",
       "    </tr>\n",
       "    <tr>\n",
       "      <th>tot_coll_amt</th>\n",
       "      <td>NaN</td>\n",
       "      <td>42538.0</td>\n",
       "    </tr>\n",
       "    <tr>\n",
       "      <th>tot_cur_bal</th>\n",
       "      <td>NaN</td>\n",
       "      <td>42538.0</td>\n",
       "    </tr>\n",
       "    <tr>\n",
       "      <th>tot_hi_cred_lim</th>\n",
       "      <td>NaN</td>\n",
       "      <td>42538.0</td>\n",
       "    </tr>\n",
       "    <tr>\n",
       "      <th>total_acc</th>\n",
       "      <td>42506.0</td>\n",
       "      <td>32.0</td>\n",
       "    </tr>\n",
       "    <tr>\n",
       "      <th>total_bal_ex_mort</th>\n",
       "      <td>NaN</td>\n",
       "      <td>42538.0</td>\n",
       "    </tr>\n",
       "    <tr>\n",
       "      <th>total_bal_il</th>\n",
       "      <td>NaN</td>\n",
       "      <td>42538.0</td>\n",
       "    </tr>\n",
       "    <tr>\n",
       "      <th>total_bc_limit</th>\n",
       "      <td>NaN</td>\n",
       "      <td>42538.0</td>\n",
       "    </tr>\n",
       "    <tr>\n",
       "      <th>total_cu_tl</th>\n",
       "      <td>NaN</td>\n",
       "      <td>42538.0</td>\n",
       "    </tr>\n",
       "    <tr>\n",
       "      <th>total_il_high_credit_limit</th>\n",
       "      <td>NaN</td>\n",
       "      <td>42538.0</td>\n",
       "    </tr>\n",
       "    <tr>\n",
       "      <th>total_pymnt</th>\n",
       "      <td>42535.0</td>\n",
       "      <td>3.0</td>\n",
       "    </tr>\n",
       "    <tr>\n",
       "      <th>total_pymnt_inv</th>\n",
       "      <td>42535.0</td>\n",
       "      <td>3.0</td>\n",
       "    </tr>\n",
       "    <tr>\n",
       "      <th>total_rec_int</th>\n",
       "      <td>42535.0</td>\n",
       "      <td>3.0</td>\n",
       "    </tr>\n",
       "    <tr>\n",
       "      <th>total_rec_late_fee</th>\n",
       "      <td>42535.0</td>\n",
       "      <td>3.0</td>\n",
       "    </tr>\n",
       "    <tr>\n",
       "      <th>total_rec_prncp</th>\n",
       "      <td>42535.0</td>\n",
       "      <td>3.0</td>\n",
       "    </tr>\n",
       "    <tr>\n",
       "      <th>total_rev_hi_lim</th>\n",
       "      <td>NaN</td>\n",
       "      <td>42538.0</td>\n",
       "    </tr>\n",
       "    <tr>\n",
       "      <th>url</th>\n",
       "      <td>42535.0</td>\n",
       "      <td>3.0</td>\n",
       "    </tr>\n",
       "    <tr>\n",
       "      <th>verification_status</th>\n",
       "      <td>42535.0</td>\n",
       "      <td>3.0</td>\n",
       "    </tr>\n",
       "    <tr>\n",
       "      <th>verification_status_joint</th>\n",
       "      <td>NaN</td>\n",
       "      <td>42538.0</td>\n",
       "    </tr>\n",
       "    <tr>\n",
       "      <th>zip_code</th>\n",
       "      <td>42535.0</td>\n",
       "      <td>3.0</td>\n",
       "    </tr>\n",
       "  </tbody>\n",
       "</table>\n",
       "<p>143 rows × 2 columns</p>\n",
       "</div>"
      ],
      "text/plain": [
       "                                       False    True \n",
       "acc_now_delinq                       42506.0     32.0\n",
       "acc_open_past_24mths                     NaN  42538.0\n",
       "addr_state                           42535.0      3.0\n",
       "all_util                                 NaN  42538.0\n",
       "annual_inc                           42531.0      7.0\n",
       "annual_inc_joint                         NaN  42538.0\n",
       "application_type                     42535.0      3.0\n",
       "avg_cur_bal                              NaN  42538.0\n",
       "bc_open_to_buy                           NaN  42538.0\n",
       "bc_util                                  NaN  42538.0\n",
       "chargeoff_within_12_mths             42390.0    148.0\n",
       "collection_recovery_fee              42535.0      3.0\n",
       "collections_12_mths_ex_med           42390.0    148.0\n",
       "deferral_term                            NaN  42538.0\n",
       "delinq_2yrs                          42506.0     32.0\n",
       "delinq_amnt                          42506.0     32.0\n",
       "desc                                 29243.0  13295.0\n",
       "dti                                  42535.0      3.0\n",
       "dti_joint                                NaN  42538.0\n",
       "earliest_cr_line                     42506.0     32.0\n",
       "emp_length                           42535.0      3.0\n",
       "emp_title                            39911.0   2627.0\n",
       "fico_range_high                      42535.0      3.0\n",
       "fico_range_low                       42535.0      3.0\n",
       "funded_amnt                          42535.0      3.0\n",
       "funded_amnt_inv                      42535.0      3.0\n",
       "grade                                42535.0      3.0\n",
       "hardship_amount                          NaN  42538.0\n",
       "hardship_dpd                             NaN  42538.0\n",
       "hardship_end_date                        NaN  42538.0\n",
       "...                                      ...      ...\n",
       "sec_app_inq_last_6mths                   NaN  42538.0\n",
       "sec_app_mort_acc                         NaN  42538.0\n",
       "sec_app_mths_since_last_major_derog      NaN  42538.0\n",
       "sec_app_num_rev_accts                    NaN  42538.0\n",
       "sec_app_open_acc                         NaN  42538.0\n",
       "sec_app_open_il_6m                       NaN  42538.0\n",
       "sec_app_revol_util                       NaN  42538.0\n",
       "sub_grade                            42535.0      3.0\n",
       "tax_liens                            42430.0    108.0\n",
       "term                                 42535.0      3.0\n",
       "title                                42523.0     15.0\n",
       "tot_coll_amt                             NaN  42538.0\n",
       "tot_cur_bal                              NaN  42538.0\n",
       "tot_hi_cred_lim                          NaN  42538.0\n",
       "total_acc                            42506.0     32.0\n",
       "total_bal_ex_mort                        NaN  42538.0\n",
       "total_bal_il                             NaN  42538.0\n",
       "total_bc_limit                           NaN  42538.0\n",
       "total_cu_tl                              NaN  42538.0\n",
       "total_il_high_credit_limit               NaN  42538.0\n",
       "total_pymnt                          42535.0      3.0\n",
       "total_pymnt_inv                      42535.0      3.0\n",
       "total_rec_int                        42535.0      3.0\n",
       "total_rec_late_fee                   42535.0      3.0\n",
       "total_rec_prncp                      42535.0      3.0\n",
       "total_rev_hi_lim                         NaN  42538.0\n",
       "url                                  42535.0      3.0\n",
       "verification_status                  42535.0      3.0\n",
       "verification_status_joint                NaN  42538.0\n",
       "zip_code                             42535.0      3.0\n",
       "\n",
       "[143 rows x 2 columns]"
      ]
     },
     "execution_count": 7,
     "metadata": {},
     "output_type": "execute_result"
    }
   ],
   "source": [
    "nulls = null_counts(loans)\n",
    "# loans.info()\n",
    "# pd.isnull(loans['acc_open_past_24mths']).value_counts()\n",
    "nulls"
   ]
  },
  {
   "cell_type": "code",
   "execution_count": 8,
   "metadata": {
    "collapsed": true,
    "scrolled": false
   },
   "outputs": [],
   "source": [
    "#Filtering out columns which have all nulls or greater than 30000 nulls\n",
    "\n",
    "cols_idx = list(nulls.index[pd.isnull(nulls[False])]) + list(nulls.index[nulls[True]>30000])\n",
    "loans = loans.drop(cols_idx,axis=1)"
   ]
  },
  {
   "cell_type": "code",
   "execution_count": 9,
   "metadata": {},
   "outputs": [
    {
     "data": {
      "text/plain": [
       "(42538, 59)"
      ]
     },
     "execution_count": 9,
     "metadata": {},
     "output_type": "execute_result"
    }
   ],
   "source": [
    "loans.shape"
   ]
  },
  {
   "cell_type": "code",
   "execution_count": 10,
   "metadata": {},
   "outputs": [
    {
     "data": {
      "text/html": [
       "<div>\n",
       "<style>\n",
       "    .dataframe thead tr:only-child th {\n",
       "        text-align: right;\n",
       "    }\n",
       "\n",
       "    .dataframe thead th {\n",
       "        text-align: left;\n",
       "    }\n",
       "\n",
       "    .dataframe tbody tr th {\n",
       "        vertical-align: top;\n",
       "    }\n",
       "</style>\n",
       "<table border=\"1\" class=\"dataframe\">\n",
       "  <thead>\n",
       "    <tr style=\"text-align: right;\">\n",
       "      <th></th>\n",
       "      <th>id</th>\n",
       "      <th>loan_amnt</th>\n",
       "      <th>funded_amnt</th>\n",
       "      <th>funded_amnt_inv</th>\n",
       "      <th>term</th>\n",
       "      <th>int_rate</th>\n",
       "      <th>installment</th>\n",
       "      <th>grade</th>\n",
       "      <th>sub_grade</th>\n",
       "      <th>emp_title</th>\n",
       "      <th>...</th>\n",
       "      <th>last_fico_range_low</th>\n",
       "      <th>collections_12_mths_ex_med</th>\n",
       "      <th>policy_code</th>\n",
       "      <th>application_type</th>\n",
       "      <th>acc_now_delinq</th>\n",
       "      <th>chargeoff_within_12_mths</th>\n",
       "      <th>delinq_amnt</th>\n",
       "      <th>pub_rec_bankruptcies</th>\n",
       "      <th>tax_liens</th>\n",
       "      <th>hardship_flag</th>\n",
       "    </tr>\n",
       "  </thead>\n",
       "  <tbody>\n",
       "    <tr>\n",
       "      <th>8990</th>\n",
       "      <td>856595</td>\n",
       "      <td>2000.0</td>\n",
       "      <td>2000.0</td>\n",
       "      <td>2000.0</td>\n",
       "      <td>60 months</td>\n",
       "      <td>20.25%</td>\n",
       "      <td>53.27</td>\n",
       "      <td>F</td>\n",
       "      <td>F1</td>\n",
       "      <td>International Code Council</td>\n",
       "      <td>...</td>\n",
       "      <td>750.0</td>\n",
       "      <td>0.0</td>\n",
       "      <td>1.0</td>\n",
       "      <td>INDIVIDUAL</td>\n",
       "      <td>0.0</td>\n",
       "      <td>0.0</td>\n",
       "      <td>0.0</td>\n",
       "      <td>0.0</td>\n",
       "      <td>0.0</td>\n",
       "      <td>N</td>\n",
       "    </tr>\n",
       "    <tr>\n",
       "      <th>39767</th>\n",
       "      <td>98982</td>\n",
       "      <td>5000.0</td>\n",
       "      <td>5000.0</td>\n",
       "      <td>675.0</td>\n",
       "      <td>36 months</td>\n",
       "      <td>9.01%</td>\n",
       "      <td>159.03</td>\n",
       "      <td>B</td>\n",
       "      <td>B2</td>\n",
       "      <td>Viget Labs</td>\n",
       "      <td>...</td>\n",
       "      <td>760.0</td>\n",
       "      <td>NaN</td>\n",
       "      <td>1.0</td>\n",
       "      <td>INDIVIDUAL</td>\n",
       "      <td>0.0</td>\n",
       "      <td>NaN</td>\n",
       "      <td>0.0</td>\n",
       "      <td>NaN</td>\n",
       "      <td>NaN</td>\n",
       "      <td>N</td>\n",
       "    </tr>\n",
       "    <tr>\n",
       "      <th>25154</th>\n",
       "      <td>590278</td>\n",
       "      <td>4000.0</td>\n",
       "      <td>4000.0</td>\n",
       "      <td>4000.0</td>\n",
       "      <td>36 months</td>\n",
       "      <td>6.76%</td>\n",
       "      <td>123.07</td>\n",
       "      <td>A</td>\n",
       "      <td>A2</td>\n",
       "      <td>Pinal County Adult Probation</td>\n",
       "      <td>...</td>\n",
       "      <td>810.0</td>\n",
       "      <td>0.0</td>\n",
       "      <td>1.0</td>\n",
       "      <td>INDIVIDUAL</td>\n",
       "      <td>0.0</td>\n",
       "      <td>0.0</td>\n",
       "      <td>0.0</td>\n",
       "      <td>0.0</td>\n",
       "      <td>0.0</td>\n",
       "      <td>N</td>\n",
       "    </tr>\n",
       "    <tr>\n",
       "      <th>40522</th>\n",
       "      <td>502881</td>\n",
       "      <td>5000.0</td>\n",
       "      <td>5000.0</td>\n",
       "      <td>5000.0</td>\n",
       "      <td>36 months</td>\n",
       "      <td>17.93%</td>\n",
       "      <td>180.59</td>\n",
       "      <td>E</td>\n",
       "      <td>E5</td>\n",
       "      <td>Exterran Energy</td>\n",
       "      <td>...</td>\n",
       "      <td>635.0</td>\n",
       "      <td>0.0</td>\n",
       "      <td>1.0</td>\n",
       "      <td>INDIVIDUAL</td>\n",
       "      <td>0.0</td>\n",
       "      <td>0.0</td>\n",
       "      <td>0.0</td>\n",
       "      <td>0.0</td>\n",
       "      <td>0.0</td>\n",
       "      <td>N</td>\n",
       "    </tr>\n",
       "    <tr>\n",
       "      <th>27773</th>\n",
       "      <td>535806</td>\n",
       "      <td>17000.0</td>\n",
       "      <td>17000.0</td>\n",
       "      <td>16675.0</td>\n",
       "      <td>60 months</td>\n",
       "      <td>11.12%</td>\n",
       "      <td>370.64</td>\n",
       "      <td>B</td>\n",
       "      <td>B3</td>\n",
       "      <td>ODI Teledyne</td>\n",
       "      <td>...</td>\n",
       "      <td>795.0</td>\n",
       "      <td>0.0</td>\n",
       "      <td>1.0</td>\n",
       "      <td>INDIVIDUAL</td>\n",
       "      <td>0.0</td>\n",
       "      <td>0.0</td>\n",
       "      <td>0.0</td>\n",
       "      <td>0.0</td>\n",
       "      <td>0.0</td>\n",
       "      <td>N</td>\n",
       "    </tr>\n",
       "  </tbody>\n",
       "</table>\n",
       "<p>5 rows × 59 columns</p>\n",
       "</div>"
      ],
      "text/plain": [
       "           id  loan_amnt  funded_amnt  funded_amnt_inv        term int_rate  \\\n",
       "8990   856595     2000.0       2000.0           2000.0   60 months   20.25%   \n",
       "39767   98982     5000.0       5000.0            675.0   36 months    9.01%   \n",
       "25154  590278     4000.0       4000.0           4000.0   36 months    6.76%   \n",
       "40522  502881     5000.0       5000.0           5000.0   36 months   17.93%   \n",
       "27773  535806    17000.0      17000.0          16675.0   60 months   11.12%   \n",
       "\n",
       "       installment grade sub_grade                     emp_title  \\\n",
       "8990         53.27     F        F1    International Code Council   \n",
       "39767       159.03     B        B2                    Viget Labs   \n",
       "25154       123.07     A        A2  Pinal County Adult Probation   \n",
       "40522       180.59     E        E5               Exterran Energy   \n",
       "27773       370.64     B        B3                  ODI Teledyne   \n",
       "\n",
       "           ...      last_fico_range_low collections_12_mths_ex_med  \\\n",
       "8990       ...                    750.0                        0.0   \n",
       "39767      ...                    760.0                        NaN   \n",
       "25154      ...                    810.0                        0.0   \n",
       "40522      ...                    635.0                        0.0   \n",
       "27773      ...                    795.0                        0.0   \n",
       "\n",
       "       policy_code application_type acc_now_delinq chargeoff_within_12_mths  \\\n",
       "8990           1.0       INDIVIDUAL            0.0                      0.0   \n",
       "39767          1.0       INDIVIDUAL            0.0                      NaN   \n",
       "25154          1.0       INDIVIDUAL            0.0                      0.0   \n",
       "40522          1.0       INDIVIDUAL            0.0                      0.0   \n",
       "27773          1.0       INDIVIDUAL            0.0                      0.0   \n",
       "\n",
       "      delinq_amnt pub_rec_bankruptcies tax_liens hardship_flag  \n",
       "8990          0.0                  0.0       0.0             N  \n",
       "39767         0.0                  NaN       NaN             N  \n",
       "25154         0.0                  0.0       0.0             N  \n",
       "40522         0.0                  0.0       0.0             N  \n",
       "27773         0.0                  0.0       0.0             N  \n",
       "\n",
       "[5 rows x 59 columns]"
      ]
     },
     "execution_count": 10,
     "metadata": {},
     "output_type": "execute_result"
    }
   ],
   "source": [
    "loans.sample(5)"
   ]
  },
  {
   "cell_type": "code",
   "execution_count": 11,
   "metadata": {
    "collapsed": true
   },
   "outputs": [],
   "source": [
    "# loans[['desc','emp_title']]"
   ]
  },
  {
   "cell_type": "code",
   "execution_count": 12,
   "metadata": {},
   "outputs": [
    {
     "data": {
      "text/plain": [
       "Index(['id', 'loan_amnt', 'funded_amnt', 'funded_amnt_inv', 'term', 'int_rate',\n",
       "       'installment', 'grade', 'sub_grade', 'emp_title', 'emp_length',\n",
       "       'home_ownership', 'annual_inc', 'verification_status', 'issue_d',\n",
       "       'loan_status', 'pymnt_plan', 'url', 'desc', 'purpose', 'title',\n",
       "       'zip_code', 'addr_state', 'dti', 'delinq_2yrs', 'earliest_cr_line',\n",
       "       'fico_range_low', 'fico_range_high', 'inq_last_6mths',\n",
       "       'mths_since_last_delinq', 'open_acc', 'pub_rec', 'revol_bal',\n",
       "       'revol_util', 'total_acc', 'initial_list_status', 'out_prncp',\n",
       "       'out_prncp_inv', 'total_pymnt', 'total_pymnt_inv', 'total_rec_prncp',\n",
       "       'total_rec_int', 'total_rec_late_fee', 'recoveries',\n",
       "       'collection_recovery_fee', 'last_pymnt_d', 'last_pymnt_amnt',\n",
       "       'last_credit_pull_d', 'last_fico_range_high', 'last_fico_range_low',\n",
       "       'collections_12_mths_ex_med', 'policy_code', 'application_type',\n",
       "       'acc_now_delinq', 'chargeoff_within_12_mths', 'delinq_amnt',\n",
       "       'pub_rec_bankruptcies', 'tax_liens', 'hardship_flag'],\n",
       "      dtype='object')"
      ]
     },
     "execution_count": 12,
     "metadata": {},
     "output_type": "execute_result"
    }
   ],
   "source": [
    "loans.columns"
   ]
  },
  {
   "cell_type": "code",
   "execution_count": 13,
   "metadata": {},
   "outputs": [
    {
     "data": {
      "text/html": [
       "<div>\n",
       "<style>\n",
       "    .dataframe thead tr:only-child th {\n",
       "        text-align: right;\n",
       "    }\n",
       "\n",
       "    .dataframe thead th {\n",
       "        text-align: left;\n",
       "    }\n",
       "\n",
       "    .dataframe tbody tr th {\n",
       "        vertical-align: top;\n",
       "    }\n",
       "</style>\n",
       "<table border=\"1\" class=\"dataframe\">\n",
       "  <thead>\n",
       "    <tr style=\"text-align: right;\">\n",
       "      <th></th>\n",
       "      <th>id</th>\n",
       "      <th>loan_amnt</th>\n",
       "      <th>funded_amnt</th>\n",
       "      <th>funded_amnt_inv</th>\n",
       "      <th>term</th>\n",
       "      <th>int_rate</th>\n",
       "      <th>installment</th>\n",
       "      <th>grade</th>\n",
       "      <th>sub_grade</th>\n",
       "      <th>emp_title</th>\n",
       "      <th>...</th>\n",
       "      <th>last_fico_range_low</th>\n",
       "      <th>collections_12_mths_ex_med</th>\n",
       "      <th>policy_code</th>\n",
       "      <th>application_type</th>\n",
       "      <th>acc_now_delinq</th>\n",
       "      <th>chargeoff_within_12_mths</th>\n",
       "      <th>delinq_amnt</th>\n",
       "      <th>pub_rec_bankruptcies</th>\n",
       "      <th>tax_liens</th>\n",
       "      <th>hardship_flag</th>\n",
       "    </tr>\n",
       "  </thead>\n",
       "  <tbody>\n",
       "    <tr>\n",
       "      <th>39786</th>\n",
       "      <td>Loans that do not meet the credit policy</td>\n",
       "      <td>NaN</td>\n",
       "      <td>NaN</td>\n",
       "      <td>NaN</td>\n",
       "      <td>NaN</td>\n",
       "      <td>NaN</td>\n",
       "      <td>NaN</td>\n",
       "      <td>NaN</td>\n",
       "      <td>NaN</td>\n",
       "      <td>NaN</td>\n",
       "      <td>...</td>\n",
       "      <td>NaN</td>\n",
       "      <td>NaN</td>\n",
       "      <td>NaN</td>\n",
       "      <td>NaN</td>\n",
       "      <td>NaN</td>\n",
       "      <td>NaN</td>\n",
       "      <td>NaN</td>\n",
       "      <td>NaN</td>\n",
       "      <td>NaN</td>\n",
       "      <td>NaN</td>\n",
       "    </tr>\n",
       "    <tr>\n",
       "      <th>42536</th>\n",
       "      <td>Total amount funded in policy code 1: 460296150</td>\n",
       "      <td>NaN</td>\n",
       "      <td>NaN</td>\n",
       "      <td>NaN</td>\n",
       "      <td>NaN</td>\n",
       "      <td>NaN</td>\n",
       "      <td>NaN</td>\n",
       "      <td>NaN</td>\n",
       "      <td>NaN</td>\n",
       "      <td>NaN</td>\n",
       "      <td>...</td>\n",
       "      <td>NaN</td>\n",
       "      <td>NaN</td>\n",
       "      <td>NaN</td>\n",
       "      <td>NaN</td>\n",
       "      <td>NaN</td>\n",
       "      <td>NaN</td>\n",
       "      <td>NaN</td>\n",
       "      <td>NaN</td>\n",
       "      <td>NaN</td>\n",
       "      <td>NaN</td>\n",
       "    </tr>\n",
       "    <tr>\n",
       "      <th>42537</th>\n",
       "      <td>Total amount funded in policy code 2: 0</td>\n",
       "      <td>NaN</td>\n",
       "      <td>NaN</td>\n",
       "      <td>NaN</td>\n",
       "      <td>NaN</td>\n",
       "      <td>NaN</td>\n",
       "      <td>NaN</td>\n",
       "      <td>NaN</td>\n",
       "      <td>NaN</td>\n",
       "      <td>NaN</td>\n",
       "      <td>...</td>\n",
       "      <td>NaN</td>\n",
       "      <td>NaN</td>\n",
       "      <td>NaN</td>\n",
       "      <td>NaN</td>\n",
       "      <td>NaN</td>\n",
       "      <td>NaN</td>\n",
       "      <td>NaN</td>\n",
       "      <td>NaN</td>\n",
       "      <td>NaN</td>\n",
       "      <td>NaN</td>\n",
       "    </tr>\n",
       "  </tbody>\n",
       "</table>\n",
       "<p>3 rows × 59 columns</p>\n",
       "</div>"
      ],
      "text/plain": [
       "                                                    id  loan_amnt  \\\n",
       "39786         Loans that do not meet the credit policy        NaN   \n",
       "42536  Total amount funded in policy code 1: 460296150        NaN   \n",
       "42537          Total amount funded in policy code 2: 0        NaN   \n",
       "\n",
       "       funded_amnt  funded_amnt_inv term int_rate  installment grade  \\\n",
       "39786          NaN              NaN  NaN      NaN          NaN   NaN   \n",
       "42536          NaN              NaN  NaN      NaN          NaN   NaN   \n",
       "42537          NaN              NaN  NaN      NaN          NaN   NaN   \n",
       "\n",
       "      sub_grade emp_title      ...      last_fico_range_low  \\\n",
       "39786       NaN       NaN      ...                      NaN   \n",
       "42536       NaN       NaN      ...                      NaN   \n",
       "42537       NaN       NaN      ...                      NaN   \n",
       "\n",
       "      collections_12_mths_ex_med  policy_code application_type acc_now_delinq  \\\n",
       "39786                        NaN          NaN              NaN            NaN   \n",
       "42536                        NaN          NaN              NaN            NaN   \n",
       "42537                        NaN          NaN              NaN            NaN   \n",
       "\n",
       "      chargeoff_within_12_mths delinq_amnt pub_rec_bankruptcies tax_liens  \\\n",
       "39786                      NaN         NaN                  NaN       NaN   \n",
       "42536                      NaN         NaN                  NaN       NaN   \n",
       "42537                      NaN         NaN                  NaN       NaN   \n",
       "\n",
       "      hardship_flag  \n",
       "39786           NaN  \n",
       "42536           NaN  \n",
       "42537           NaN  \n",
       "\n",
       "[3 rows x 59 columns]"
      ]
     },
     "execution_count": 13,
     "metadata": {},
     "output_type": "execute_result"
    }
   ],
   "source": [
    "#3 Rows are null across columns:\n",
    "\n",
    "\n",
    "loans.loc[pd.isnull(loans['addr_state']),:]"
   ]
  },
  {
   "cell_type": "code",
   "execution_count": 14,
   "metadata": {
    "collapsed": true
   },
   "outputs": [],
   "source": [
    "#Dropping them\n",
    "loans = loans.dropna(subset=['addr_state'])"
   ]
  },
  {
   "cell_type": "code",
   "execution_count": 15,
   "metadata": {},
   "outputs": [
    {
     "data": {
      "text/plain": [
       "(42535, 59)"
      ]
     },
     "execution_count": 15,
     "metadata": {},
     "output_type": "execute_result"
    }
   ],
   "source": [
    "loans.shape"
   ]
  },
  {
   "cell_type": "code",
   "execution_count": 16,
   "metadata": {},
   "outputs": [
    {
     "data": {
      "text/html": [
       "<div>\n",
       "<style>\n",
       "    .dataframe thead tr:only-child th {\n",
       "        text-align: right;\n",
       "    }\n",
       "\n",
       "    .dataframe thead th {\n",
       "        text-align: left;\n",
       "    }\n",
       "\n",
       "    .dataframe tbody tr th {\n",
       "        vertical-align: top;\n",
       "    }\n",
       "</style>\n",
       "<table border=\"1\" class=\"dataframe\">\n",
       "  <thead>\n",
       "    <tr style=\"text-align: right;\">\n",
       "      <th></th>\n",
       "      <th>id</th>\n",
       "      <th>loan_amnt</th>\n",
       "      <th>funded_amnt</th>\n",
       "      <th>funded_amnt_inv</th>\n",
       "      <th>term</th>\n",
       "      <th>int_rate</th>\n",
       "      <th>installment</th>\n",
       "      <th>grade</th>\n",
       "      <th>sub_grade</th>\n",
       "      <th>emp_title</th>\n",
       "      <th>...</th>\n",
       "      <th>last_fico_range_low</th>\n",
       "      <th>collections_12_mths_ex_med</th>\n",
       "      <th>policy_code</th>\n",
       "      <th>application_type</th>\n",
       "      <th>acc_now_delinq</th>\n",
       "      <th>chargeoff_within_12_mths</th>\n",
       "      <th>delinq_amnt</th>\n",
       "      <th>pub_rec_bankruptcies</th>\n",
       "      <th>tax_liens</th>\n",
       "      <th>hardship_flag</th>\n",
       "    </tr>\n",
       "  </thead>\n",
       "  <tbody>\n",
       "    <tr>\n",
       "      <th>32566</th>\n",
       "      <td>481447</td>\n",
       "      <td>8800.0</td>\n",
       "      <td>8800.0</td>\n",
       "      <td>8800.0</td>\n",
       "      <td>36 months</td>\n",
       "      <td>13.85%</td>\n",
       "      <td>300.12</td>\n",
       "      <td>C</td>\n",
       "      <td>C4</td>\n",
       "      <td>lowes rdc961</td>\n",
       "      <td>...</td>\n",
       "      <td>655.0</td>\n",
       "      <td>0.0</td>\n",
       "      <td>1.0</td>\n",
       "      <td>INDIVIDUAL</td>\n",
       "      <td>0.0</td>\n",
       "      <td>0.0</td>\n",
       "      <td>0.0</td>\n",
       "      <td>0.0</td>\n",
       "      <td>0.0</td>\n",
       "      <td>N</td>\n",
       "    </tr>\n",
       "    <tr>\n",
       "      <th>35051</th>\n",
       "      <td>443433</td>\n",
       "      <td>16000.0</td>\n",
       "      <td>16000.0</td>\n",
       "      <td>15825.0</td>\n",
       "      <td>36 months</td>\n",
       "      <td>11.14%</td>\n",
       "      <td>524.86</td>\n",
       "      <td>B</td>\n",
       "      <td>B1</td>\n",
       "      <td>Wells Fargo</td>\n",
       "      <td>...</td>\n",
       "      <td>815.0</td>\n",
       "      <td>0.0</td>\n",
       "      <td>1.0</td>\n",
       "      <td>INDIVIDUAL</td>\n",
       "      <td>0.0</td>\n",
       "      <td>0.0</td>\n",
       "      <td>0.0</td>\n",
       "      <td>0.0</td>\n",
       "      <td>0.0</td>\n",
       "      <td>N</td>\n",
       "    </tr>\n",
       "    <tr>\n",
       "      <th>8194</th>\n",
       "      <td>861768</td>\n",
       "      <td>12000.0</td>\n",
       "      <td>12000.0</td>\n",
       "      <td>11650.0</td>\n",
       "      <td>60 months</td>\n",
       "      <td>8.49%</td>\n",
       "      <td>246.15</td>\n",
       "      <td>A</td>\n",
       "      <td>A5</td>\n",
       "      <td>Dr. Carol Cunningham</td>\n",
       "      <td>...</td>\n",
       "      <td>690.0</td>\n",
       "      <td>0.0</td>\n",
       "      <td>1.0</td>\n",
       "      <td>INDIVIDUAL</td>\n",
       "      <td>0.0</td>\n",
       "      <td>0.0</td>\n",
       "      <td>0.0</td>\n",
       "      <td>0.0</td>\n",
       "      <td>0.0</td>\n",
       "      <td>N</td>\n",
       "    </tr>\n",
       "  </tbody>\n",
       "</table>\n",
       "<p>3 rows × 59 columns</p>\n",
       "</div>"
      ],
      "text/plain": [
       "           id  loan_amnt  funded_amnt  funded_amnt_inv        term int_rate  \\\n",
       "32566  481447     8800.0       8800.0           8800.0   36 months   13.85%   \n",
       "35051  443433    16000.0      16000.0          15825.0   36 months   11.14%   \n",
       "8194   861768    12000.0      12000.0          11650.0   60 months    8.49%   \n",
       "\n",
       "       installment grade sub_grade             emp_title      ...       \\\n",
       "32566       300.12     C        C4          lowes rdc961      ...        \n",
       "35051       524.86     B        B1           Wells Fargo      ...        \n",
       "8194        246.15     A        A5  Dr. Carol Cunningham      ...        \n",
       "\n",
       "      last_fico_range_low collections_12_mths_ex_med  policy_code  \\\n",
       "32566               655.0                        0.0          1.0   \n",
       "35051               815.0                        0.0          1.0   \n",
       "8194                690.0                        0.0          1.0   \n",
       "\n",
       "      application_type acc_now_delinq chargeoff_within_12_mths delinq_amnt  \\\n",
       "32566       INDIVIDUAL            0.0                      0.0         0.0   \n",
       "35051       INDIVIDUAL            0.0                      0.0         0.0   \n",
       "8194        INDIVIDUAL            0.0                      0.0         0.0   \n",
       "\n",
       "      pub_rec_bankruptcies tax_liens hardship_flag  \n",
       "32566                  0.0       0.0             N  \n",
       "35051                  0.0       0.0             N  \n",
       "8194                   0.0       0.0             N  \n",
       "\n",
       "[3 rows x 59 columns]"
      ]
     },
     "execution_count": 16,
     "metadata": {},
     "output_type": "execute_result"
    }
   ],
   "source": [
    "loans.sample(3)"
   ]
  },
  {
   "cell_type": "code",
   "execution_count": null,
   "metadata": {
    "collapsed": true
   },
   "outputs": [],
   "source": []
  },
  {
   "cell_type": "markdown",
   "metadata": {},
   "source": [
    "# Looking at columns with some nulls :"
   ]
  },
  {
   "cell_type": "code",
   "execution_count": 17,
   "metadata": {
    "scrolled": false
   },
   "outputs": [
    {
     "data": {
      "text/html": [
       "<div>\n",
       "<style>\n",
       "    .dataframe thead tr:only-child th {\n",
       "        text-align: right;\n",
       "    }\n",
       "\n",
       "    .dataframe thead th {\n",
       "        text-align: left;\n",
       "    }\n",
       "\n",
       "    .dataframe tbody tr th {\n",
       "        vertical-align: top;\n",
       "    }\n",
       "</style>\n",
       "<table border=\"1\" class=\"dataframe\">\n",
       "  <thead>\n",
       "    <tr style=\"text-align: right;\">\n",
       "      <th></th>\n",
       "      <th>False</th>\n",
       "      <th>True</th>\n",
       "    </tr>\n",
       "  </thead>\n",
       "  <tbody>\n",
       "    <tr>\n",
       "      <th>acc_now_delinq</th>\n",
       "      <td>42506.0</td>\n",
       "      <td>29.0</td>\n",
       "    </tr>\n",
       "    <tr>\n",
       "      <th>addr_state</th>\n",
       "      <td>42535.0</td>\n",
       "      <td>NaN</td>\n",
       "    </tr>\n",
       "    <tr>\n",
       "      <th>annual_inc</th>\n",
       "      <td>42531.0</td>\n",
       "      <td>4.0</td>\n",
       "    </tr>\n",
       "    <tr>\n",
       "      <th>application_type</th>\n",
       "      <td>42535.0</td>\n",
       "      <td>NaN</td>\n",
       "    </tr>\n",
       "    <tr>\n",
       "      <th>chargeoff_within_12_mths</th>\n",
       "      <td>42390.0</td>\n",
       "      <td>145.0</td>\n",
       "    </tr>\n",
       "    <tr>\n",
       "      <th>collection_recovery_fee</th>\n",
       "      <td>42535.0</td>\n",
       "      <td>NaN</td>\n",
       "    </tr>\n",
       "    <tr>\n",
       "      <th>collections_12_mths_ex_med</th>\n",
       "      <td>42390.0</td>\n",
       "      <td>145.0</td>\n",
       "    </tr>\n",
       "    <tr>\n",
       "      <th>delinq_2yrs</th>\n",
       "      <td>42506.0</td>\n",
       "      <td>29.0</td>\n",
       "    </tr>\n",
       "    <tr>\n",
       "      <th>delinq_amnt</th>\n",
       "      <td>42506.0</td>\n",
       "      <td>29.0</td>\n",
       "    </tr>\n",
       "    <tr>\n",
       "      <th>desc</th>\n",
       "      <td>29243.0</td>\n",
       "      <td>13292.0</td>\n",
       "    </tr>\n",
       "    <tr>\n",
       "      <th>dti</th>\n",
       "      <td>42535.0</td>\n",
       "      <td>NaN</td>\n",
       "    </tr>\n",
       "    <tr>\n",
       "      <th>earliest_cr_line</th>\n",
       "      <td>42506.0</td>\n",
       "      <td>29.0</td>\n",
       "    </tr>\n",
       "    <tr>\n",
       "      <th>emp_length</th>\n",
       "      <td>42535.0</td>\n",
       "      <td>NaN</td>\n",
       "    </tr>\n",
       "    <tr>\n",
       "      <th>emp_title</th>\n",
       "      <td>39911.0</td>\n",
       "      <td>2624.0</td>\n",
       "    </tr>\n",
       "    <tr>\n",
       "      <th>fico_range_high</th>\n",
       "      <td>42535.0</td>\n",
       "      <td>NaN</td>\n",
       "    </tr>\n",
       "    <tr>\n",
       "      <th>fico_range_low</th>\n",
       "      <td>42535.0</td>\n",
       "      <td>NaN</td>\n",
       "    </tr>\n",
       "    <tr>\n",
       "      <th>funded_amnt</th>\n",
       "      <td>42535.0</td>\n",
       "      <td>NaN</td>\n",
       "    </tr>\n",
       "    <tr>\n",
       "      <th>funded_amnt_inv</th>\n",
       "      <td>42535.0</td>\n",
       "      <td>NaN</td>\n",
       "    </tr>\n",
       "    <tr>\n",
       "      <th>grade</th>\n",
       "      <td>42535.0</td>\n",
       "      <td>NaN</td>\n",
       "    </tr>\n",
       "    <tr>\n",
       "      <th>hardship_flag</th>\n",
       "      <td>42535.0</td>\n",
       "      <td>NaN</td>\n",
       "    </tr>\n",
       "    <tr>\n",
       "      <th>home_ownership</th>\n",
       "      <td>42535.0</td>\n",
       "      <td>NaN</td>\n",
       "    </tr>\n",
       "    <tr>\n",
       "      <th>id</th>\n",
       "      <td>42535.0</td>\n",
       "      <td>NaN</td>\n",
       "    </tr>\n",
       "    <tr>\n",
       "      <th>initial_list_status</th>\n",
       "      <td>42535.0</td>\n",
       "      <td>NaN</td>\n",
       "    </tr>\n",
       "    <tr>\n",
       "      <th>inq_last_6mths</th>\n",
       "      <td>42506.0</td>\n",
       "      <td>29.0</td>\n",
       "    </tr>\n",
       "    <tr>\n",
       "      <th>installment</th>\n",
       "      <td>42535.0</td>\n",
       "      <td>NaN</td>\n",
       "    </tr>\n",
       "    <tr>\n",
       "      <th>int_rate</th>\n",
       "      <td>42535.0</td>\n",
       "      <td>NaN</td>\n",
       "    </tr>\n",
       "    <tr>\n",
       "      <th>issue_d</th>\n",
       "      <td>42535.0</td>\n",
       "      <td>NaN</td>\n",
       "    </tr>\n",
       "    <tr>\n",
       "      <th>last_credit_pull_d</th>\n",
       "      <td>42531.0</td>\n",
       "      <td>4.0</td>\n",
       "    </tr>\n",
       "    <tr>\n",
       "      <th>last_fico_range_high</th>\n",
       "      <td>42535.0</td>\n",
       "      <td>NaN</td>\n",
       "    </tr>\n",
       "    <tr>\n",
       "      <th>last_fico_range_low</th>\n",
       "      <td>42535.0</td>\n",
       "      <td>NaN</td>\n",
       "    </tr>\n",
       "    <tr>\n",
       "      <th>last_pymnt_amnt</th>\n",
       "      <td>42535.0</td>\n",
       "      <td>NaN</td>\n",
       "    </tr>\n",
       "    <tr>\n",
       "      <th>last_pymnt_d</th>\n",
       "      <td>42452.0</td>\n",
       "      <td>83.0</td>\n",
       "    </tr>\n",
       "    <tr>\n",
       "      <th>loan_amnt</th>\n",
       "      <td>42535.0</td>\n",
       "      <td>NaN</td>\n",
       "    </tr>\n",
       "    <tr>\n",
       "      <th>loan_status</th>\n",
       "      <td>42535.0</td>\n",
       "      <td>NaN</td>\n",
       "    </tr>\n",
       "    <tr>\n",
       "      <th>mths_since_last_delinq</th>\n",
       "      <td>15609.0</td>\n",
       "      <td>26926.0</td>\n",
       "    </tr>\n",
       "    <tr>\n",
       "      <th>open_acc</th>\n",
       "      <td>42506.0</td>\n",
       "      <td>29.0</td>\n",
       "    </tr>\n",
       "    <tr>\n",
       "      <th>out_prncp</th>\n",
       "      <td>42535.0</td>\n",
       "      <td>NaN</td>\n",
       "    </tr>\n",
       "    <tr>\n",
       "      <th>out_prncp_inv</th>\n",
       "      <td>42535.0</td>\n",
       "      <td>NaN</td>\n",
       "    </tr>\n",
       "    <tr>\n",
       "      <th>policy_code</th>\n",
       "      <td>42535.0</td>\n",
       "      <td>NaN</td>\n",
       "    </tr>\n",
       "    <tr>\n",
       "      <th>pub_rec</th>\n",
       "      <td>42506.0</td>\n",
       "      <td>29.0</td>\n",
       "    </tr>\n",
       "    <tr>\n",
       "      <th>pub_rec_bankruptcies</th>\n",
       "      <td>41170.0</td>\n",
       "      <td>1365.0</td>\n",
       "    </tr>\n",
       "    <tr>\n",
       "      <th>purpose</th>\n",
       "      <td>42535.0</td>\n",
       "      <td>NaN</td>\n",
       "    </tr>\n",
       "    <tr>\n",
       "      <th>pymnt_plan</th>\n",
       "      <td>42535.0</td>\n",
       "      <td>NaN</td>\n",
       "    </tr>\n",
       "    <tr>\n",
       "      <th>recoveries</th>\n",
       "      <td>42535.0</td>\n",
       "      <td>NaN</td>\n",
       "    </tr>\n",
       "    <tr>\n",
       "      <th>revol_bal</th>\n",
       "      <td>42535.0</td>\n",
       "      <td>NaN</td>\n",
       "    </tr>\n",
       "    <tr>\n",
       "      <th>revol_util</th>\n",
       "      <td>42445.0</td>\n",
       "      <td>90.0</td>\n",
       "    </tr>\n",
       "    <tr>\n",
       "      <th>sub_grade</th>\n",
       "      <td>42535.0</td>\n",
       "      <td>NaN</td>\n",
       "    </tr>\n",
       "    <tr>\n",
       "      <th>tax_liens</th>\n",
       "      <td>42430.0</td>\n",
       "      <td>105.0</td>\n",
       "    </tr>\n",
       "    <tr>\n",
       "      <th>term</th>\n",
       "      <td>42535.0</td>\n",
       "      <td>NaN</td>\n",
       "    </tr>\n",
       "    <tr>\n",
       "      <th>title</th>\n",
       "      <td>42523.0</td>\n",
       "      <td>12.0</td>\n",
       "    </tr>\n",
       "    <tr>\n",
       "      <th>total_acc</th>\n",
       "      <td>42506.0</td>\n",
       "      <td>29.0</td>\n",
       "    </tr>\n",
       "    <tr>\n",
       "      <th>total_pymnt</th>\n",
       "      <td>42535.0</td>\n",
       "      <td>NaN</td>\n",
       "    </tr>\n",
       "    <tr>\n",
       "      <th>total_pymnt_inv</th>\n",
       "      <td>42535.0</td>\n",
       "      <td>NaN</td>\n",
       "    </tr>\n",
       "    <tr>\n",
       "      <th>total_rec_int</th>\n",
       "      <td>42535.0</td>\n",
       "      <td>NaN</td>\n",
       "    </tr>\n",
       "    <tr>\n",
       "      <th>total_rec_late_fee</th>\n",
       "      <td>42535.0</td>\n",
       "      <td>NaN</td>\n",
       "    </tr>\n",
       "    <tr>\n",
       "      <th>total_rec_prncp</th>\n",
       "      <td>42535.0</td>\n",
       "      <td>NaN</td>\n",
       "    </tr>\n",
       "    <tr>\n",
       "      <th>url</th>\n",
       "      <td>42535.0</td>\n",
       "      <td>NaN</td>\n",
       "    </tr>\n",
       "    <tr>\n",
       "      <th>verification_status</th>\n",
       "      <td>42535.0</td>\n",
       "      <td>NaN</td>\n",
       "    </tr>\n",
       "    <tr>\n",
       "      <th>zip_code</th>\n",
       "      <td>42535.0</td>\n",
       "      <td>NaN</td>\n",
       "    </tr>\n",
       "  </tbody>\n",
       "</table>\n",
       "</div>"
      ],
      "text/plain": [
       "                              False    True \n",
       "acc_now_delinq              42506.0     29.0\n",
       "addr_state                  42535.0      NaN\n",
       "annual_inc                  42531.0      4.0\n",
       "application_type            42535.0      NaN\n",
       "chargeoff_within_12_mths    42390.0    145.0\n",
       "collection_recovery_fee     42535.0      NaN\n",
       "collections_12_mths_ex_med  42390.0    145.0\n",
       "delinq_2yrs                 42506.0     29.0\n",
       "delinq_amnt                 42506.0     29.0\n",
       "desc                        29243.0  13292.0\n",
       "dti                         42535.0      NaN\n",
       "earliest_cr_line            42506.0     29.0\n",
       "emp_length                  42535.0      NaN\n",
       "emp_title                   39911.0   2624.0\n",
       "fico_range_high             42535.0      NaN\n",
       "fico_range_low              42535.0      NaN\n",
       "funded_amnt                 42535.0      NaN\n",
       "funded_amnt_inv             42535.0      NaN\n",
       "grade                       42535.0      NaN\n",
       "hardship_flag               42535.0      NaN\n",
       "home_ownership              42535.0      NaN\n",
       "id                          42535.0      NaN\n",
       "initial_list_status         42535.0      NaN\n",
       "inq_last_6mths              42506.0     29.0\n",
       "installment                 42535.0      NaN\n",
       "int_rate                    42535.0      NaN\n",
       "issue_d                     42535.0      NaN\n",
       "last_credit_pull_d          42531.0      4.0\n",
       "last_fico_range_high        42535.0      NaN\n",
       "last_fico_range_low         42535.0      NaN\n",
       "last_pymnt_amnt             42535.0      NaN\n",
       "last_pymnt_d                42452.0     83.0\n",
       "loan_amnt                   42535.0      NaN\n",
       "loan_status                 42535.0      NaN\n",
       "mths_since_last_delinq      15609.0  26926.0\n",
       "open_acc                    42506.0     29.0\n",
       "out_prncp                   42535.0      NaN\n",
       "out_prncp_inv               42535.0      NaN\n",
       "policy_code                 42535.0      NaN\n",
       "pub_rec                     42506.0     29.0\n",
       "pub_rec_bankruptcies        41170.0   1365.0\n",
       "purpose                     42535.0      NaN\n",
       "pymnt_plan                  42535.0      NaN\n",
       "recoveries                  42535.0      NaN\n",
       "revol_bal                   42535.0      NaN\n",
       "revol_util                  42445.0     90.0\n",
       "sub_grade                   42535.0      NaN\n",
       "tax_liens                   42430.0    105.0\n",
       "term                        42535.0      NaN\n",
       "title                       42523.0     12.0\n",
       "total_acc                   42506.0     29.0\n",
       "total_pymnt                 42535.0      NaN\n",
       "total_pymnt_inv             42535.0      NaN\n",
       "total_rec_int               42535.0      NaN\n",
       "total_rec_late_fee          42535.0      NaN\n",
       "total_rec_prncp             42535.0      NaN\n",
       "url                         42535.0      NaN\n",
       "verification_status         42535.0      NaN\n",
       "zip_code                    42535.0      NaN"
      ]
     },
     "execution_count": 17,
     "metadata": {},
     "output_type": "execute_result"
    }
   ],
   "source": [
    "nulls = null_counts(loans)\n",
    "# loans.info()\n",
    "# pd.isnull(loans['acc_open_past_24mths']).value_counts()\n",
    "nulls"
   ]
  },
  {
   "cell_type": "markdown",
   "metadata": {},
   "source": [
    "## Binary categaorical variable columns:\n",
    "- Looking at value counts of binary categorical columns.\n",
    "- Selecting informative columns."
   ]
  },
  {
   "cell_type": "code",
   "execution_count": 18,
   "metadata": {
    "collapsed": true
   },
   "outputs": [],
   "source": [
    "def binary_col_counts(df):\n",
    "    binary_cols = [col for col in df.columns  if len(df[col].value_counts())<=2]\n",
    "    \n",
    "    return df.loc[:,binary_cols]\n",
    "            "
   ]
  },
  {
   "cell_type": "code",
   "execution_count": 19,
   "metadata": {},
   "outputs": [
    {
     "data": {
      "text/html": [
       "<div>\n",
       "<style>\n",
       "    .dataframe thead tr:only-child th {\n",
       "        text-align: right;\n",
       "    }\n",
       "\n",
       "    .dataframe thead th {\n",
       "        text-align: left;\n",
       "    }\n",
       "\n",
       "    .dataframe tbody tr th {\n",
       "        vertical-align: top;\n",
       "    }\n",
       "</style>\n",
       "<table border=\"1\" class=\"dataframe\">\n",
       "  <thead>\n",
       "    <tr style=\"text-align: right;\">\n",
       "      <th></th>\n",
       "      <th>term</th>\n",
       "      <th>pymnt_plan</th>\n",
       "      <th>initial_list_status</th>\n",
       "      <th>out_prncp</th>\n",
       "      <th>out_prncp_inv</th>\n",
       "      <th>collections_12_mths_ex_med</th>\n",
       "      <th>policy_code</th>\n",
       "      <th>application_type</th>\n",
       "      <th>acc_now_delinq</th>\n",
       "      <th>chargeoff_within_12_mths</th>\n",
       "      <th>tax_liens</th>\n",
       "      <th>hardship_flag</th>\n",
       "    </tr>\n",
       "  </thead>\n",
       "  <tbody>\n",
       "    <tr>\n",
       "      <th>6934</th>\n",
       "      <td>36 months</td>\n",
       "      <td>n</td>\n",
       "      <td>f</td>\n",
       "      <td>0.0</td>\n",
       "      <td>0.0</td>\n",
       "      <td>0.0</td>\n",
       "      <td>1.0</td>\n",
       "      <td>INDIVIDUAL</td>\n",
       "      <td>0.0</td>\n",
       "      <td>0.0</td>\n",
       "      <td>0.0</td>\n",
       "      <td>N</td>\n",
       "    </tr>\n",
       "    <tr>\n",
       "      <th>8487</th>\n",
       "      <td>36 months</td>\n",
       "      <td>n</td>\n",
       "      <td>f</td>\n",
       "      <td>0.0</td>\n",
       "      <td>0.0</td>\n",
       "      <td>0.0</td>\n",
       "      <td>1.0</td>\n",
       "      <td>INDIVIDUAL</td>\n",
       "      <td>0.0</td>\n",
       "      <td>0.0</td>\n",
       "      <td>0.0</td>\n",
       "      <td>N</td>\n",
       "    </tr>\n",
       "    <tr>\n",
       "      <th>41808</th>\n",
       "      <td>36 months</td>\n",
       "      <td>n</td>\n",
       "      <td>f</td>\n",
       "      <td>0.0</td>\n",
       "      <td>0.0</td>\n",
       "      <td>0.0</td>\n",
       "      <td>1.0</td>\n",
       "      <td>INDIVIDUAL</td>\n",
       "      <td>0.0</td>\n",
       "      <td>0.0</td>\n",
       "      <td>0.0</td>\n",
       "      <td>N</td>\n",
       "    </tr>\n",
       "    <tr>\n",
       "      <th>29027</th>\n",
       "      <td>60 months</td>\n",
       "      <td>n</td>\n",
       "      <td>f</td>\n",
       "      <td>0.0</td>\n",
       "      <td>0.0</td>\n",
       "      <td>0.0</td>\n",
       "      <td>1.0</td>\n",
       "      <td>INDIVIDUAL</td>\n",
       "      <td>0.0</td>\n",
       "      <td>0.0</td>\n",
       "      <td>0.0</td>\n",
       "      <td>N</td>\n",
       "    </tr>\n",
       "    <tr>\n",
       "      <th>11870</th>\n",
       "      <td>60 months</td>\n",
       "      <td>n</td>\n",
       "      <td>f</td>\n",
       "      <td>0.0</td>\n",
       "      <td>0.0</td>\n",
       "      <td>0.0</td>\n",
       "      <td>1.0</td>\n",
       "      <td>INDIVIDUAL</td>\n",
       "      <td>0.0</td>\n",
       "      <td>0.0</td>\n",
       "      <td>0.0</td>\n",
       "      <td>N</td>\n",
       "    </tr>\n",
       "  </tbody>\n",
       "</table>\n",
       "</div>"
      ],
      "text/plain": [
       "             term pymnt_plan initial_list_status  out_prncp  out_prncp_inv  \\\n",
       "6934    36 months          n                   f        0.0            0.0   \n",
       "8487    36 months          n                   f        0.0            0.0   \n",
       "41808   36 months          n                   f        0.0            0.0   \n",
       "29027   60 months          n                   f        0.0            0.0   \n",
       "11870   60 months          n                   f        0.0            0.0   \n",
       "\n",
       "       collections_12_mths_ex_med  policy_code application_type  \\\n",
       "6934                          0.0          1.0       INDIVIDUAL   \n",
       "8487                          0.0          1.0       INDIVIDUAL   \n",
       "41808                         0.0          1.0       INDIVIDUAL   \n",
       "29027                         0.0          1.0       INDIVIDUAL   \n",
       "11870                         0.0          1.0       INDIVIDUAL   \n",
       "\n",
       "       acc_now_delinq  chargeoff_within_12_mths  tax_liens hardship_flag  \n",
       "6934              0.0                       0.0        0.0             N  \n",
       "8487              0.0                       0.0        0.0             N  \n",
       "41808             0.0                       0.0        0.0             N  \n",
       "29027             0.0                       0.0        0.0             N  \n",
       "11870             0.0                       0.0        0.0             N  "
      ]
     },
     "execution_count": 19,
     "metadata": {},
     "output_type": "execute_result"
    }
   ],
   "source": [
    "binary_cols_df  = binary_col_counts(loans)\n",
    "binary_cols_df.sample(5)"
   ]
  },
  {
   "cell_type": "code",
   "execution_count": 20,
   "metadata": {},
   "outputs": [
    {
     "name": "stdout",
     "output_type": "stream",
     "text": [
      " 36 months    31534\n",
      " 60 months    11001\n",
      "Name: term, dtype: int64\n",
      "\n",
      "\n",
      "n    42535\n",
      "Name: pymnt_plan, dtype: int64\n",
      "\n",
      "\n",
      "f    42535\n",
      "Name: initial_list_status, dtype: int64\n",
      "\n",
      "\n",
      "0.0    42535\n",
      "Name: out_prncp, dtype: int64\n",
      "\n",
      "\n",
      "0.0    42535\n",
      "Name: out_prncp_inv, dtype: int64\n",
      "\n",
      "\n",
      "0.0    42390\n",
      "Name: collections_12_mths_ex_med, dtype: int64\n",
      "\n",
      "\n",
      "1.0    42535\n",
      "Name: policy_code, dtype: int64\n",
      "\n",
      "\n",
      "INDIVIDUAL    42535\n",
      "Name: application_type, dtype: int64\n",
      "\n",
      "\n",
      "0.0    42502\n",
      "1.0        4\n",
      "Name: acc_now_delinq, dtype: int64\n",
      "\n",
      "\n",
      "0.0    42390\n",
      "Name: chargeoff_within_12_mths, dtype: int64\n",
      "\n",
      "\n",
      "0.0    42429\n",
      "1.0        1\n",
      "Name: tax_liens, dtype: int64\n",
      "\n",
      "\n",
      "N    42535\n",
      "Name: hardship_flag, dtype: int64\n",
      "\n",
      "\n"
     ]
    }
   ],
   "source": [
    "for col in binary_cols_df.columns: print(binary_cols_df[col].value_counts());print('\\n')"
   ]
  },
  {
   "cell_type": "code",
   "execution_count": 21,
   "metadata": {
    "collapsed": true
   },
   "outputs": [],
   "source": [
    "bin_cols = list(binary_cols_df.columns);bin_cols.remove('term')"
   ]
  },
  {
   "cell_type": "code",
   "execution_count": 22,
   "metadata": {
    "collapsed": true
   },
   "outputs": [],
   "source": [
    "loans = loans.drop(bin_cols,axis=1)"
   ]
  },
  {
   "cell_type": "code",
   "execution_count": 23,
   "metadata": {},
   "outputs": [
    {
     "data": {
      "text/plain": [
       "(42535, 48)"
      ]
     },
     "execution_count": 23,
     "metadata": {},
     "output_type": "execute_result"
    }
   ],
   "source": [
    "loans.shape"
   ]
  },
  {
   "cell_type": "markdown",
   "metadata": {},
   "source": [
    "# Notes:\n",
    "- Only keeping the \"term months\" column as the others appear uninformative in this subset of data from Lending club.\n",
    "- Drop rows where some of the columns has a few nulls(Eg: annual_inc with 4 nans)\n",
    "- Explore subsets of the data where these nulls exist. Are other columns also null at the same index locations?"
   ]
  },
  {
   "cell_type": "code",
   "execution_count": 24,
   "metadata": {
    "collapsed": true
   },
   "outputs": [],
   "source": [
    "# Looking at nulls again"
   ]
  },
  {
   "cell_type": "code",
   "execution_count": 25,
   "metadata": {},
   "outputs": [
    {
     "data": {
      "text/html": [
       "<div>\n",
       "<style>\n",
       "    .dataframe thead tr:only-child th {\n",
       "        text-align: right;\n",
       "    }\n",
       "\n",
       "    .dataframe thead th {\n",
       "        text-align: left;\n",
       "    }\n",
       "\n",
       "    .dataframe tbody tr th {\n",
       "        vertical-align: top;\n",
       "    }\n",
       "</style>\n",
       "<table border=\"1\" class=\"dataframe\">\n",
       "  <thead>\n",
       "    <tr style=\"text-align: right;\">\n",
       "      <th></th>\n",
       "      <th>False</th>\n",
       "      <th>True</th>\n",
       "    </tr>\n",
       "  </thead>\n",
       "  <tbody>\n",
       "    <tr>\n",
       "      <th>addr_state</th>\n",
       "      <td>42535.0</td>\n",
       "      <td>NaN</td>\n",
       "    </tr>\n",
       "    <tr>\n",
       "      <th>annual_inc</th>\n",
       "      <td>42531.0</td>\n",
       "      <td>4.0</td>\n",
       "    </tr>\n",
       "    <tr>\n",
       "      <th>collection_recovery_fee</th>\n",
       "      <td>42535.0</td>\n",
       "      <td>NaN</td>\n",
       "    </tr>\n",
       "    <tr>\n",
       "      <th>delinq_2yrs</th>\n",
       "      <td>42506.0</td>\n",
       "      <td>29.0</td>\n",
       "    </tr>\n",
       "    <tr>\n",
       "      <th>delinq_amnt</th>\n",
       "      <td>42506.0</td>\n",
       "      <td>29.0</td>\n",
       "    </tr>\n",
       "    <tr>\n",
       "      <th>desc</th>\n",
       "      <td>29243.0</td>\n",
       "      <td>13292.0</td>\n",
       "    </tr>\n",
       "    <tr>\n",
       "      <th>dti</th>\n",
       "      <td>42535.0</td>\n",
       "      <td>NaN</td>\n",
       "    </tr>\n",
       "    <tr>\n",
       "      <th>earliest_cr_line</th>\n",
       "      <td>42506.0</td>\n",
       "      <td>29.0</td>\n",
       "    </tr>\n",
       "    <tr>\n",
       "      <th>emp_length</th>\n",
       "      <td>42535.0</td>\n",
       "      <td>NaN</td>\n",
       "    </tr>\n",
       "    <tr>\n",
       "      <th>emp_title</th>\n",
       "      <td>39911.0</td>\n",
       "      <td>2624.0</td>\n",
       "    </tr>\n",
       "    <tr>\n",
       "      <th>fico_range_high</th>\n",
       "      <td>42535.0</td>\n",
       "      <td>NaN</td>\n",
       "    </tr>\n",
       "    <tr>\n",
       "      <th>fico_range_low</th>\n",
       "      <td>42535.0</td>\n",
       "      <td>NaN</td>\n",
       "    </tr>\n",
       "    <tr>\n",
       "      <th>funded_amnt</th>\n",
       "      <td>42535.0</td>\n",
       "      <td>NaN</td>\n",
       "    </tr>\n",
       "    <tr>\n",
       "      <th>funded_amnt_inv</th>\n",
       "      <td>42535.0</td>\n",
       "      <td>NaN</td>\n",
       "    </tr>\n",
       "    <tr>\n",
       "      <th>grade</th>\n",
       "      <td>42535.0</td>\n",
       "      <td>NaN</td>\n",
       "    </tr>\n",
       "    <tr>\n",
       "      <th>home_ownership</th>\n",
       "      <td>42535.0</td>\n",
       "      <td>NaN</td>\n",
       "    </tr>\n",
       "    <tr>\n",
       "      <th>id</th>\n",
       "      <td>42535.0</td>\n",
       "      <td>NaN</td>\n",
       "    </tr>\n",
       "    <tr>\n",
       "      <th>inq_last_6mths</th>\n",
       "      <td>42506.0</td>\n",
       "      <td>29.0</td>\n",
       "    </tr>\n",
       "    <tr>\n",
       "      <th>installment</th>\n",
       "      <td>42535.0</td>\n",
       "      <td>NaN</td>\n",
       "    </tr>\n",
       "    <tr>\n",
       "      <th>int_rate</th>\n",
       "      <td>42535.0</td>\n",
       "      <td>NaN</td>\n",
       "    </tr>\n",
       "    <tr>\n",
       "      <th>issue_d</th>\n",
       "      <td>42535.0</td>\n",
       "      <td>NaN</td>\n",
       "    </tr>\n",
       "    <tr>\n",
       "      <th>last_credit_pull_d</th>\n",
       "      <td>42531.0</td>\n",
       "      <td>4.0</td>\n",
       "    </tr>\n",
       "    <tr>\n",
       "      <th>last_fico_range_high</th>\n",
       "      <td>42535.0</td>\n",
       "      <td>NaN</td>\n",
       "    </tr>\n",
       "    <tr>\n",
       "      <th>last_fico_range_low</th>\n",
       "      <td>42535.0</td>\n",
       "      <td>NaN</td>\n",
       "    </tr>\n",
       "    <tr>\n",
       "      <th>last_pymnt_amnt</th>\n",
       "      <td>42535.0</td>\n",
       "      <td>NaN</td>\n",
       "    </tr>\n",
       "    <tr>\n",
       "      <th>last_pymnt_d</th>\n",
       "      <td>42452.0</td>\n",
       "      <td>83.0</td>\n",
       "    </tr>\n",
       "    <tr>\n",
       "      <th>loan_amnt</th>\n",
       "      <td>42535.0</td>\n",
       "      <td>NaN</td>\n",
       "    </tr>\n",
       "    <tr>\n",
       "      <th>loan_status</th>\n",
       "      <td>42535.0</td>\n",
       "      <td>NaN</td>\n",
       "    </tr>\n",
       "    <tr>\n",
       "      <th>mths_since_last_delinq</th>\n",
       "      <td>15609.0</td>\n",
       "      <td>26926.0</td>\n",
       "    </tr>\n",
       "    <tr>\n",
       "      <th>open_acc</th>\n",
       "      <td>42506.0</td>\n",
       "      <td>29.0</td>\n",
       "    </tr>\n",
       "    <tr>\n",
       "      <th>pub_rec</th>\n",
       "      <td>42506.0</td>\n",
       "      <td>29.0</td>\n",
       "    </tr>\n",
       "    <tr>\n",
       "      <th>pub_rec_bankruptcies</th>\n",
       "      <td>41170.0</td>\n",
       "      <td>1365.0</td>\n",
       "    </tr>\n",
       "    <tr>\n",
       "      <th>purpose</th>\n",
       "      <td>42535.0</td>\n",
       "      <td>NaN</td>\n",
       "    </tr>\n",
       "    <tr>\n",
       "      <th>recoveries</th>\n",
       "      <td>42535.0</td>\n",
       "      <td>NaN</td>\n",
       "    </tr>\n",
       "    <tr>\n",
       "      <th>revol_bal</th>\n",
       "      <td>42535.0</td>\n",
       "      <td>NaN</td>\n",
       "    </tr>\n",
       "    <tr>\n",
       "      <th>revol_util</th>\n",
       "      <td>42445.0</td>\n",
       "      <td>90.0</td>\n",
       "    </tr>\n",
       "    <tr>\n",
       "      <th>sub_grade</th>\n",
       "      <td>42535.0</td>\n",
       "      <td>NaN</td>\n",
       "    </tr>\n",
       "    <tr>\n",
       "      <th>term</th>\n",
       "      <td>42535.0</td>\n",
       "      <td>NaN</td>\n",
       "    </tr>\n",
       "    <tr>\n",
       "      <th>title</th>\n",
       "      <td>42523.0</td>\n",
       "      <td>12.0</td>\n",
       "    </tr>\n",
       "    <tr>\n",
       "      <th>total_acc</th>\n",
       "      <td>42506.0</td>\n",
       "      <td>29.0</td>\n",
       "    </tr>\n",
       "    <tr>\n",
       "      <th>total_pymnt</th>\n",
       "      <td>42535.0</td>\n",
       "      <td>NaN</td>\n",
       "    </tr>\n",
       "    <tr>\n",
       "      <th>total_pymnt_inv</th>\n",
       "      <td>42535.0</td>\n",
       "      <td>NaN</td>\n",
       "    </tr>\n",
       "    <tr>\n",
       "      <th>total_rec_int</th>\n",
       "      <td>42535.0</td>\n",
       "      <td>NaN</td>\n",
       "    </tr>\n",
       "    <tr>\n",
       "      <th>total_rec_late_fee</th>\n",
       "      <td>42535.0</td>\n",
       "      <td>NaN</td>\n",
       "    </tr>\n",
       "    <tr>\n",
       "      <th>total_rec_prncp</th>\n",
       "      <td>42535.0</td>\n",
       "      <td>NaN</td>\n",
       "    </tr>\n",
       "    <tr>\n",
       "      <th>url</th>\n",
       "      <td>42535.0</td>\n",
       "      <td>NaN</td>\n",
       "    </tr>\n",
       "    <tr>\n",
       "      <th>verification_status</th>\n",
       "      <td>42535.0</td>\n",
       "      <td>NaN</td>\n",
       "    </tr>\n",
       "    <tr>\n",
       "      <th>zip_code</th>\n",
       "      <td>42535.0</td>\n",
       "      <td>NaN</td>\n",
       "    </tr>\n",
       "  </tbody>\n",
       "</table>\n",
       "</div>"
      ],
      "text/plain": [
       "                           False    True \n",
       "addr_state               42535.0      NaN\n",
       "annual_inc               42531.0      4.0\n",
       "collection_recovery_fee  42535.0      NaN\n",
       "delinq_2yrs              42506.0     29.0\n",
       "delinq_amnt              42506.0     29.0\n",
       "desc                     29243.0  13292.0\n",
       "dti                      42535.0      NaN\n",
       "earliest_cr_line         42506.0     29.0\n",
       "emp_length               42535.0      NaN\n",
       "emp_title                39911.0   2624.0\n",
       "fico_range_high          42535.0      NaN\n",
       "fico_range_low           42535.0      NaN\n",
       "funded_amnt              42535.0      NaN\n",
       "funded_amnt_inv          42535.0      NaN\n",
       "grade                    42535.0      NaN\n",
       "home_ownership           42535.0      NaN\n",
       "id                       42535.0      NaN\n",
       "inq_last_6mths           42506.0     29.0\n",
       "installment              42535.0      NaN\n",
       "int_rate                 42535.0      NaN\n",
       "issue_d                  42535.0      NaN\n",
       "last_credit_pull_d       42531.0      4.0\n",
       "last_fico_range_high     42535.0      NaN\n",
       "last_fico_range_low      42535.0      NaN\n",
       "last_pymnt_amnt          42535.0      NaN\n",
       "last_pymnt_d             42452.0     83.0\n",
       "loan_amnt                42535.0      NaN\n",
       "loan_status              42535.0      NaN\n",
       "mths_since_last_delinq   15609.0  26926.0\n",
       "open_acc                 42506.0     29.0\n",
       "pub_rec                  42506.0     29.0\n",
       "pub_rec_bankruptcies     41170.0   1365.0\n",
       "purpose                  42535.0      NaN\n",
       "recoveries               42535.0      NaN\n",
       "revol_bal                42535.0      NaN\n",
       "revol_util               42445.0     90.0\n",
       "sub_grade                42535.0      NaN\n",
       "term                     42535.0      NaN\n",
       "title                    42523.0     12.0\n",
       "total_acc                42506.0     29.0\n",
       "total_pymnt              42535.0      NaN\n",
       "total_pymnt_inv          42535.0      NaN\n",
       "total_rec_int            42535.0      NaN\n",
       "total_rec_late_fee       42535.0      NaN\n",
       "total_rec_prncp          42535.0      NaN\n",
       "url                      42535.0      NaN\n",
       "verification_status      42535.0      NaN\n",
       "zip_code                 42535.0      NaN"
      ]
     },
     "execution_count": 25,
     "metadata": {},
     "output_type": "execute_result"
    }
   ],
   "source": [
    "nulls = null_counts(loans)\n",
    "nulls"
   ]
  },
  {
   "cell_type": "code",
   "execution_count": 26,
   "metadata": {
    "collapsed": true
   },
   "outputs": [],
   "source": [
    "# cols_idx = list(nulls.index[~pd.isnull(nulls[True])])\n",
    "\n",
    "# Columns with nulls \n",
    "#Picking columns with few nulls for analysis\n",
    "\n",
    "def get_eda_df(df):\n",
    "    ''' Function picks out columns with nulls and outputs a dataframe with those columns.'''\n",
    "    nulls = null_counts(df)\n",
    "    cols_idx = list(nulls.index[~pd.isnull(nulls[True])])\n",
    "    return df[cols_idx]"
   ]
  },
  {
   "cell_type": "code",
   "execution_count": 27,
   "metadata": {
    "collapsed": true
   },
   "outputs": [],
   "source": [
    "eda_df = get_eda_df(loans)"
   ]
  },
  {
   "cell_type": "code",
   "execution_count": 28,
   "metadata": {},
   "outputs": [
    {
     "data": {
      "text/plain": [
       "(42535, 16)"
      ]
     },
     "execution_count": 28,
     "metadata": {},
     "output_type": "execute_result"
    }
   ],
   "source": [
    "eda_df.shape"
   ]
  },
  {
   "cell_type": "code",
   "execution_count": 29,
   "metadata": {
    "scrolled": false
   },
   "outputs": [
    {
     "data": {
      "text/html": [
       "<div>\n",
       "<style>\n",
       "    .dataframe thead tr:only-child th {\n",
       "        text-align: right;\n",
       "    }\n",
       "\n",
       "    .dataframe thead th {\n",
       "        text-align: left;\n",
       "    }\n",
       "\n",
       "    .dataframe tbody tr th {\n",
       "        vertical-align: top;\n",
       "    }\n",
       "</style>\n",
       "<table border=\"1\" class=\"dataframe\">\n",
       "  <thead>\n",
       "    <tr style=\"text-align: right;\">\n",
       "      <th></th>\n",
       "      <th>False</th>\n",
       "      <th>True</th>\n",
       "    </tr>\n",
       "  </thead>\n",
       "  <tbody>\n",
       "    <tr>\n",
       "      <th>annual_inc</th>\n",
       "      <td>42531</td>\n",
       "      <td>4</td>\n",
       "    </tr>\n",
       "    <tr>\n",
       "      <th>delinq_2yrs</th>\n",
       "      <td>42506</td>\n",
       "      <td>29</td>\n",
       "    </tr>\n",
       "    <tr>\n",
       "      <th>delinq_amnt</th>\n",
       "      <td>42506</td>\n",
       "      <td>29</td>\n",
       "    </tr>\n",
       "    <tr>\n",
       "      <th>desc</th>\n",
       "      <td>29243</td>\n",
       "      <td>13292</td>\n",
       "    </tr>\n",
       "    <tr>\n",
       "      <th>earliest_cr_line</th>\n",
       "      <td>42506</td>\n",
       "      <td>29</td>\n",
       "    </tr>\n",
       "    <tr>\n",
       "      <th>emp_title</th>\n",
       "      <td>39911</td>\n",
       "      <td>2624</td>\n",
       "    </tr>\n",
       "    <tr>\n",
       "      <th>inq_last_6mths</th>\n",
       "      <td>42506</td>\n",
       "      <td>29</td>\n",
       "    </tr>\n",
       "    <tr>\n",
       "      <th>last_credit_pull_d</th>\n",
       "      <td>42531</td>\n",
       "      <td>4</td>\n",
       "    </tr>\n",
       "    <tr>\n",
       "      <th>last_pymnt_d</th>\n",
       "      <td>42452</td>\n",
       "      <td>83</td>\n",
       "    </tr>\n",
       "    <tr>\n",
       "      <th>mths_since_last_delinq</th>\n",
       "      <td>15609</td>\n",
       "      <td>26926</td>\n",
       "    </tr>\n",
       "    <tr>\n",
       "      <th>open_acc</th>\n",
       "      <td>42506</td>\n",
       "      <td>29</td>\n",
       "    </tr>\n",
       "    <tr>\n",
       "      <th>pub_rec</th>\n",
       "      <td>42506</td>\n",
       "      <td>29</td>\n",
       "    </tr>\n",
       "    <tr>\n",
       "      <th>pub_rec_bankruptcies</th>\n",
       "      <td>41170</td>\n",
       "      <td>1365</td>\n",
       "    </tr>\n",
       "    <tr>\n",
       "      <th>revol_util</th>\n",
       "      <td>42445</td>\n",
       "      <td>90</td>\n",
       "    </tr>\n",
       "    <tr>\n",
       "      <th>title</th>\n",
       "      <td>42523</td>\n",
       "      <td>12</td>\n",
       "    </tr>\n",
       "    <tr>\n",
       "      <th>total_acc</th>\n",
       "      <td>42506</td>\n",
       "      <td>29</td>\n",
       "    </tr>\n",
       "  </tbody>\n",
       "</table>\n",
       "</div>"
      ],
      "text/plain": [
       "                        False  True \n",
       "annual_inc              42531      4\n",
       "delinq_2yrs             42506     29\n",
       "delinq_amnt             42506     29\n",
       "desc                    29243  13292\n",
       "earliest_cr_line        42506     29\n",
       "emp_title               39911   2624\n",
       "inq_last_6mths          42506     29\n",
       "last_credit_pull_d      42531      4\n",
       "last_pymnt_d            42452     83\n",
       "mths_since_last_delinq  15609  26926\n",
       "open_acc                42506     29\n",
       "pub_rec                 42506     29\n",
       "pub_rec_bankruptcies    41170   1365\n",
       "revol_util              42445     90\n",
       "title                   42523     12\n",
       "total_acc               42506     29"
      ]
     },
     "execution_count": 29,
     "metadata": {},
     "output_type": "execute_result"
    }
   ],
   "source": [
    "nulls_eda_df = null_counts(eda_df)\n",
    "nulls_eda_df"
   ]
  },
  {
   "cell_type": "code",
   "execution_count": 30,
   "metadata": {
    "collapsed": true
   },
   "outputs": [],
   "source": [
    "# Dropping rows with 4 nulls:\n",
    "\n",
    "loans = loans.dropna(subset=['annual_inc','last_credit_pull_d'])"
   ]
  },
  {
   "cell_type": "code",
   "execution_count": 31,
   "metadata": {},
   "outputs": [
    {
     "data": {
      "text/plain": [
       "(42527, 48)"
      ]
     },
     "execution_count": 31,
     "metadata": {},
     "output_type": "execute_result"
    }
   ],
   "source": [
    "loans.shape"
   ]
  },
  {
   "cell_type": "code",
   "execution_count": 32,
   "metadata": {},
   "outputs": [
    {
     "data": {
      "text/html": [
       "<div>\n",
       "<style>\n",
       "    .dataframe thead tr:only-child th {\n",
       "        text-align: right;\n",
       "    }\n",
       "\n",
       "    .dataframe thead th {\n",
       "        text-align: left;\n",
       "    }\n",
       "\n",
       "    .dataframe tbody tr th {\n",
       "        vertical-align: top;\n",
       "    }\n",
       "</style>\n",
       "<table border=\"1\" class=\"dataframe\">\n",
       "  <thead>\n",
       "    <tr style=\"text-align: right;\">\n",
       "      <th></th>\n",
       "      <th>False</th>\n",
       "      <th>True</th>\n",
       "    </tr>\n",
       "  </thead>\n",
       "  <tbody>\n",
       "    <tr>\n",
       "      <th>delinq_2yrs</th>\n",
       "      <td>42503</td>\n",
       "      <td>24</td>\n",
       "    </tr>\n",
       "    <tr>\n",
       "      <th>delinq_amnt</th>\n",
       "      <td>42503</td>\n",
       "      <td>24</td>\n",
       "    </tr>\n",
       "    <tr>\n",
       "      <th>desc</th>\n",
       "      <td>29236</td>\n",
       "      <td>13291</td>\n",
       "    </tr>\n",
       "    <tr>\n",
       "      <th>earliest_cr_line</th>\n",
       "      <td>42503</td>\n",
       "      <td>24</td>\n",
       "    </tr>\n",
       "    <tr>\n",
       "      <th>emp_title</th>\n",
       "      <td>39910</td>\n",
       "      <td>2617</td>\n",
       "    </tr>\n",
       "    <tr>\n",
       "      <th>inq_last_6mths</th>\n",
       "      <td>42503</td>\n",
       "      <td>24</td>\n",
       "    </tr>\n",
       "    <tr>\n",
       "      <th>last_pymnt_d</th>\n",
       "      <td>42444</td>\n",
       "      <td>83</td>\n",
       "    </tr>\n",
       "    <tr>\n",
       "      <th>mths_since_last_delinq</th>\n",
       "      <td>15607</td>\n",
       "      <td>26920</td>\n",
       "    </tr>\n",
       "    <tr>\n",
       "      <th>open_acc</th>\n",
       "      <td>42503</td>\n",
       "      <td>24</td>\n",
       "    </tr>\n",
       "    <tr>\n",
       "      <th>pub_rec</th>\n",
       "      <td>42503</td>\n",
       "      <td>24</td>\n",
       "    </tr>\n",
       "    <tr>\n",
       "      <th>pub_rec_bankruptcies</th>\n",
       "      <td>41169</td>\n",
       "      <td>1358</td>\n",
       "    </tr>\n",
       "    <tr>\n",
       "      <th>revol_util</th>\n",
       "      <td>42442</td>\n",
       "      <td>85</td>\n",
       "    </tr>\n",
       "    <tr>\n",
       "      <th>title</th>\n",
       "      <td>42515</td>\n",
       "      <td>12</td>\n",
       "    </tr>\n",
       "    <tr>\n",
       "      <th>total_acc</th>\n",
       "      <td>42503</td>\n",
       "      <td>24</td>\n",
       "    </tr>\n",
       "  </tbody>\n",
       "</table>\n",
       "</div>"
      ],
      "text/plain": [
       "                        False  True \n",
       "delinq_2yrs             42503     24\n",
       "delinq_amnt             42503     24\n",
       "desc                    29236  13291\n",
       "earliest_cr_line        42503     24\n",
       "emp_title               39910   2617\n",
       "inq_last_6mths          42503     24\n",
       "last_pymnt_d            42444     83\n",
       "mths_since_last_delinq  15607  26920\n",
       "open_acc                42503     24\n",
       "pub_rec                 42503     24\n",
       "pub_rec_bankruptcies    41169   1358\n",
       "revol_util              42442     85\n",
       "title                   42515     12\n",
       "total_acc               42503     24"
      ]
     },
     "execution_count": 32,
     "metadata": {},
     "output_type": "execute_result"
    }
   ],
   "source": [
    "# Recalculating the eda_df after cleaning up:\n",
    "\n",
    "eda_df = get_eda_df(loans)\n",
    "nulls_eda_df = null_counts(eda_df)\n",
    "nulls_eda_df"
   ]
  },
  {
   "cell_type": "markdown",
   "metadata": {},
   "source": [
    "### open_acc: The number of open credit lines in the borrower's credit file.\n",
    "- setting NaN to median?"
   ]
  },
  {
   "cell_type": "code",
   "execution_count": 33,
   "metadata": {},
   "outputs": [
    {
     "data": {
      "text/plain": [
       "<matplotlib.axes._subplots.AxesSubplot at 0x7fd3a1566f28>"
      ]
     },
     "execution_count": 33,
     "metadata": {},
     "output_type": "execute_result"
    },
    {
     "data": {
      "image/png": "[encoded data removed]",
      "text/plain": [
       "<matplotlib.figure.Figure at 0x7fd3a15a9160>"
      ]
     },
     "metadata": {},
     "output_type": "display_data"
    }
   ],
   "source": [
    "loans.loc[~pd.isnull(loans['open_acc']),'open_acc'].plot()"
   ]
  },
  {
   "cell_type": "code",
   "execution_count": 34,
   "metadata": {
    "collapsed": true
   },
   "outputs": [],
   "source": [
    "x = loans.loc[~pd.isnull(loans['open_acc']),'open_acc']"
   ]
  },
  {
   "cell_type": "code",
   "execution_count": 35,
   "metadata": {
    "collapsed": true
   },
   "outputs": [],
   "source": [
    "#pd.isnull(loans['acc_now_delinq']).value_counts()\n"
   ]
  },
  {
   "cell_type": "markdown",
   "metadata": {},
   "source": [
    "### One can observe the missing data:"
   ]
  },
  {
   "cell_type": "code",
   "execution_count": 36,
   "metadata": {},
   "outputs": [
    {
     "data": {
      "text/plain": [
       "<matplotlib.axes._subplots.AxesSubplot at 0x7fd3a1a4e160>"
      ]
     },
     "execution_count": 36,
     "metadata": {},
     "output_type": "execute_result"
    },
    {
     "data": {
      "image/png": "[encoded data removed]",
      "text/plain": [
       "<matplotlib.figure.Figure at 0x7fd3a1a4e3c8>"
      ]
     },
     "metadata": {},
     "output_type": "display_data"
    }
   ],
   "source": [
    "import seaborn as sns\n",
    "import scipy.stats as stats\n",
    "\n",
    "plt.figure(figsize=(8,5))\n",
    "sns.distplot(x)"
   ]
  },
  {
   "cell_type": "code",
   "execution_count": 37,
   "metadata": {
    "collapsed": true
   },
   "outputs": [],
   "source": [
    "# loans.loc[nan_indices,]\n",
    "def plot_dists(df,nulls):\n",
    "    df = df[nulls.index.tolist()]\n",
    "    df = df.loc[:,df.dtypes == np.float64]\n",
    "    for col in df.columns:\n",
    "        x = df.loc[~pd.isnull(df[col]),col]\n",
    "        plt.figure(figsize=(8,5))\n",
    "        sns.distplot(x)\n",
    "        plt.show()\n"
   ]
  },
  {
   "cell_type": "code",
   "execution_count": 38,
   "metadata": {
    "scrolled": false
   },
   "outputs": [
    {
     "data": {
      "image/png": "[encoded data removed]",
      "text/plain": [
       "<matplotlib.figure.Figure at 0x7fd3a1d6dcf8>"
      ]
     },
     "metadata": {},
     "output_type": "display_data"
    },
    {
     "data": {
      "image/png": "[encoded data removed]",
      "text/plain": [
       "<matplotlib.figure.Figure at 0x7fd3a1d79f28>"
      ]
     },
     "metadata": {},
     "output_type": "display_data"
    },
    {
     "data": {
      "image/png": "[encoded data removed]",
      "text/plain": [
       "<matplotlib.figure.Figure at 0x7fd3a1c83198>"
      ]
     },
     "metadata": {},
     "output_type": "display_data"
    },
    {
     "data": {
      "image/png": "[encoded data removed]",
      "text/plain": [
       "<matplotlib.figure.Figure at 0x7fd3a1a14be0>"
      ]
     },
     "metadata": {},
     "output_type": "display_data"
    },
    {
     "data": {
      "image/png": "[encoded data removed]",
      "text/plain": [
       "<matplotlib.figure.Figure at 0x7fd3a1dea7b8>"
      ]
     },
     "metadata": {},
     "output_type": "display_data"
    },
    {
     "data": {
      "image/png": "[encoded data removed]",
      "text/plain": [
       "<matplotlib.figure.Figure at 0x7fd3a169a320>"
      ]
     },
     "metadata": {},
     "output_type": "display_data"
    },
    {
     "data": {
      "image/png": "[encoded data removed]",
      "text/plain": [
       "<matplotlib.figure.Figure at 0x7fd3a169a470>"
      ]
     },
     "metadata": {},
     "output_type": "display_data"
    },
    {
     "data": {
      "image/png": "[encoded data removed]",
      "text/plain": [
       "<matplotlib.figure.Figure at 0x7fd3a1d40400>"
      ]
     },
     "metadata": {},
     "output_type": "display_data"
    }
   ],
   "source": [
    "plot_dists(loans,nulls_eda_df)"
   ]
  },
  {
   "cell_type": "code",
   "execution_count": 39,
   "metadata": {
    "collapsed": true
   },
   "outputs": [],
   "source": [
    "#Dropping null rows across the remaining columns\n",
    "\n",
    "# loans = loans.dropna(subset=eda_df.columns)"
   ]
  },
  {
   "cell_type": "code",
   "execution_count": 40,
   "metadata": {},
   "outputs": [
    {
     "data": {
      "text/html": [
       "<div>\n",
       "<style>\n",
       "    .dataframe thead tr:only-child th {\n",
       "        text-align: right;\n",
       "    }\n",
       "\n",
       "    .dataframe thead th {\n",
       "        text-align: left;\n",
       "    }\n",
       "\n",
       "    .dataframe tbody tr th {\n",
       "        vertical-align: top;\n",
       "    }\n",
       "</style>\n",
       "<table border=\"1\" class=\"dataframe\">\n",
       "  <thead>\n",
       "    <tr style=\"text-align: right;\">\n",
       "      <th></th>\n",
       "      <th>False</th>\n",
       "      <th>True</th>\n",
       "    </tr>\n",
       "  </thead>\n",
       "  <tbody>\n",
       "    <tr>\n",
       "      <th>delinq_2yrs</th>\n",
       "      <td>42503</td>\n",
       "      <td>24</td>\n",
       "    </tr>\n",
       "    <tr>\n",
       "      <th>delinq_amnt</th>\n",
       "      <td>42503</td>\n",
       "      <td>24</td>\n",
       "    </tr>\n",
       "    <tr>\n",
       "      <th>desc</th>\n",
       "      <td>29236</td>\n",
       "      <td>13291</td>\n",
       "    </tr>\n",
       "    <tr>\n",
       "      <th>earliest_cr_line</th>\n",
       "      <td>42503</td>\n",
       "      <td>24</td>\n",
       "    </tr>\n",
       "    <tr>\n",
       "      <th>emp_title</th>\n",
       "      <td>39910</td>\n",
       "      <td>2617</td>\n",
       "    </tr>\n",
       "    <tr>\n",
       "      <th>inq_last_6mths</th>\n",
       "      <td>42503</td>\n",
       "      <td>24</td>\n",
       "    </tr>\n",
       "    <tr>\n",
       "      <th>last_pymnt_d</th>\n",
       "      <td>42444</td>\n",
       "      <td>83</td>\n",
       "    </tr>\n",
       "    <tr>\n",
       "      <th>mths_since_last_delinq</th>\n",
       "      <td>15607</td>\n",
       "      <td>26920</td>\n",
       "    </tr>\n",
       "    <tr>\n",
       "      <th>open_acc</th>\n",
       "      <td>42503</td>\n",
       "      <td>24</td>\n",
       "    </tr>\n",
       "    <tr>\n",
       "      <th>pub_rec</th>\n",
       "      <td>42503</td>\n",
       "      <td>24</td>\n",
       "    </tr>\n",
       "    <tr>\n",
       "      <th>pub_rec_bankruptcies</th>\n",
       "      <td>41169</td>\n",
       "      <td>1358</td>\n",
       "    </tr>\n",
       "    <tr>\n",
       "      <th>revol_util</th>\n",
       "      <td>42442</td>\n",
       "      <td>85</td>\n",
       "    </tr>\n",
       "    <tr>\n",
       "      <th>title</th>\n",
       "      <td>42515</td>\n",
       "      <td>12</td>\n",
       "    </tr>\n",
       "    <tr>\n",
       "      <th>total_acc</th>\n",
       "      <td>42503</td>\n",
       "      <td>24</td>\n",
       "    </tr>\n",
       "  </tbody>\n",
       "</table>\n",
       "</div>"
      ],
      "text/plain": [
       "                        False  True \n",
       "delinq_2yrs             42503     24\n",
       "delinq_amnt             42503     24\n",
       "desc                    29236  13291\n",
       "earliest_cr_line        42503     24\n",
       "emp_title               39910   2617\n",
       "inq_last_6mths          42503     24\n",
       "last_pymnt_d            42444     83\n",
       "mths_since_last_delinq  15607  26920\n",
       "open_acc                42503     24\n",
       "pub_rec                 42503     24\n",
       "pub_rec_bankruptcies    41169   1358\n",
       "revol_util              42442     85\n",
       "title                   42515     12\n",
       "total_acc               42503     24"
      ]
     },
     "execution_count": 40,
     "metadata": {},
     "output_type": "execute_result"
    }
   ],
   "source": [
    "# Recalculating the eda_df after cleaning up:\n",
    "\n",
    "eda_df = get_eda_df(loans)\n",
    "nulls_eda_df = null_counts(eda_df)\n",
    "nulls_eda_df"
   ]
  },
  {
   "cell_type": "code",
   "execution_count": 41,
   "metadata": {
    "collapsed": true
   },
   "outputs": [],
   "source": [
    "#Cleanup descriptive columns: Replace nans with empty string\n",
    "\n",
    "loans.loc[pd.isnull(loans['desc']),'desc'] = ''\n",
    "# loans.loc[~pd.isnull(loans['title']),'title']\n",
    "\n",
    "loans.loc[pd.isnull(loans['title']),'title'] = ''\n",
    "# loans.loc[~pd.isnull(loans['title']),'title']\n",
    "\n",
    "loans.loc[pd.isnull(loans['emp_title']),'emp_title'] = ''\n",
    "# loans.loc[~pd.isnull(loans['emp_title']),'emp_title']\n"
   ]
  },
  {
   "cell_type": "code",
   "execution_count": 42,
   "metadata": {},
   "outputs": [
    {
     "name": "stdout",
     "output_type": "stream",
     "text": [
      "0.0    39315\n",
      "1.0     1846\n",
      "2.0        8\n",
      "Name: pub_rec_bankruptcies, dtype: int64\n"
     ]
    }
   ],
   "source": [
    "#pub_rec_bankruptcies:\n",
    "\n",
    "#Looking at value counts:\n",
    "print(loans.loc[~pd.isnull(loans['pub_rec_bankruptcies']),'pub_rec_bankruptcies'].value_counts())\n",
    "\n",
    "#Setting nans to 0.0:\n",
    "loans.loc[pd.isnull(loans['pub_rec_bankruptcies']),'pub_rec_bankruptcies'] = 0.0\n",
    "#Setting nans to 0.0:\n",
    "# loans.loc[pd.isnull(loans['mths_since_last_delinq']),'mths_since_last_delinq'] = 0.0"
   ]
  },
  {
   "cell_type": "code",
   "execution_count": 43,
   "metadata": {},
   "outputs": [
    {
     "data": {
      "text/html": [
       "<div>\n",
       "<style>\n",
       "    .dataframe thead tr:only-child th {\n",
       "        text-align: right;\n",
       "    }\n",
       "\n",
       "    .dataframe thead th {\n",
       "        text-align: left;\n",
       "    }\n",
       "\n",
       "    .dataframe tbody tr th {\n",
       "        vertical-align: top;\n",
       "    }\n",
       "</style>\n",
       "<table border=\"1\" class=\"dataframe\">\n",
       "  <thead>\n",
       "    <tr style=\"text-align: right;\">\n",
       "      <th></th>\n",
       "      <th>False</th>\n",
       "      <th>True</th>\n",
       "    </tr>\n",
       "  </thead>\n",
       "  <tbody>\n",
       "    <tr>\n",
       "      <th>delinq_2yrs</th>\n",
       "      <td>42503</td>\n",
       "      <td>24</td>\n",
       "    </tr>\n",
       "    <tr>\n",
       "      <th>delinq_amnt</th>\n",
       "      <td>42503</td>\n",
       "      <td>24</td>\n",
       "    </tr>\n",
       "    <tr>\n",
       "      <th>earliest_cr_line</th>\n",
       "      <td>42503</td>\n",
       "      <td>24</td>\n",
       "    </tr>\n",
       "    <tr>\n",
       "      <th>inq_last_6mths</th>\n",
       "      <td>42503</td>\n",
       "      <td>24</td>\n",
       "    </tr>\n",
       "    <tr>\n",
       "      <th>last_pymnt_d</th>\n",
       "      <td>42444</td>\n",
       "      <td>83</td>\n",
       "    </tr>\n",
       "    <tr>\n",
       "      <th>mths_since_last_delinq</th>\n",
       "      <td>15607</td>\n",
       "      <td>26920</td>\n",
       "    </tr>\n",
       "    <tr>\n",
       "      <th>open_acc</th>\n",
       "      <td>42503</td>\n",
       "      <td>24</td>\n",
       "    </tr>\n",
       "    <tr>\n",
       "      <th>pub_rec</th>\n",
       "      <td>42503</td>\n",
       "      <td>24</td>\n",
       "    </tr>\n",
       "    <tr>\n",
       "      <th>revol_util</th>\n",
       "      <td>42442</td>\n",
       "      <td>85</td>\n",
       "    </tr>\n",
       "    <tr>\n",
       "      <th>total_acc</th>\n",
       "      <td>42503</td>\n",
       "      <td>24</td>\n",
       "    </tr>\n",
       "  </tbody>\n",
       "</table>\n",
       "</div>"
      ],
      "text/plain": [
       "                        False  True \n",
       "delinq_2yrs             42503     24\n",
       "delinq_amnt             42503     24\n",
       "earliest_cr_line        42503     24\n",
       "inq_last_6mths          42503     24\n",
       "last_pymnt_d            42444     83\n",
       "mths_since_last_delinq  15607  26920\n",
       "open_acc                42503     24\n",
       "pub_rec                 42503     24\n",
       "revol_util              42442     85\n",
       "total_acc               42503     24"
      ]
     },
     "execution_count": 43,
     "metadata": {},
     "output_type": "execute_result"
    }
   ],
   "source": [
    "eda_df = get_eda_df(loans)\n",
    "nulls_eda_df = null_counts(eda_df)\n",
    "nulls_eda_df"
   ]
  },
  {
   "cell_type": "code",
   "execution_count": 44,
   "metadata": {},
   "outputs": [
    {
     "data": {
      "text/plain": [
       "(42527, 48)"
      ]
     },
     "execution_count": 44,
     "metadata": {},
     "output_type": "execute_result"
    }
   ],
   "source": [
    "loans.shape\n"
   ]
  },
  {
   "cell_type": "markdown",
   "metadata": {},
   "source": [
    "# Zipcode:\n",
    "- Used in reject stats."
   ]
  },
  {
   "cell_type": "code",
   "execution_count": 45,
   "metadata": {
    "collapsed": true
   },
   "outputs": [],
   "source": [
    "#Only keeping 'Fully Paid' and 'Charged Off' rows\n",
    "\n",
    "# mask = (loans['loan_status'] == 'Fully Paid') | (loans['loan_status'] == 'Charged Off')\n",
    "# loans.loc[mask,'loan_status'].value_counts()"
   ]
  },
  {
   "cell_type": "code",
   "execution_count": 46,
   "metadata": {
    "collapsed": true
   },
   "outputs": [],
   "source": [
    "# loans = loans.loc[mask,:]\n",
    "# map_dict"
   ]
  },
  {
   "cell_type": "code",
   "execution_count": 48,
   "metadata": {
    "collapsed": true
   },
   "outputs": [],
   "source": [
    "y = loans['loan_status']\n",
    "map_dict = {val:i for i,val in enumerate(list(y.value_counts().index))}\n",
    "\n",
    "# y.map(map_dict)\n",
    "map_dict['Does not meet the credit policy. Status:Charged Off'] = 1\n",
    "map_dict['Does not meet the credit policy. Status:Fully Paid'] = 1\n",
    "\n",
    "y = y.map(map_dict)\n",
    "loans['y'] = y"
   ]
  },
  {
   "cell_type": "code",
   "execution_count": 49,
   "metadata": {
    "collapsed": true
   },
   "outputs": [],
   "source": [
    "# loans['desc']"
   ]
  },
  {
   "cell_type": "code",
   "execution_count": 50,
   "metadata": {
    "collapsed": true
   },
   "outputs": [],
   "source": [
    "# eda_df['mths_since_last_delinq'].plot()\n",
    "# loans['zip_code'].str.strip('xx').value_counts()"
   ]
  },
  {
   "cell_type": "code",
   "execution_count": 51,
   "metadata": {
    "collapsed": true
   },
   "outputs": [],
   "source": [
    "zip_df = loans.loc[:,['loan_status','zip_code','addr_state','y']]"
   ]
  },
  {
   "cell_type": "code",
   "execution_count": 52,
   "metadata": {
    "collapsed": true
   },
   "outputs": [],
   "source": [
    "def zip_count(x):\n",
    "    return len(x.str.split('xx'))"
   ]
  },
  {
   "cell_type": "code",
   "execution_count": 53,
   "metadata": {
    "collapsed": true
   },
   "outputs": [],
   "source": [
    "def concat_status(x):\n",
    "    return ' , '.join(x)"
   ]
  },
  {
   "cell_type": "code",
   "execution_count": 54,
   "metadata": {
    "collapsed": true
   },
   "outputs": [],
   "source": [
    "o = zip_df.groupby('addr_state').agg({'zip_code':lambda x: zip_count(x),'loan_status': lambda x: concat_status(x)})#'loan_status':lambda x: concat_status(x)})\n",
    "\n",
    "o.loc[:,'loan_status'] = o['loan_status'].str.split(' , ')"
   ]
  },
  {
   "cell_type": "code",
   "execution_count": 55,
   "metadata": {},
   "outputs": [
    {
     "data": {
      "text/plain": [
       "<matplotlib.axes._subplots.AxesSubplot at 0x7fd3a1b98cc0>"
      ]
     },
     "execution_count": 55,
     "metadata": {},
     "output_type": "execute_result"
    },
    {
     "data": {
      "image/png": "[encoded data removed]",
      "text/plain": [
       "<matplotlib.figure.Figure at 0x7fd3a1bace48>"
      ]
     },
     "metadata": {},
     "output_type": "display_data"
    }
   ],
   "source": [
    "pd.Series(o['loan_status'].loc['IL']).value_counts().plot(kind='pie',title='IL')"
   ]
  },
  {
   "cell_type": "code",
   "execution_count": 56,
   "metadata": {},
   "outputs": [
    {
     "data": {
      "text/html": [
       "<div>\n",
       "<style>\n",
       "    .dataframe thead tr:only-child th {\n",
       "        text-align: right;\n",
       "    }\n",
       "\n",
       "    .dataframe thead th {\n",
       "        text-align: left;\n",
       "    }\n",
       "\n",
       "    .dataframe tbody tr th {\n",
       "        vertical-align: top;\n",
       "    }\n",
       "</style>\n",
       "<table border=\"1\" class=\"dataframe\">\n",
       "  <thead>\n",
       "    <tr style=\"text-align: right;\">\n",
       "      <th></th>\n",
       "      <th>zip_code</th>\n",
       "      <th>loan_status</th>\n",
       "    </tr>\n",
       "    <tr>\n",
       "      <th>addr_state</th>\n",
       "      <th></th>\n",
       "      <th></th>\n",
       "    </tr>\n",
       "  </thead>\n",
       "  <tbody>\n",
       "    <tr>\n",
       "      <th>NE</th>\n",
       "      <td>11</td>\n",
       "      <td>[Fully Paid, Charged Off, Fully Paid, Charged ...</td>\n",
       "    </tr>\n",
       "    <tr>\n",
       "      <th>MI</th>\n",
       "      <td>796</td>\n",
       "      <td>[Fully Paid, Fully Paid, Fully Paid, Fully Pai...</td>\n",
       "    </tr>\n",
       "    <tr>\n",
       "      <th>NH</th>\n",
       "      <td>188</td>\n",
       "      <td>[Fully Paid, Fully Paid, Fully Paid, Fully Pai...</td>\n",
       "    </tr>\n",
       "    <tr>\n",
       "      <th>OH</th>\n",
       "      <td>1329</td>\n",
       "      <td>[Fully Paid, Charged Off, Charged Off, Fully P...</td>\n",
       "    </tr>\n",
       "    <tr>\n",
       "      <th>ME</th>\n",
       "      <td>3</td>\n",
       "      <td>[Fully Paid, Fully Paid, Fully Paid]</td>\n",
       "    </tr>\n",
       "    <tr>\n",
       "      <th>KS</th>\n",
       "      <td>298</td>\n",
       "      <td>[Fully Paid, Fully Paid, Fully Paid, Fully Pai...</td>\n",
       "    </tr>\n",
       "    <tr>\n",
       "      <th>SC</th>\n",
       "      <td>489</td>\n",
       "      <td>[Fully Paid, Charged Off, Fully Paid, Fully Pa...</td>\n",
       "    </tr>\n",
       "    <tr>\n",
       "      <th>CT</th>\n",
       "      <td>816</td>\n",
       "      <td>[Fully Paid, Fully Paid, Fully Paid, Fully Pai...</td>\n",
       "    </tr>\n",
       "    <tr>\n",
       "      <th>DE</th>\n",
       "      <td>136</td>\n",
       "      <td>[Fully Paid, Fully Paid, Fully Paid, Fully Pai...</td>\n",
       "    </tr>\n",
       "    <tr>\n",
       "      <th>TN</th>\n",
       "      <td>32</td>\n",
       "      <td>[Fully Paid, Fully Paid, Fully Paid, Fully Pai...</td>\n",
       "    </tr>\n",
       "  </tbody>\n",
       "</table>\n",
       "</div>"
      ],
      "text/plain": [
       "            zip_code                                        loan_status\n",
       "addr_state                                                             \n",
       "NE                11  [Fully Paid, Charged Off, Fully Paid, Charged ...\n",
       "MI               796  [Fully Paid, Fully Paid, Fully Paid, Fully Pai...\n",
       "NH               188  [Fully Paid, Fully Paid, Fully Paid, Fully Pai...\n",
       "OH              1329  [Fully Paid, Charged Off, Charged Off, Fully P...\n",
       "ME                 3               [Fully Paid, Fully Paid, Fully Paid]\n",
       "KS               298  [Fully Paid, Fully Paid, Fully Paid, Fully Pai...\n",
       "SC               489  [Fully Paid, Charged Off, Fully Paid, Fully Pa...\n",
       "CT               816  [Fully Paid, Fully Paid, Fully Paid, Fully Pai...\n",
       "DE               136  [Fully Paid, Fully Paid, Fully Paid, Fully Pai...\n",
       "TN                32  [Fully Paid, Fully Paid, Fully Paid, Fully Pai..."
      ]
     },
     "execution_count": 56,
     "metadata": {},
     "output_type": "execute_result"
    }
   ],
   "source": [
    "o.sample(10)"
   ]
  },
  {
   "cell_type": "code",
   "execution_count": 57,
   "metadata": {
    "collapsed": true
   },
   "outputs": [],
   "source": [
    "counts = zip_df.groupby('addr_state').agg({'zip_code':lambda x: zip_count(x),'y':sum})\n",
    "\n",
    "\n",
    "counts.columns = ['zip_code_counts','charged_off_counts']"
   ]
  },
  {
   "cell_type": "code",
   "execution_count": 58,
   "metadata": {},
   "outputs": [
    {
     "data": {
      "text/plain": [
       "<matplotlib.axes._subplots.AxesSubplot at 0x7fd3a18c69e8>"
      ]
     },
     "execution_count": 58,
     "metadata": {},
     "output_type": "execute_result"
    },
    {
     "data": {
      "image/png": "[encoded data removed]",
      "text/plain": [
       "<matplotlib.figure.Figure at 0x7fd3a15ed518>"
      ]
     },
     "metadata": {},
     "output_type": "display_data"
    }
   ],
   "source": [
    "counts.plot(kind='bar',figsize=(12,8))"
   ]
  },
  {
   "cell_type": "markdown",
   "metadata": {},
   "source": []
  },
  {
   "cell_type": "code",
   "execution_count": null,
   "metadata": {
    "collapsed": true
   },
   "outputs": [],
   "source": []
  },
  {
   "cell_type": "markdown",
   "metadata": {},
   "source": [
    "# Notes:\n",
    "\n",
    "- mths_since_last_delinq has a lot of missing values but seems like an important column.\n",
    "- It may be possible to impute missing values for months since last delinquincy.\n",
    "- The remaining point have a nice distribution which may make it easier for the classifier while identifying loan statuses.\n",
    "- There are lot of non-delinquint data points, it might make sense to start by setting the missing values to 0."
   ]
  },
  {
   "cell_type": "markdown",
   "metadata": {},
   "source": [
    "## Imputing missing values using kde:\n",
    "- mths_since_last_delinq counts have a nice distribution but have a lot of missing values.\n",
    "- These values could be set to 0 but that biases the distribution towards 0 value.\n",
    "- Because there about twice as many nulls as real values. \n",
    "- Maybe the best option is dropping the column.\n",
    "- Attempting a kde using about 15000 values and imputing the null values.\n",
    "- Checking the relative performance of the classifer with and without the column maybe a new step in the analysis."
   ]
  },
  {
   "cell_type": "code",
   "execution_count": 59,
   "metadata": {},
   "outputs": [
    {
     "data": {
      "text/plain": [
       "<matplotlib.axes._subplots.AxesSubplot at 0x7fd3a16ec2b0>"
      ]
     },
     "execution_count": 59,
     "metadata": {},
     "output_type": "execute_result"
    },
    {
     "data": {
      "image/png": "[encoded data removed]",
      "text/plain": [
       "<matplotlib.figure.Figure at 0x7fd3a15bce48>"
      ]
     },
     "metadata": {},
     "output_type": "display_data"
    }
   ],
   "source": [
    "# loans['mths_since_last_delinq'].value_counts().plot()\n",
    "x = loans.loc[~pd.isnull(loans['mths_since_last_delinq']),'mths_since_last_delinq'];\n",
    "pd.isnull(loans['mths_since_last_delinq']).value_counts()\n",
    "\n",
    "sns.distplot(x,bins=30)"
   ]
  },
  {
   "cell_type": "code",
   "execution_count": 60,
   "metadata": {},
   "outputs": [
    {
     "name": "stderr",
     "output_type": "stream",
     "text": [
      "/home/gpk/anaconda3/envs/mcmc/lib/python3.6/site-packages/sklearn/grid_search.py:42: DeprecationWarning: This module was deprecated in version 0.18 in favor of the model_selection module into which all the refactored classes and functions are moved. This module will be removed in 0.20.\n",
      "  DeprecationWarning)\n"
     ]
    }
   ],
   "source": [
    "from sklearn.neighbors.kde import KernelDensity\n",
    "\n",
    "from sklearn.grid_search import GridSearchCV\n",
    "\n",
    "grid = GridSearchCV(KernelDensity(),\n",
    "                    cv=10,\n",
    "                    param_grid={'bandwidth': np.logspace(-1, 1, 10)},\n",
    "                   )"
   ]
  },
  {
   "cell_type": "code",
   "execution_count": 61,
   "metadata": {
    "collapsed": true
   },
   "outputs": [],
   "source": [
    "# grid.fit(x.values.reshape(-1,1))\n",
    "\n",
    "# kde = grid.best_estimator_\n",
    "\n",
    "# pickle.dump(kde, open('input/kde_mths_delinq.pickle', 'wb'))"
   ]
  },
  {
   "cell_type": "code",
   "execution_count": 62,
   "metadata": {
    "collapsed": true
   },
   "outputs": [],
   "source": [
    "kde = pickle.load(open('input/kde_mths_delinq.pickle', 'rb'))"
   ]
  },
  {
   "cell_type": "code",
   "execution_count": 63,
   "metadata": {
    "collapsed": true
   },
   "outputs": [],
   "source": [
    "impute_data = kde.sample(26920, random_state=42)\n",
    "impute_data = np.clip(np.floor(impute_data),0,120)"
   ]
  },
  {
   "cell_type": "code",
   "execution_count": 64,
   "metadata": {
    "collapsed": true
   },
   "outputs": [],
   "source": [
    "# impute_data.clip(0,80)"
   ]
  },
  {
   "cell_type": "code",
   "execution_count": 65,
   "metadata": {},
   "outputs": [
    {
     "data": {
      "text/plain": [
       "<matplotlib.text.Text at 0x7fd3a1344080>"
      ]
     },
     "execution_count": 65,
     "metadata": {},
     "output_type": "execute_result"
    },
    {
     "data": {
      "image/png": "[encoded data removed]",
      "text/plain": [
       "<matplotlib.figure.Figure at 0x7fd3a15466d8>"
      ]
     },
     "metadata": {},
     "output_type": "display_data"
    }
   ],
   "source": [
    "plt.figure(figsize=(8,5))\n",
    "sns.distplot(impute_data)\n",
    "plt.title('Imputed Data')\n"
   ]
  },
  {
   "cell_type": "code",
   "execution_count": 66,
   "metadata": {
    "collapsed": true
   },
   "outputs": [],
   "source": [
    "#Making the NaNs in the column the imputed data:\n",
    "\n",
    "null_idxs = pd.isnull(loans['mths_since_last_delinq'])\n",
    "loans.loc[null_idxs,'mths_since_last_delinq'] = impute_data"
   ]
  },
  {
   "cell_type": "code",
   "execution_count": 67,
   "metadata": {},
   "outputs": [
    {
     "data": {
      "text/plain": [
       "<matplotlib.text.Text at 0x7fd3a1199198>"
      ]
     },
     "execution_count": 67,
     "metadata": {},
     "output_type": "execute_result"
    },
    {
     "data": {
      "image/png": "[encoded data removed]",
      "text/plain": [
       "<matplotlib.figure.Figure at 0x7fd3a121e7b8>"
      ]
     },
     "metadata": {},
     "output_type": "display_data"
    }
   ],
   "source": [
    "plt.figure(figsize=(8,5))\n",
    "sns.distplot(x)\n",
    "plt.title('Original Data')"
   ]
  },
  {
   "cell_type": "code",
   "execution_count": 68,
   "metadata": {},
   "outputs": [
    {
     "data": {
      "text/plain": [
       "<matplotlib.text.Text at 0x7fd3a10862e8>"
      ]
     },
     "execution_count": 68,
     "metadata": {},
     "output_type": "execute_result"
    },
    {
     "data": {
      "image/png": "[encoded data removed]",
      "text/plain": [
       "<matplotlib.figure.Figure at 0x7fd3a10c3860>"
      ]
     },
     "metadata": {},
     "output_type": "display_data"
    }
   ],
   "source": [
    "plt.figure(figsize=(8,5))\n",
    "sns.distplot(loans['mths_since_last_delinq'])\n",
    "plt.title('Imputed Data added to Original Data')\n"
   ]
  },
  {
   "cell_type": "code",
   "execution_count": 69,
   "metadata": {
    "collapsed": true
   },
   "outputs": [],
   "source": [
    "from astroML.plotting import hist\n",
    "\n",
    "#http://www.astroml.org/user_guide/density_estimation.html\n",
    "#http://adsabs.harvard.edu/abs/2012arXiv1207.5578S"
   ]
  },
  {
   "cell_type": "code",
   "execution_count": 70,
   "metadata": {
    "collapsed": true
   },
   "outputs": [],
   "source": [
    "impute_data = pd.DataFrame(impute_data)"
   ]
  },
  {
   "cell_type": "markdown",
   "metadata": {},
   "source": [
    "# Bayesian Blocks:\n",
    "\n",
    "- Adding this is Probably not a good idea eventhough the shape of the distribution is sort of captured.\n",
    "- There are more missing values than data points.If the remaning nans are all zero valued in the real data.\n",
    "- The distribution is completely different."
   ]
  },
  {
   "cell_type": "code",
   "execution_count": 71,
   "metadata": {},
   "outputs": [
    {
     "data": {
      "image/png": "[encoded data removed]",
      "text/plain": [
       "<matplotlib.figure.Figure at 0x7fd39b868e48>"
      ]
     },
     "metadata": {},
     "output_type": "display_data"
    }
   ],
   "source": [
    "fig = plt.figure(figsize=(8, 16))\n",
    "fig.subplots_adjust(bottom=0.1)\n",
    "for data,title,subplot in zip([x,impute_data[0],loans['mths_since_last_delinq']],\n",
    "                              ['Original Data', 'KDE Imputed data','Original+Imputed'],\n",
    "                              [311,312,313]):\n",
    "\n",
    "    ax = fig.add_subplot(subplot)\n",
    "    \n",
    "    #Standard hist\n",
    "    hist(data, bins=50, histtype='stepfilled',alpha=0.2, normed=True,label = 'standard histogram')\n",
    "    #Bayesian blocks\n",
    "    hist(data, bins='blocks', ax=ax,color='black',histtype='step', normed=True, label='Bayesian Blocks')\n",
    "    \n",
    "    ax.legend(prop=dict(size=8))\n",
    "#     ax.set_xlabel('mths_since_last_delinq')\n",
    "    ax.set_ylabel('P(x)')\n",
    "    ax.set_title(title)\n",
    "\n",
    "plt.show()"
   ]
  },
  {
   "cell_type": "code",
   "execution_count": 72,
   "metadata": {
    "collapsed": true
   },
   "outputs": [],
   "source": [
    "#Tail disappears\n",
    "#Some extra structure added between bins 20 and 40"
   ]
  },
  {
   "cell_type": "code",
   "execution_count": null,
   "metadata": {
    "collapsed": true
   },
   "outputs": [],
   "source": []
  },
  {
   "cell_type": "code",
   "execution_count": 73,
   "metadata": {
    "collapsed": true
   },
   "outputs": [],
   "source": [
    "loans = loans.drop(['mths_since_last_delinq'],axis=1)"
   ]
  },
  {
   "cell_type": "code",
   "execution_count": 74,
   "metadata": {},
   "outputs": [
    {
     "data": {
      "text/html": [
       "<div>\n",
       "<style>\n",
       "    .dataframe thead tr:only-child th {\n",
       "        text-align: right;\n",
       "    }\n",
       "\n",
       "    .dataframe thead th {\n",
       "        text-align: left;\n",
       "    }\n",
       "\n",
       "    .dataframe tbody tr th {\n",
       "        vertical-align: top;\n",
       "    }\n",
       "</style>\n",
       "<table border=\"1\" class=\"dataframe\">\n",
       "  <thead>\n",
       "    <tr style=\"text-align: right;\">\n",
       "      <th></th>\n",
       "      <th>False</th>\n",
       "      <th>True</th>\n",
       "    </tr>\n",
       "  </thead>\n",
       "  <tbody>\n",
       "    <tr>\n",
       "      <th>delinq_2yrs</th>\n",
       "      <td>42503</td>\n",
       "      <td>24</td>\n",
       "    </tr>\n",
       "    <tr>\n",
       "      <th>delinq_amnt</th>\n",
       "      <td>42503</td>\n",
       "      <td>24</td>\n",
       "    </tr>\n",
       "    <tr>\n",
       "      <th>earliest_cr_line</th>\n",
       "      <td>42503</td>\n",
       "      <td>24</td>\n",
       "    </tr>\n",
       "    <tr>\n",
       "      <th>inq_last_6mths</th>\n",
       "      <td>42503</td>\n",
       "      <td>24</td>\n",
       "    </tr>\n",
       "    <tr>\n",
       "      <th>last_pymnt_d</th>\n",
       "      <td>42444</td>\n",
       "      <td>83</td>\n",
       "    </tr>\n",
       "    <tr>\n",
       "      <th>open_acc</th>\n",
       "      <td>42503</td>\n",
       "      <td>24</td>\n",
       "    </tr>\n",
       "    <tr>\n",
       "      <th>pub_rec</th>\n",
       "      <td>42503</td>\n",
       "      <td>24</td>\n",
       "    </tr>\n",
       "    <tr>\n",
       "      <th>revol_util</th>\n",
       "      <td>42442</td>\n",
       "      <td>85</td>\n",
       "    </tr>\n",
       "    <tr>\n",
       "      <th>total_acc</th>\n",
       "      <td>42503</td>\n",
       "      <td>24</td>\n",
       "    </tr>\n",
       "  </tbody>\n",
       "</table>\n",
       "</div>"
      ],
      "text/plain": [
       "                  False  True \n",
       "delinq_2yrs       42503     24\n",
       "delinq_amnt       42503     24\n",
       "earliest_cr_line  42503     24\n",
       "inq_last_6mths    42503     24\n",
       "last_pymnt_d      42444     83\n",
       "open_acc          42503     24\n",
       "pub_rec           42503     24\n",
       "revol_util        42442     85\n",
       "total_acc         42503     24"
      ]
     },
     "execution_count": 74,
     "metadata": {},
     "output_type": "execute_result"
    }
   ],
   "source": [
    "eda_df = get_eda_df(loans)\n",
    "nulls_eda_df = null_counts(eda_df)\n",
    "nulls_eda_df"
   ]
  },
  {
   "cell_type": "code",
   "execution_count": 75,
   "metadata": {},
   "outputs": [
    {
     "data": {
      "text/plain": [
       "(42363, 48)"
      ]
     },
     "execution_count": 75,
     "metadata": {},
     "output_type": "execute_result"
    }
   ],
   "source": [
    "# Dropping the the remaining rows of nans from the remaining columns:\n",
    "\n",
    "loans = loans.dropna(subset=eda_df.columns.tolist());loans.shape"
   ]
  },
  {
   "cell_type": "code",
   "execution_count": null,
   "metadata": {
    "collapsed": true
   },
   "outputs": [],
   "source": []
  },
  {
   "cell_type": "code",
   "execution_count": null,
   "metadata": {
    "collapsed": true
   },
   "outputs": [],
   "source": []
  },
  {
   "cell_type": "code",
   "execution_count": 76,
   "metadata": {
    "collapsed": true
   },
   "outputs": [],
   "source": [
    "# xgrid = np.linspace(0,80,42503)"
   ]
  },
  {
   "cell_type": "code",
   "execution_count": 77,
   "metadata": {},
   "outputs": [
    {
     "data": {
      "text/html": [
       "<div>\n",
       "<style>\n",
       "    .dataframe thead tr:only-child th {\n",
       "        text-align: right;\n",
       "    }\n",
       "\n",
       "    .dataframe thead th {\n",
       "        text-align: left;\n",
       "    }\n",
       "\n",
       "    .dataframe tbody tr th {\n",
       "        vertical-align: top;\n",
       "    }\n",
       "</style>\n",
       "<table border=\"1\" class=\"dataframe\">\n",
       "  <thead>\n",
       "    <tr style=\"text-align: right;\">\n",
       "      <th></th>\n",
       "      <th>False</th>\n",
       "    </tr>\n",
       "  </thead>\n",
       "  <tbody>\n",
       "    <tr>\n",
       "      <th>addr_state</th>\n",
       "      <td>42363</td>\n",
       "    </tr>\n",
       "    <tr>\n",
       "      <th>annual_inc</th>\n",
       "      <td>42363</td>\n",
       "    </tr>\n",
       "    <tr>\n",
       "      <th>collection_recovery_fee</th>\n",
       "      <td>42363</td>\n",
       "    </tr>\n",
       "    <tr>\n",
       "      <th>delinq_2yrs</th>\n",
       "      <td>42363</td>\n",
       "    </tr>\n",
       "    <tr>\n",
       "      <th>delinq_amnt</th>\n",
       "      <td>42363</td>\n",
       "    </tr>\n",
       "    <tr>\n",
       "      <th>desc</th>\n",
       "      <td>42363</td>\n",
       "    </tr>\n",
       "    <tr>\n",
       "      <th>dti</th>\n",
       "      <td>42363</td>\n",
       "    </tr>\n",
       "    <tr>\n",
       "      <th>earliest_cr_line</th>\n",
       "      <td>42363</td>\n",
       "    </tr>\n",
       "    <tr>\n",
       "      <th>emp_length</th>\n",
       "      <td>42363</td>\n",
       "    </tr>\n",
       "    <tr>\n",
       "      <th>emp_title</th>\n",
       "      <td>42363</td>\n",
       "    </tr>\n",
       "    <tr>\n",
       "      <th>fico_range_high</th>\n",
       "      <td>42363</td>\n",
       "    </tr>\n",
       "    <tr>\n",
       "      <th>fico_range_low</th>\n",
       "      <td>42363</td>\n",
       "    </tr>\n",
       "    <tr>\n",
       "      <th>funded_amnt</th>\n",
       "      <td>42363</td>\n",
       "    </tr>\n",
       "    <tr>\n",
       "      <th>funded_amnt_inv</th>\n",
       "      <td>42363</td>\n",
       "    </tr>\n",
       "    <tr>\n",
       "      <th>grade</th>\n",
       "      <td>42363</td>\n",
       "    </tr>\n",
       "    <tr>\n",
       "      <th>home_ownership</th>\n",
       "      <td>42363</td>\n",
       "    </tr>\n",
       "    <tr>\n",
       "      <th>id</th>\n",
       "      <td>42363</td>\n",
       "    </tr>\n",
       "    <tr>\n",
       "      <th>inq_last_6mths</th>\n",
       "      <td>42363</td>\n",
       "    </tr>\n",
       "    <tr>\n",
       "      <th>installment</th>\n",
       "      <td>42363</td>\n",
       "    </tr>\n",
       "    <tr>\n",
       "      <th>int_rate</th>\n",
       "      <td>42363</td>\n",
       "    </tr>\n",
       "    <tr>\n",
       "      <th>issue_d</th>\n",
       "      <td>42363</td>\n",
       "    </tr>\n",
       "    <tr>\n",
       "      <th>last_credit_pull_d</th>\n",
       "      <td>42363</td>\n",
       "    </tr>\n",
       "    <tr>\n",
       "      <th>last_fico_range_high</th>\n",
       "      <td>42363</td>\n",
       "    </tr>\n",
       "    <tr>\n",
       "      <th>last_fico_range_low</th>\n",
       "      <td>42363</td>\n",
       "    </tr>\n",
       "    <tr>\n",
       "      <th>last_pymnt_amnt</th>\n",
       "      <td>42363</td>\n",
       "    </tr>\n",
       "    <tr>\n",
       "      <th>last_pymnt_d</th>\n",
       "      <td>42363</td>\n",
       "    </tr>\n",
       "    <tr>\n",
       "      <th>loan_amnt</th>\n",
       "      <td>42363</td>\n",
       "    </tr>\n",
       "    <tr>\n",
       "      <th>loan_status</th>\n",
       "      <td>42363</td>\n",
       "    </tr>\n",
       "    <tr>\n",
       "      <th>open_acc</th>\n",
       "      <td>42363</td>\n",
       "    </tr>\n",
       "    <tr>\n",
       "      <th>pub_rec</th>\n",
       "      <td>42363</td>\n",
       "    </tr>\n",
       "    <tr>\n",
       "      <th>pub_rec_bankruptcies</th>\n",
       "      <td>42363</td>\n",
       "    </tr>\n",
       "    <tr>\n",
       "      <th>purpose</th>\n",
       "      <td>42363</td>\n",
       "    </tr>\n",
       "    <tr>\n",
       "      <th>recoveries</th>\n",
       "      <td>42363</td>\n",
       "    </tr>\n",
       "    <tr>\n",
       "      <th>revol_bal</th>\n",
       "      <td>42363</td>\n",
       "    </tr>\n",
       "    <tr>\n",
       "      <th>revol_util</th>\n",
       "      <td>42363</td>\n",
       "    </tr>\n",
       "    <tr>\n",
       "      <th>sub_grade</th>\n",
       "      <td>42363</td>\n",
       "    </tr>\n",
       "    <tr>\n",
       "      <th>term</th>\n",
       "      <td>42363</td>\n",
       "    </tr>\n",
       "    <tr>\n",
       "      <th>title</th>\n",
       "      <td>42363</td>\n",
       "    </tr>\n",
       "    <tr>\n",
       "      <th>total_acc</th>\n",
       "      <td>42363</td>\n",
       "    </tr>\n",
       "    <tr>\n",
       "      <th>total_pymnt</th>\n",
       "      <td>42363</td>\n",
       "    </tr>\n",
       "    <tr>\n",
       "      <th>total_pymnt_inv</th>\n",
       "      <td>42363</td>\n",
       "    </tr>\n",
       "    <tr>\n",
       "      <th>total_rec_int</th>\n",
       "      <td>42363</td>\n",
       "    </tr>\n",
       "    <tr>\n",
       "      <th>total_rec_late_fee</th>\n",
       "      <td>42363</td>\n",
       "    </tr>\n",
       "    <tr>\n",
       "      <th>total_rec_prncp</th>\n",
       "      <td>42363</td>\n",
       "    </tr>\n",
       "    <tr>\n",
       "      <th>url</th>\n",
       "      <td>42363</td>\n",
       "    </tr>\n",
       "    <tr>\n",
       "      <th>verification_status</th>\n",
       "      <td>42363</td>\n",
       "    </tr>\n",
       "    <tr>\n",
       "      <th>y</th>\n",
       "      <td>42363</td>\n",
       "    </tr>\n",
       "    <tr>\n",
       "      <th>zip_code</th>\n",
       "      <td>42363</td>\n",
       "    </tr>\n",
       "  </tbody>\n",
       "</table>\n",
       "</div>"
      ],
      "text/plain": [
       "                         False\n",
       "addr_state               42363\n",
       "annual_inc               42363\n",
       "collection_recovery_fee  42363\n",
       "delinq_2yrs              42363\n",
       "delinq_amnt              42363\n",
       "desc                     42363\n",
       "dti                      42363\n",
       "earliest_cr_line         42363\n",
       "emp_length               42363\n",
       "emp_title                42363\n",
       "fico_range_high          42363\n",
       "fico_range_low           42363\n",
       "funded_amnt              42363\n",
       "funded_amnt_inv          42363\n",
       "grade                    42363\n",
       "home_ownership           42363\n",
       "id                       42363\n",
       "inq_last_6mths           42363\n",
       "installment              42363\n",
       "int_rate                 42363\n",
       "issue_d                  42363\n",
       "last_credit_pull_d       42363\n",
       "last_fico_range_high     42363\n",
       "last_fico_range_low      42363\n",
       "last_pymnt_amnt          42363\n",
       "last_pymnt_d             42363\n",
       "loan_amnt                42363\n",
       "loan_status              42363\n",
       "open_acc                 42363\n",
       "pub_rec                  42363\n",
       "pub_rec_bankruptcies     42363\n",
       "purpose                  42363\n",
       "recoveries               42363\n",
       "revol_bal                42363\n",
       "revol_util               42363\n",
       "sub_grade                42363\n",
       "term                     42363\n",
       "title                    42363\n",
       "total_acc                42363\n",
       "total_pymnt              42363\n",
       "total_pymnt_inv          42363\n",
       "total_rec_int            42363\n",
       "total_rec_late_fee       42363\n",
       "total_rec_prncp          42363\n",
       "url                      42363\n",
       "verification_status      42363\n",
       "y                        42363\n",
       "zip_code                 42363"
      ]
     },
     "execution_count": 77,
     "metadata": {},
     "output_type": "execute_result"
    }
   ],
   "source": [
    "nulls = null_counts(loans)\n",
    "nulls\n",
    "\n",
    "#No more nulls!"
   ]
  },
  {
   "cell_type": "markdown",
   "metadata": {},
   "source": [
    "### Notes and Steps:\n",
    "\n",
    "- Process text level featurs of the desc, emp_title column.\n",
    "- Convert a few columns to numeric.\n",
    "- One hot encode categorical features."
   ]
  },
  {
   "cell_type": "markdown",
   "metadata": {},
   "source": [
    "# Descriptive Columns:\n",
    "\n",
    "- Cleanup the columns and generate tfidf and count features."
   ]
  },
  {
   "cell_type": "code",
   "execution_count": 78,
   "metadata": {
    "collapsed": true
   },
   "outputs": [],
   "source": [
    "import re\n",
    "from spacy.en import English"
   ]
  },
  {
   "cell_type": "code",
   "execution_count": 79,
   "metadata": {
    "collapsed": true
   },
   "outputs": [],
   "source": [
    "nlp = English()\n",
    "\n",
    "#Preparing the text input:\n",
    "# text_input = list(train_text)\n",
    "\n",
    "# Preparing a custom tokenizer for SpaCy, check references:\n",
    "spacy_tokenizer = nlp.tokenizer\n",
    "# regexp = re.compile('(?u)\\\\b\\\\w\\\\w+\\\\b')\n",
    "regexp = re.compile('\\w{4,}')\n",
    "# regexp = re.compile('\\b\\w\\w+\\b')\n",
    "nlp.tokenizer = lambda string: spacy_tokenizer.tokens_from_list(regexp.findall(string))\n",
    "\n",
    "def lemma_tokenizer(list_of_strings):\n",
    "    doc = nlp(list_of_strings,entity=False,parse=False)   \n",
    "    return [token.lemma_ for token in doc]"
   ]
  },
  {
   "cell_type": "code",
   "execution_count": 80,
   "metadata": {
    "collapsed": true
   },
   "outputs": [],
   "source": [
    "#Cleanup\n",
    "loans['desc'] = loans['desc'].apply(lambda x: x.replace('Borrower added on',''))"
   ]
  },
  {
   "cell_type": "code",
   "execution_count": 81,
   "metadata": {
    "collapsed": true
   },
   "outputs": [],
   "source": [
    "text_df = loans[['desc','emp_title','title']]"
   ]
  },
  {
   "cell_type": "code",
   "execution_count": 82,
   "metadata": {
    "collapsed": true
   },
   "outputs": [],
   "source": [
    "concat= []\n",
    "for i,row in loans.iterrows():\n",
    "    concat.append(' '.join([row['title'],row['emp_title'],row['desc']]))"
   ]
  },
  {
   "cell_type": "code",
   "execution_count": 83,
   "metadata": {
    "collapsed": true
   },
   "outputs": [],
   "source": [
    "loans['text_features'] = pd.Series(concat)\n",
    "# loans.drop(['combo_text'],axis=1,inplace=True)"
   ]
  },
  {
   "cell_type": "code",
   "execution_count": 84,
   "metadata": {
    "collapsed": true
   },
   "outputs": [],
   "source": [
    "loans = loans.dropna(subset=['text_features'])\n",
    "#Dropping a few cols"
   ]
  },
  {
   "cell_type": "code",
   "execution_count": 85,
   "metadata": {
    "collapsed": true
   },
   "outputs": [],
   "source": [
    "s = ' '.join([loans['desc'][1],loans['emp_title'][1],loans['title'][1]])"
   ]
  },
  {
   "cell_type": "code",
   "execution_count": 86,
   "metadata": {
    "collapsed": true
   },
   "outputs": [],
   "source": [
    "#Dropping descriptive columns for now:\n",
    "tfidf_des1 = TfidfVectorizer(min_df=4,max_features=20,strip_accents='unicode',lowercase =True,tokenizer=lemma_tokenizer,\n",
    "                        analyzer='word', ngram_range=(2, 6),token_pattern=r'\\w{4,}' ,use_idf=True,smooth_idf=True, \n",
    "    sublinear_tf=True, stop_words = 'english')\n",
    "\n",
    "counts_vec = CountVectorizer(analyzer='word',max_features=30,min_df=2,ngram_range=(2,4),tokenizer=lemma_tokenizer,\n",
    "                             stop_words='english',\n",
    "                               token_pattern=r'\\w{4,}')\n",
    "\n",
    "tfidf_des2 = TfidfVectorizer(min_df=5,max_features=10,strip_accents='unicode',lowercase =True,\n",
    "                        analyzer='word', ngram_range=(2, 6),token_pattern=r'\\w{6,}' ,use_idf=True,smooth_idf=True, \n",
    "    sublinear_tf=True, stop_words = 'english')\n",
    "\n",
    "tfidf_des_spacy = TfidfVectorizer(min_df=5,analyzer='char',tokenizer=lemma_tokenizer)\n",
    "\n",
    "tfidf_and_counts = make_union(tfidf_des1,counts_vec)\n",
    "\n",
    "# selector = SelectKBest(score_func=mutual_info_classif,k=15)\n",
    "\n",
    "# text_transformer = make_pipeline(tfidf_and_counts,selector)\n",
    "# text_transformer\n"
   ]
  },
  {
   "cell_type": "code",
   "execution_count": 87,
   "metadata": {
    "collapsed": true
   },
   "outputs": [],
   "source": [
    "def get_text_features(clf,df,name):\n",
    "    names = []\n",
    "    output = clf.fit_transform(df[name])\n",
    "    columns = clf.get_feature_names()\n",
    "    for i,val in enumerate(columns):\n",
    "        names.append(val+'_'+str(i)+'_'+name)\n",
    "#           names.append(val)  \n",
    "    \n",
    "    return pd.DataFrame(output.todense(),columns=names)"
   ]
  },
  {
   "cell_type": "code",
   "execution_count": 88,
   "metadata": {
    "collapsed": true
   },
   "outputs": [],
   "source": [
    "# tfidf_desc = get_text_features(tfidf_des,loans,'desc')\n",
    "# tfidf_emp_title = get_text_features(tfidf_des,loans,'emp_title')\n",
    "# tfidf_title = get_text_features(tfidf_des,loans,'title')\n",
    "\n",
    "tfidf_textfeat = get_text_features(tfidf_des2,loans,'desc')\n",
    "textfeat = get_text_features(tfidf_and_counts,loans,'text_features')\n",
    "# counts_textfeat = get_text_features(counts_vec,loans,'desc_emp_title_title')"
   ]
  },
  {
   "cell_type": "code",
   "execution_count": 89,
   "metadata": {},
   "outputs": [
    {
     "data": {
      "text/plain": [
       "(42223, 50)"
      ]
     },
     "execution_count": 89,
     "metadata": {},
     "output_type": "execute_result"
    }
   ],
   "source": [
    "# tfidf_textfeat\n",
    "textfeat.shape"
   ]
  },
  {
   "cell_type": "code",
   "execution_count": 90,
   "metadata": {},
   "outputs": [
    {
     "data": {
      "text/plain": [
       "<matplotlib.axes._subplots.AxesSubplot at 0x7fd2db63a9b0>"
      ]
     },
     "execution_count": 90,
     "metadata": {},
     "output_type": "execute_result"
    },
    {
     "data": {
      "image/png": "[encoded data removed]",
      "text/plain": [
       "<matplotlib.figure.Figure at 0x7fd39b85be10>"
      ]
     },
     "metadata": {},
     "output_type": "display_data"
    }
   ],
   "source": [
    "sns.distplot(np.sum(textfeat,axis=0))"
   ]
  },
  {
   "cell_type": "code",
   "execution_count": 91,
   "metadata": {
    "collapsed": true
   },
   "outputs": [],
   "source": [
    "# sns.distplot(np.sum(counts_textfeat,axis=0))"
   ]
  },
  {
   "cell_type": "code",
   "execution_count": 92,
   "metadata": {
    "collapsed": true
   },
   "outputs": [],
   "source": [
    "# np.sum(counts_textfeat,axis=0)"
   ]
  },
  {
   "cell_type": "code",
   "execution_count": 93,
   "metadata": {},
   "outputs": [
    {
     "data": {
      "text/plain": [
       "consolidate credit_0_desc    float64\n",
       "credit credit_1_desc         float64\n",
       "credit history_2_desc        float64\n",
       "credit payment_3_desc        float64\n",
       "excellent credit_4_desc      float64\n",
       "missed payment_5_desc        float64\n",
       "monthly budget_6_desc        float64\n",
       "monthly payment_7_desc       float64\n",
       "monthly payments_8_desc      float64\n",
       "paying credit_9_desc         float64\n",
       "dtype: object"
      ]
     },
     "execution_count": 93,
     "metadata": {},
     "output_type": "execute_result"
    }
   ],
   "source": [
    "tfidf_textfeat.dtypes"
   ]
  },
  {
   "cell_type": "code",
   "execution_count": 94,
   "metadata": {
    "collapsed": true
   },
   "outputs": [],
   "source": [
    "# tfidf_emp_title.dtypes"
   ]
  },
  {
   "cell_type": "code",
   "execution_count": 95,
   "metadata": {
    "collapsed": true
   },
   "outputs": [],
   "source": [
    "# tfidf_title.dtypes"
   ]
  },
  {
   "cell_type": "code",
   "execution_count": 96,
   "metadata": {
    "collapsed": true
   },
   "outputs": [],
   "source": [
    "# tfidf_desc.dtypes"
   ]
  },
  {
   "cell_type": "code",
   "execution_count": 97,
   "metadata": {
    "collapsed": true
   },
   "outputs": [],
   "source": [
    "pickle.dump(tfidf_des1, open('input/tfidf_des1.pickle', 'wb'))\n",
    "pickle.dump(counts_vec, open('input/counts_vec.pickle', 'wb'))"
   ]
  },
  {
   "cell_type": "code",
   "execution_count": null,
   "metadata": {
    "collapsed": true
   },
   "outputs": [],
   "source": []
  },
  {
   "cell_type": "code",
   "execution_count": 98,
   "metadata": {},
   "outputs": [
    {
     "data": {
      "text/plain": [
       "((42223, 49), (42223, 50))"
      ]
     },
     "execution_count": 98,
     "metadata": {},
     "output_type": "execute_result"
    }
   ],
   "source": [
    "loans.shape,textfeat.shape"
   ]
  },
  {
   "cell_type": "code",
   "execution_count": 99,
   "metadata": {
    "collapsed": true
   },
   "outputs": [],
   "source": [
    "loans = loans.drop(['text_features'],axis=1)"
   ]
  },
  {
   "cell_type": "code",
   "execution_count": null,
   "metadata": {
    "collapsed": true
   },
   "outputs": [],
   "source": []
  },
  {
   "cell_type": "markdown",
   "metadata": {},
   "source": [
    "# Time dtypes:"
   ]
  },
  {
   "cell_type": "code",
   "execution_count": 104,
   "metadata": {
    "collapsed": true
   },
   "outputs": [],
   "source": [
    "\n",
    "object_cols_df = loans.loc[:,loans.dtypes == object]"
   ]
  },
  {
   "cell_type": "code",
   "execution_count": null,
   "metadata": {
    "collapsed": true
   },
   "outputs": [],
   "source": [
    "loans['collecti']"
   ]
  },
  {
   "cell_type": "code",
   "execution_count": 120,
   "metadata": {
    "collapsed": true
   },
   "outputs": [],
   "source": [
    "#Leakage columns:\n",
    "drop_list = ['id', #'member_id',\n",
    "             'url',\n",
    "             'delinq_amnt',\n",
    "             'funded_amnt' , 'funded_amnt_inv',\n",
    "             #'grade',\n",
    "            #'sub_grade', \n",
    "             'emp_title',\n",
    "             'issue_d',\n",
    "             #'zip_code',\n",
    "             'total_pymnt',#'out_prncp','out_prncp_inv',\n",
    "             'total_pymnt_inv','total_rec_prncp',\n",
    "             'total_rec_int','total_rec_late_fee','recoveries',\n",
    "              'collection_recovery_fee','last_pymnt_d','last_pymnt_amnt'\n",
    "             #,'pymnt_plan'\n",
    "            ]\n"
   ]
  },
  {
   "cell_type": "code",
   "execution_count": 105,
   "metadata": {},
   "outputs": [
    {
     "data": {
      "text/plain": [
       "Index(['id', 'term', 'int_rate', 'grade', 'sub_grade', 'emp_title',\n",
       "       'emp_length', 'home_ownership', 'verification_status', 'issue_d',\n",
       "       'loan_status', 'url', 'desc', 'purpose', 'title', 'zip_code',\n",
       "       'addr_state', 'earliest_cr_line', 'revol_util', 'last_pymnt_d',\n",
       "       'last_credit_pull_d'],\n",
       "      dtype='object')"
      ]
     },
     "execution_count": 105,
     "metadata": {},
     "output_type": "execute_result"
    }
   ],
   "source": [
    "object_cols_df.columns"
   ]
  },
  {
   "cell_type": "code",
   "execution_count": 106,
   "metadata": {
    "collapsed": true
   },
   "outputs": [],
   "source": [
    "loans.loc[:,'int_rate'] = loans.loc[:,'int_rate'].str.strip('%').astype(np.float)\n",
    "loans.loc[:,'revol_util'] = loans.loc[:,'revol_util'].str.strip('%').astype(np.float)\n",
    "\n"
   ]
  },
  {
   "cell_type": "code",
   "execution_count": 107,
   "metadata": {
    "collapsed": true
   },
   "outputs": [],
   "source": [
    "loans.loc[:,'earliest_cr_line'] = pd.to_datetime(loans['earliest_cr_line'])\n",
    "loans.loc[:,'last_credit_pull_d'] = pd.to_datetime(loans['last_credit_pull_d'])\n",
    "\n",
    "# loans.loc[:,'issue_d'] = pd.to_datetime(object_cols_df['issue_d'])\n",
    "# loans.loc[:,'last_pymnt_d'] = pd.to_datetime(loans['last_pymnt_d'])\n"
   ]
  },
  {
   "cell_type": "code",
   "execution_count": 108,
   "metadata": {
    "collapsed": true
   },
   "outputs": [],
   "source": [
    "# loans.sample(10)"
   ]
  },
  {
   "cell_type": "code",
   "execution_count": 109,
   "metadata": {
    "collapsed": true
   },
   "outputs": [],
   "source": [
    "# loans.drop(['issue_d'],axis=1,inplace=True)"
   ]
  },
  {
   "cell_type": "code",
   "execution_count": null,
   "metadata": {
    "collapsed": true
   },
   "outputs": [],
   "source": []
  },
  {
   "cell_type": "code",
   "execution_count": 110,
   "metadata": {
    "collapsed": true
   },
   "outputs": [],
   "source": [
    "time_df = loans[['last_credit_pull_d','earliest_cr_line']].apply(lambda x:x.dt.month)\n",
    "\n",
    "time_df = pd.concat([time_df,loans[['last_credit_pull_d','earliest_cr_line']].apply(lambda x:x.dt.year)],axis=1)\n",
    "\n",
    "time_df.columns = ['last_credit_pull_M','earliest_cr_line_M','last_credit_pull_Y','earliest_cr_line_Y']"
   ]
  },
  {
   "cell_type": "code",
   "execution_count": 111,
   "metadata": {},
   "outputs": [
    {
     "data": {
      "text/html": [
       "<div>\n",
       "<style>\n",
       "    .dataframe thead tr:only-child th {\n",
       "        text-align: right;\n",
       "    }\n",
       "\n",
       "    .dataframe thead th {\n",
       "        text-align: left;\n",
       "    }\n",
       "\n",
       "    .dataframe tbody tr th {\n",
       "        vertical-align: top;\n",
       "    }\n",
       "</style>\n",
       "<table border=\"1\" class=\"dataframe\">\n",
       "  <thead>\n",
       "    <tr style=\"text-align: right;\">\n",
       "      <th></th>\n",
       "      <th>last_credit_pull_M</th>\n",
       "      <th>earliest_cr_line_M</th>\n",
       "      <th>last_credit_pull_Y</th>\n",
       "      <th>earliest_cr_line_Y</th>\n",
       "    </tr>\n",
       "  </thead>\n",
       "  <tbody>\n",
       "    <tr>\n",
       "      <th>13709</th>\n",
       "      <td>4</td>\n",
       "      <td>12</td>\n",
       "      <td>2015</td>\n",
       "      <td>2005</td>\n",
       "    </tr>\n",
       "    <tr>\n",
       "      <th>23763</th>\n",
       "      <td>5</td>\n",
       "      <td>6</td>\n",
       "      <td>2014</td>\n",
       "      <td>1986</td>\n",
       "    </tr>\n",
       "    <tr>\n",
       "      <th>12211</th>\n",
       "      <td>12</td>\n",
       "      <td>4</td>\n",
       "      <td>2015</td>\n",
       "      <td>1988</td>\n",
       "    </tr>\n",
       "    <tr>\n",
       "      <th>16696</th>\n",
       "      <td>6</td>\n",
       "      <td>9</td>\n",
       "      <td>2013</td>\n",
       "      <td>2003</td>\n",
       "    </tr>\n",
       "    <tr>\n",
       "      <th>12842</th>\n",
       "      <td>8</td>\n",
       "      <td>8</td>\n",
       "      <td>2017</td>\n",
       "      <td>2005</td>\n",
       "    </tr>\n",
       "  </tbody>\n",
       "</table>\n",
       "</div>"
      ],
      "text/plain": [
       "       last_credit_pull_M  earliest_cr_line_M  last_credit_pull_Y  \\\n",
       "13709                   4                  12                2015   \n",
       "23763                   5                   6                2014   \n",
       "12211                  12                   4                2015   \n",
       "16696                   6                   9                2013   \n",
       "12842                   8                   8                2017   \n",
       "\n",
       "       earliest_cr_line_Y  \n",
       "13709                2005  \n",
       "23763                1986  \n",
       "12211                1988  \n",
       "16696                2003  \n",
       "12842                2005  "
      ]
     },
     "execution_count": 111,
     "metadata": {},
     "output_type": "execute_result"
    }
   ],
   "source": [
    "time_df.sample(5)"
   ]
  },
  {
   "cell_type": "code",
   "execution_count": 112,
   "metadata": {},
   "outputs": [
    {
     "data": {
      "text/plain": [
       "2000    3425\n",
       "1999    3133\n",
       "1998    3055\n",
       "2001    2652\n",
       "1997    2610\n",
       "1996    2414\n",
       "1995    2284\n",
       "1994    2155\n",
       "2002    2046\n",
       "2003    1960\n",
       "2004    1858\n",
       "1993    1608\n",
       "2005    1607\n",
       "2006    1298\n",
       "1992    1149\n",
       "1990    1107\n",
       "1991    1034\n",
       "1989     925\n",
       "1988     782\n",
       "2007     758\n",
       "1987     662\n",
       "1986     533\n",
       "1985     485\n",
       "1984     431\n",
       "1983     359\n",
       "1982     238\n",
       "1981     205\n",
       "1980     187\n",
       "1979     178\n",
       "1978     173\n",
       "2008     158\n",
       "1977     123\n",
       "1976     112\n",
       "1975      87\n",
       "1974      71\n",
       "1973      69\n",
       "1972      56\n",
       "1971      50\n",
       "1970      49\n",
       "1969      41\n",
       "1968      23\n",
       "1967      18\n",
       "1963      12\n",
       "1966      11\n",
       "1964       9\n",
       "1965       9\n",
       "1962       5\n",
       "1961       2\n",
       "1959       2\n",
       "1954       2\n",
       "1946       1\n",
       "1956       1\n",
       "1950       1\n",
       "Name: earliest_cr_line_Y, dtype: int64"
      ]
     },
     "execution_count": 112,
     "metadata": {},
     "output_type": "execute_result"
    }
   ],
   "source": [
    "time_df['earliest_cr_line_Y'].value_counts()"
   ]
  },
  {
   "cell_type": "code",
   "execution_count": 113,
   "metadata": {},
   "outputs": [
    {
     "data": {
      "text/plain": [
       "2017    14838\n",
       "2016     9016\n",
       "2014     4626\n",
       "2013     3895\n",
       "2015     3589\n",
       "2012     3123\n",
       "2011     1992\n",
       "2010      804\n",
       "2009      245\n",
       "2008       57\n",
       "2007       38\n",
       "Name: last_credit_pull_Y, dtype: int64"
      ]
     },
     "execution_count": 113,
     "metadata": {},
     "output_type": "execute_result"
    }
   ],
   "source": [
    "time_df['last_credit_pull_Y'].value_counts()"
   ]
  },
  {
   "cell_type": "code",
   "execution_count": 114,
   "metadata": {
    "collapsed": true
   },
   "outputs": [],
   "source": [
    "#Leakage! dropping Y\n",
    "time_df.drop(['last_credit_pull_Y'],axis=1,inplace=True)"
   ]
  },
  {
   "cell_type": "code",
   "execution_count": 115,
   "metadata": {},
   "outputs": [
    {
     "data": {
      "text/plain": [
       "Index(['last_credit_pull_M', 'earliest_cr_line_M', 'earliest_cr_line_Y'], dtype='object')"
      ]
     },
     "execution_count": 115,
     "metadata": {},
     "output_type": "execute_result"
    }
   ],
   "source": [
    "time_df.columns"
   ]
  },
  {
   "cell_type": "code",
   "execution_count": 121,
   "metadata": {
    "collapsed": true
   },
   "outputs": [],
   "source": [
    "loans_old = loans.copy()\n",
    "# loans = loans_old"
   ]
  },
  {
   "cell_type": "code",
   "execution_count": 122,
   "metadata": {
    "collapsed": true
   },
   "outputs": [],
   "source": [
    "loans = loans.drop(drop_list,axis=1)"
   ]
  },
  {
   "cell_type": "code",
   "execution_count": 123,
   "metadata": {},
   "outputs": [
    {
     "data": {
      "text/plain": [
       "(42223, 32)"
      ]
     },
     "execution_count": 123,
     "metadata": {},
     "output_type": "execute_result"
    }
   ],
   "source": [
    "loans.shape"
   ]
  },
  {
   "cell_type": "code",
   "execution_count": 126,
   "metadata": {
    "collapsed": true
   },
   "outputs": [],
   "source": [
    "loans = pd.concat([loans,time_df],axis=1)#Adding time columns"
   ]
  },
  {
   "cell_type": "code",
   "execution_count": 127,
   "metadata": {},
   "outputs": [
    {
     "data": {
      "text/plain": [
       "loan_amnt                      float64\n",
       "term                            object\n",
       "int_rate                       float64\n",
       "installment                    float64\n",
       "grade                           object\n",
       "sub_grade                       object\n",
       "emp_length                      object\n",
       "home_ownership                  object\n",
       "annual_inc                     float64\n",
       "verification_status             object\n",
       "loan_status                     object\n",
       "desc                            object\n",
       "purpose                         object\n",
       "title                           object\n",
       "zip_code                        object\n",
       "addr_state                      object\n",
       "dti                            float64\n",
       "delinq_2yrs                    float64\n",
       "earliest_cr_line        datetime64[ns]\n",
       "fico_range_low                 float64\n",
       "fico_range_high                float64\n",
       "inq_last_6mths                 float64\n",
       "open_acc                       float64\n",
       "pub_rec                        float64\n",
       "revol_bal                      float64\n",
       "revol_util                     float64\n",
       "total_acc                      float64\n",
       "last_credit_pull_d      datetime64[ns]\n",
       "last_fico_range_high           float64\n",
       "last_fico_range_low            float64\n",
       "pub_rec_bankruptcies           float64\n",
       "y                                int64\n",
       "last_credit_pull_M               int64\n",
       "earliest_cr_line_M               int64\n",
       "earliest_cr_line_Y               int64\n",
       "dtype: object"
      ]
     },
     "execution_count": 127,
     "metadata": {},
     "output_type": "execute_result"
    }
   ],
   "source": [
    "loans.shape; loans.dtypes"
   ]
  },
  {
   "cell_type": "code",
   "execution_count": null,
   "metadata": {
    "collapsed": true
   },
   "outputs": [],
   "source": [
    "time_df"
   ]
  },
  {
   "cell_type": "code",
   "execution_count": 128,
   "metadata": {
    "collapsed": true
   },
   "outputs": [],
   "source": [
    "del object_cols_df"
   ]
  },
  {
   "cell_type": "code",
   "execution_count": null,
   "metadata": {
    "collapsed": true
   },
   "outputs": [],
   "source": [
    "# loans['zipcode']"
   ]
  },
  {
   "cell_type": "code",
   "execution_count": 129,
   "metadata": {
    "collapsed": true
   },
   "outputs": [],
   "source": [
    "loans = loans.drop(['last_credit_pull_d','earliest_cr_line'],axis=1)"
   ]
  },
  {
   "cell_type": "code",
   "execution_count": 134,
   "metadata": {
    "collapsed": true
   },
   "outputs": [],
   "source": [
    "# loans.drop(['id','url','title','desc'],axis=1,inplace=True)\n",
    "loans.drop(['desc','title'],axis=1,inplace=True)"
   ]
  },
  {
   "cell_type": "code",
   "execution_count": 137,
   "metadata": {},
   "outputs": [
    {
     "data": {
      "text/plain": [
       "((42223, 50), (42223, 31))"
      ]
     },
     "execution_count": 137,
     "metadata": {},
     "output_type": "execute_result"
    }
   ],
   "source": [
    "textfeat.shape,loans.shape"
   ]
  },
  {
   "cell_type": "code",
   "execution_count": null,
   "metadata": {
    "collapsed": true
   },
   "outputs": [],
   "source": []
  },
  {
   "cell_type": "markdown",
   "metadata": {},
   "source": [
    "# Object dtypes:"
   ]
  },
  {
   "cell_type": "code",
   "execution_count": 138,
   "metadata": {
    "collapsed": true
   },
   "outputs": [],
   "source": [
    "object_df = loans.loc[:,loans.dtypes == object]\n",
    "\n",
    "# object_df = object_df.drop(['emp_title','title','desc','zip_code'],axis=1)\n",
    "\n",
    "#Dropping descriptive columns and the Zip code column."
   ]
  },
  {
   "cell_type": "code",
   "execution_count": 139,
   "metadata": {},
   "outputs": [
    {
     "data": {
      "text/html": [
       "<div>\n",
       "<style>\n",
       "    .dataframe thead tr:only-child th {\n",
       "        text-align: right;\n",
       "    }\n",
       "\n",
       "    .dataframe thead th {\n",
       "        text-align: left;\n",
       "    }\n",
       "\n",
       "    .dataframe tbody tr th {\n",
       "        vertical-align: top;\n",
       "    }\n",
       "</style>\n",
       "<table border=\"1\" class=\"dataframe\">\n",
       "  <thead>\n",
       "    <tr style=\"text-align: right;\">\n",
       "      <th></th>\n",
       "      <th>term</th>\n",
       "      <th>grade</th>\n",
       "      <th>sub_grade</th>\n",
       "      <th>emp_length</th>\n",
       "      <th>home_ownership</th>\n",
       "      <th>verification_status</th>\n",
       "      <th>loan_status</th>\n",
       "      <th>purpose</th>\n",
       "      <th>zip_code</th>\n",
       "      <th>addr_state</th>\n",
       "    </tr>\n",
       "  </thead>\n",
       "  <tbody>\n",
       "    <tr>\n",
       "      <th>18953</th>\n",
       "      <td>36 months</td>\n",
       "      <td>B</td>\n",
       "      <td>B1</td>\n",
       "      <td>10+ years</td>\n",
       "      <td>MORTGAGE</td>\n",
       "      <td>Not Verified</td>\n",
       "      <td>Fully Paid</td>\n",
       "      <td>debt_consolidation</td>\n",
       "      <td>917xx</td>\n",
       "      <td>CA</td>\n",
       "    </tr>\n",
       "    <tr>\n",
       "      <th>25043</th>\n",
       "      <td>36 months</td>\n",
       "      <td>D</td>\n",
       "      <td>D2</td>\n",
       "      <td>10+ years</td>\n",
       "      <td>MORTGAGE</td>\n",
       "      <td>Verified</td>\n",
       "      <td>Charged Off</td>\n",
       "      <td>debt_consolidation</td>\n",
       "      <td>923xx</td>\n",
       "      <td>CA</td>\n",
       "    </tr>\n",
       "  </tbody>\n",
       "</table>\n",
       "</div>"
      ],
      "text/plain": [
       "             term grade sub_grade emp_length home_ownership  \\\n",
       "18953   36 months     B        B1  10+ years       MORTGAGE   \n",
       "25043   36 months     D        D2  10+ years       MORTGAGE   \n",
       "\n",
       "      verification_status  loan_status             purpose zip_code addr_state  \n",
       "18953        Not Verified   Fully Paid  debt_consolidation    917xx         CA  \n",
       "25043            Verified  Charged Off  debt_consolidation    923xx         CA  "
      ]
     },
     "execution_count": 139,
     "metadata": {},
     "output_type": "execute_result"
    }
   ],
   "source": [
    "object_df.sample(2)"
   ]
  },
  {
   "cell_type": "code",
   "execution_count": 345,
   "metadata": {
    "collapsed": true
   },
   "outputs": [],
   "source": [
    "def to_dict(s):\n",
    "    return {val:i for i,val in enumerate(s.value_counts().index)}\n",
    "\n",
    "def one_hot(x,num_classes=None):\n",
    "    d = to_dict(x)\n",
    "    return to_categorical(x.map(d))"
   ]
  },
  {
   "cell_type": "code",
   "execution_count": 346,
   "metadata": {
    "collapsed": true
   },
   "outputs": [],
   "source": [
    "oh = [one_hot(pd.DataFrame(cat_map_valid).iloc[i]) for i in range(cat_map_valid.shape[0])]"
   ]
  },
  {
   "cell_type": "code",
   "execution_count": 316,
   "metadata": {},
   "outputs": [
    {
     "data": {
      "text/plain": [
       "(33778, 12)"
      ]
     },
     "execution_count": 316,
     "metadata": {},
     "output_type": "execute_result"
    }
   ],
   "source": [
    "cat_map_train.shape"
   ]
  },
  {
   "cell_type": "code",
   "execution_count": 359,
   "metadata": {},
   "outputs": [
    {
     "data": {
      "text/plain": [
       "(72, 1)"
      ]
     },
     "execution_count": 359,
     "metadata": {},
     "output_type": "execute_result"
    }
   ],
   "source": [
    "pd.DataFrame(oh)[0][0].reshape(12*6,1).shape"
   ]
  },
  {
   "cell_type": "code",
   "execution_count": 348,
   "metadata": {},
   "outputs": [
    {
     "data": {
      "text/plain": [
       "(33778, 12)"
      ]
     },
     "execution_count": 348,
     "metadata": {},
     "output_type": "execute_result"
    }
   ],
   "source": [
    "cat_map_train.shape"
   ]
  },
  {
   "cell_type": "code",
   "execution_count": null,
   "metadata": {
    "collapsed": true
   },
   "outputs": [],
   "source": []
  },
  {
   "cell_type": "code",
   "execution_count": 496,
   "metadata": {
    "scrolled": false
   },
   "outputs": [
    {
     "name": "stdout",
     "output_type": "stream",
     "text": [
      "####This are the Categorical columns####:\n",
      "\n",
      " 36 months    31243\n",
      " 60 months    10980\n",
      "Name: term, dtype: int64\n",
      "\n",
      "\n",
      "B    12349\n",
      "A    10156\n",
      "C     8671\n",
      "D     5957\n",
      "E     3335\n",
      "F     1270\n",
      "G      485\n",
      "Name: grade, dtype: int64\n",
      "\n",
      "\n",
      "B3    2989\n",
      "A4    2902\n",
      "B5    2798\n",
      "A5    2783\n",
      "B4    2578\n",
      "C1    2254\n",
      "C2    2139\n",
      "B2    2106\n",
      "B1    1878\n",
      "A3    1818\n",
      "C3    1642\n",
      "A2    1514\n",
      "D2    1476\n",
      "C4    1356\n",
      "D3    1309\n",
      "C5    1280\n",
      "A1    1139\n",
      "D4    1131\n",
      "D1    1041\n",
      "D5    1000\n",
      "E1     878\n",
      "E2     775\n",
      "E3     656\n",
      "E4     542\n",
      "E5     484\n",
      "F1     383\n",
      "F2     299\n",
      "F3     235\n",
      "F4     202\n",
      "F5     151\n",
      "G1     136\n",
      "G2     102\n",
      "G4      92\n",
      "G5      81\n",
      "G3      74\n",
      "Name: sub_grade, dtype: int64\n",
      "\n",
      "\n",
      "10+ years    9348\n",
      "< 1 year     4974\n",
      "2 years      4708\n",
      "3 years      4339\n",
      "4 years      3627\n",
      "1 year       3536\n",
      "5 years      3440\n",
      "6 years      2365\n",
      "7 years      1867\n",
      "8 years      1583\n",
      "9 years      1332\n",
      "n/a          1104\n",
      "Name: emp_length, dtype: int64\n",
      "\n",
      "\n",
      "RENT        19979\n",
      "MORTGAGE    18880\n",
      "OWN          3226\n",
      "OTHER         134\n",
      "NONE            4\n",
      "Name: home_ownership, dtype: int64\n",
      "\n",
      "\n",
      "Not Verified       18506\n",
      "Verified           13437\n",
      "Source Verified    10280\n",
      "Name: verification_status, dtype: int64\n",
      "\n",
      "\n",
      "Fully Paid                                             34081\n",
      "Charged Off                                             5586\n",
      "Does not meet the credit policy. Status:Fully Paid      1860\n",
      "Does not meet the credit policy. Status:Charged Off      696\n",
      "Name: loan_status, dtype: int64\n",
      "\n",
      "\n",
      "debt_consolidation    19676\n",
      "credit_card            5440\n",
      "other                  4349\n",
      "home_improvement       3183\n",
      "major_purchase         2299\n",
      "small_business         1977\n",
      "car                    1607\n",
      "wedding                 996\n",
      "medical                 748\n",
      "moving                  623\n",
      "house                   422\n",
      "educational             400\n",
      "vacation                398\n",
      "renewable_energy        105\n",
      "Name: purpose, dtype: int64\n",
      "\n",
      "\n",
      "100xx    630\n",
      "945xx    558\n",
      "606xx    546\n",
      "112xx    533\n",
      "070xx    498\n",
      "900xx    474\n",
      "300xx    430\n",
      "021xx    413\n",
      "750xx    391\n",
      "926xx    386\n",
      "331xx    374\n",
      "917xx    368\n",
      "941xx    361\n",
      "921xx    360\n",
      "770xx    350\n",
      "117xx    316\n",
      "852xx    297\n",
      "113xx    296\n",
      "913xx    293\n",
      "330xx    279\n",
      "891xx    272\n",
      "080xx    261\n",
      "334xx    256\n",
      "902xx    244\n",
      "925xx    242\n",
      "980xx    240\n",
      "201xx    239\n",
      "303xx    236\n",
      "951xx    234\n",
      "920xx    232\n",
      "        ... \n",
      "878xx      1\n",
      "369xx      1\n",
      "689xx      1\n",
      "383xx      1\n",
      "831xx      1\n",
      "747xx      1\n",
      "426xx      1\n",
      "414xx      1\n",
      "388xx      1\n",
      "385xx      1\n",
      "514xx      1\n",
      "738xx      1\n",
      "373xx      1\n",
      "465xx      1\n",
      "036xx      1\n",
      "289xx      1\n",
      "965xx      1\n",
      "823xx      1\n",
      "556xx      1\n",
      "772xx      1\n",
      "162xx      1\n",
      "266xx      1\n",
      "834xx      1\n",
      "663xx      1\n",
      "090xx      1\n",
      "007xx      1\n",
      "386xx      1\n",
      "500xx      1\n",
      "375xx      1\n",
      "248xx      1\n",
      "Name: zip_code, Length: 836, dtype: int64\n",
      "\n",
      "\n",
      "CA    7399\n",
      "NY    4026\n",
      "FL    3063\n",
      "TX    2897\n",
      "NJ    1966\n",
      "IL    1667\n",
      "PA    1643\n",
      "GA    1488\n",
      "VA    1478\n",
      "MA    1425\n",
      "OH    1322\n",
      "MD    1111\n",
      "AZ     925\n",
      "WA     886\n",
      "CO     854\n",
      "NC     818\n",
      "CT     808\n",
      "MI     794\n",
      "MO     752\n",
      "MN     649\n",
      "NV     526\n",
      "WI     512\n",
      "SC     489\n",
      "AL     480\n",
      "OR     467\n",
      "LA     459\n",
      "KY     356\n",
      "OK     317\n",
      "KS     293\n",
      "UT     276\n",
      "AR     259\n",
      "DC     222\n",
      "RI     208\n",
      "NM     205\n",
      "NH     187\n",
      "WV     186\n",
      "HI     180\n",
      "DE     135\n",
      "MT      95\n",
      "WY      86\n",
      "AK      86\n",
      "SD      66\n",
      "VT      56\n",
      "TN      32\n",
      "MS      26\n",
      "IN      15\n",
      "IA      12\n",
      "ID       9\n",
      "NE       9\n",
      "ME       3\n",
      "Name: addr_state, dtype: int64\n",
      "\n",
      "\n"
     ]
    }
   ],
   "source": [
    "#Looking at count distributions of some more columns: \n",
    "\n",
    "print('####This are the Categorical columns####:\\n')\n",
    "for col in object_df.columns:\n",
    "        print(object_df[col].value_counts());print('\\n')"
   ]
  },
  {
   "cell_type": "code",
   "execution_count": null,
   "metadata": {
    "collapsed": true
   },
   "outputs": [],
   "source": []
  },
  {
   "cell_type": "code",
   "execution_count": 142,
   "metadata": {
    "collapsed": true
   },
   "outputs": [],
   "source": [
    "contin_df = loans.select_dtypes(include=[np.float])#Continuous features"
   ]
  },
  {
   "cell_type": "code",
   "execution_count": null,
   "metadata": {
    "collapsed": true
   },
   "outputs": [],
   "source": [
    "unique_counts_dict = {col:len(contin_df[col].unique()) for i,col in enumerate(contin_df.columns)}"
   ]
  },
  {
   "cell_type": "code",
   "execution_count": null,
   "metadata": {
    "collapsed": true
   },
   "outputs": [],
   "source": [
    "unique_counts_dict"
   ]
  },
  {
   "cell_type": "code",
   "execution_count": 1,
   "metadata": {
    "collapsed": true
   },
   "outputs": [],
   "source": [
    "#Selecting a few columns for now:\n",
    "\n",
    "# contin_df = contin_df[['annual_inc','int_rate','open_acc',\n",
    "#                        'revol_bal','installment','total_acc']]"
   ]
  },
  {
   "cell_type": "code",
   "execution_count": null,
   "metadata": {
    "collapsed": true
   },
   "outputs": [],
   "source": [
    "contin_df = contin_df.drop(['pub_rec_bankruptcies','pub_rec'],axis=1)"
   ]
  },
  {
   "cell_type": "code",
   "execution_count": 148,
   "metadata": {
    "collapsed": true
   },
   "outputs": [],
   "source": [
    "# contin_df = pd.concat([contin_df,textfeat],axis=1)"
   ]
  },
  {
   "cell_type": "code",
   "execution_count": 360,
   "metadata": {
    "collapsed": true
   },
   "outputs": [],
   "source": [
    "contin_df = contin_df[['int_rate','revol_bal']]"
   ]
  },
  {
   "cell_type": "code",
   "execution_count": null,
   "metadata": {
    "collapsed": true
   },
   "outputs": [],
   "source": [
    "#Dropping some columns that may cause leaks:\n",
    "\n",
    "loans = loans.drop(['collection_recovery_fee','delinq_amnt'],axis=1)\n"
   ]
  },
  {
   "cell_type": "code",
   "execution_count": null,
   "metadata": {
    "collapsed": true
   },
   "outputs": [],
   "source": [
    "loans['pub_rec'].unique()"
   ]
  },
  {
   "cell_type": "code",
   "execution_count": null,
   "metadata": {
    "collapsed": true
   },
   "outputs": [],
   "source": [
    "loans['pub_rec_bankruptcies'].unique()"
   ]
  },
  {
   "cell_type": "code",
   "execution_count": null,
   "metadata": {
    "collapsed": true
   },
   "outputs": [],
   "source": [
    "sns.distplot(loans['inq_last_6mths'])"
   ]
  },
  {
   "cell_type": "code",
   "execution_count": null,
   "metadata": {
    "collapsed": true
   },
   "outputs": [],
   "source": [
    "loans['inq_last_6mths'].min()"
   ]
  },
  {
   "cell_type": "code",
   "execution_count": null,
   "metadata": {
    "collapsed": true
   },
   "outputs": [],
   "source": [
    "loans['inq_last_6mths'].value_counts()"
   ]
  },
  {
   "cell_type": "code",
   "execution_count": null,
   "metadata": {
    "collapsed": true
   },
   "outputs": [],
   "source": [
    "sns.distplot(loans['total_acc'])"
   ]
  },
  {
   "cell_type": "markdown",
   "metadata": {},
   "source": [
    "## Notes:\n",
    "- Using 'pub_rec' and 'pub_rec_bankruptcies' as categorical variables.\n",
    "- Dropping a few columns that may cause leaks."
   ]
  },
  {
   "cell_type": "code",
   "execution_count": null,
   "metadata": {
    "collapsed": true
   },
   "outputs": [],
   "source": [
    "object_df = object_df.drop(['loan_status'],axis=1)"
   ]
  },
  {
   "cell_type": "code",
   "execution_count": null,
   "metadata": {
    "collapsed": true
   },
   "outputs": [],
   "source": [
    "loans.shape,object_df.shape,contin_df.shape"
   ]
  },
  {
   "cell_type": "code",
   "execution_count": null,
   "metadata": {
    "collapsed": true
   },
   "outputs": [],
   "source": [
    "y = loans['y']"
   ]
  },
  {
   "cell_type": "markdown",
   "metadata": {},
   "source": [
    "# Categorical Variables:"
   ]
  },
  {
   "cell_type": "code",
   "execution_count": 448,
   "metadata": {
    "collapsed": true
   },
   "outputs": [],
   "source": [
    "from sklearn_pandas import DataFrameMapper\n",
    "from sklearn.preprocessing import LabelEncoder, Imputer, StandardScaler,OneHotEncoder, MinMaxScaler"
   ]
  },
  {
   "cell_type": "code",
   "execution_count": 499,
   "metadata": {
    "collapsed": true
   },
   "outputs": [],
   "source": [
    "cat_vars = object_df.columns.tolist() + ['pub_rec','pub_rec_bankruptcies']\n",
    "contin_vars = contin_df.columns.tolist()"
   ]
  },
  {
   "cell_type": "code",
   "execution_count": 498,
   "metadata": {
    "collapsed": true
   },
   "outputs": [],
   "source": [
    "cat_vars = ['grade','sub_grade']"
   ]
  },
  {
   "cell_type": "code",
   "execution_count": 371,
   "metadata": {},
   "outputs": [
    {
     "data": {
      "text/plain": [
       "2"
      ]
     },
     "execution_count": 371,
     "metadata": {},
     "output_type": "execute_result"
    }
   ],
   "source": [
    "len(contin_vars)"
   ]
  },
  {
   "cell_type": "code",
   "execution_count": 420,
   "metadata": {},
   "outputs": [
    {
     "data": {
      "text/plain": [
       "2"
      ]
     },
     "execution_count": 420,
     "metadata": {},
     "output_type": "execute_result"
    }
   ],
   "source": [
    "len(cat_vars)"
   ]
  },
  {
   "cell_type": "code",
   "execution_count": 500,
   "metadata": {
    "collapsed": true
   },
   "outputs": [],
   "source": [
    "cat_maps = [(o, LabelEncoder()) for o in cat_vars]\n",
    "contin_maps = [([o],MinMaxScaler() ) for o in contin_vars]"
   ]
  },
  {
   "cell_type": "code",
   "execution_count": 501,
   "metadata": {},
   "outputs": [
    {
     "data": {
      "text/plain": [
       "[('term', LabelEncoder()),\n",
       " ('grade', LabelEncoder()),\n",
       " ('sub_grade', LabelEncoder()),\n",
       " ('emp_length', LabelEncoder()),\n",
       " ('home_ownership', LabelEncoder()),\n",
       " ('verification_status', LabelEncoder()),\n",
       " ('loan_status', LabelEncoder()),\n",
       " ('purpose', LabelEncoder()),\n",
       " ('zip_code', LabelEncoder()),\n",
       " ('addr_state', LabelEncoder()),\n",
       " ('pub_rec', LabelEncoder()),\n",
       " ('pub_rec_bankruptcies', LabelEncoder())]"
      ]
     },
     "execution_count": 501,
     "metadata": {},
     "output_type": "execute_result"
    }
   ],
   "source": [
    "cat_maps"
   ]
  },
  {
   "cell_type": "code",
   "execution_count": 502,
   "metadata": {},
   "outputs": [
    {
     "data": {
      "text/plain": [
       "[(['int_rate'], MinMaxScaler(copy=True, feature_range=(0, 1))),\n",
       " (['revol_bal'], MinMaxScaler(copy=True, feature_range=(0, 1)))]"
      ]
     },
     "execution_count": 502,
     "metadata": {},
     "output_type": "execute_result"
    }
   ],
   "source": [
    "contin_maps"
   ]
  },
  {
   "cell_type": "code",
   "execution_count": 503,
   "metadata": {},
   "outputs": [
    {
     "name": "stdout",
     "output_type": "stream",
     "text": [
      "12\n"
     ]
    }
   ],
   "source": [
    "cat_mapper = DataFrameMapper(cat_maps)\n",
    "\n",
    "cat_map_fit = cat_mapper.fit(loans)\n",
    "cat_cols = len(cat_map_fit.features)\n",
    "print(cat_cols)\n",
    "\n",
    "#Write out the mappings:\n",
    "pickle.dump(cat_map_fit, open('input/cat_maps.pickle', 'wb'))"
   ]
  },
  {
   "cell_type": "code",
   "execution_count": 504,
   "metadata": {},
   "outputs": [
    {
     "name": "stdout",
     "output_type": "stream",
     "text": [
      "2\n"
     ]
    }
   ],
   "source": [
    "contin_mapper = DataFrameMapper(contin_maps)\n",
    "\n",
    "contin_map_fit = contin_mapper.fit(loans)\n",
    "contin_cols = len(contin_map_fit.features)\n",
    "print(contin_cols)\n",
    "\n",
    "#Write out the mappings:\n",
    "pickle.dump(contin_map_fit, open('input/contin_maps.pickle', 'wb'))"
   ]
  },
  {
   "cell_type": "code",
   "execution_count": null,
   "metadata": {
    "collapsed": true
   },
   "outputs": [],
   "source": []
  },
  {
   "cell_type": "code",
   "execution_count": null,
   "metadata": {
    "collapsed": true
   },
   "outputs": [],
   "source": []
  },
  {
   "cell_type": "markdown",
   "metadata": {},
   "source": [
    "# Sampling:"
   ]
  },
  {
   "cell_type": "code",
   "execution_count": 505,
   "metadata": {
    "collapsed": true
   },
   "outputs": [],
   "source": [
    "#Exchangeable samples:\n",
    "samp_size = loans.shape[0]\n",
    "np.random.seed(42)\n",
    "idxs = sorted(np.random.choice(samp_size,samp_size))"
   ]
  },
  {
   "cell_type": "code",
   "execution_count": 506,
   "metadata": {
    "collapsed": true
   },
   "outputs": [],
   "source": [
    "loans_sample = loans.iloc[idxs]"
   ]
  },
  {
   "cell_type": "code",
   "execution_count": 507,
   "metadata": {
    "collapsed": true
   },
   "outputs": [],
   "source": [
    "# loans_sample.dtypes\n",
    "y_sample = y.iloc[idxs]"
   ]
  },
  {
   "cell_type": "code",
   "execution_count": 508,
   "metadata": {
    "collapsed": true
   },
   "outputs": [],
   "source": [
    "textfeat_sample = textfeat.iloc[idxs]"
   ]
  },
  {
   "cell_type": "code",
   "execution_count": 509,
   "metadata": {
    "collapsed": true
   },
   "outputs": [],
   "source": [
    "# idxs\n",
    "train_split = 0.8\n",
    "train_size = int(samp_size * train_split)"
   ]
  },
  {
   "cell_type": "code",
   "execution_count": null,
   "metadata": {
    "collapsed": true
   },
   "outputs": [],
   "source": []
  },
  {
   "cell_type": "code",
   "execution_count": 510,
   "metadata": {
    "collapsed": true
   },
   "outputs": [],
   "source": [
    "y_train = y_sample[:train_size]\n",
    "y_valid = y_sample[train_size:]"
   ]
  },
  {
   "cell_type": "code",
   "execution_count": 511,
   "metadata": {
    "collapsed": true
   },
   "outputs": [],
   "source": [
    "text_train = textfeat_sample[:train_size]\n",
    "text_valid = textfeat_sample[train_size:]"
   ]
  },
  {
   "cell_type": "code",
   "execution_count": 512,
   "metadata": {
    "collapsed": true
   },
   "outputs": [],
   "source": [
    "train = loans_sample[:train_size]\n",
    "valid = loans_sample[train_size:]"
   ]
  },
  {
   "cell_type": "code",
   "execution_count": 513,
   "metadata": {
    "collapsed": true
   },
   "outputs": [],
   "source": [
    "cat_map_train = cat_map_fit.transform(train)\n",
    "cat_map_valid = cat_map_fit.transform(valid)"
   ]
  },
  {
   "cell_type": "code",
   "execution_count": 514,
   "metadata": {
    "collapsed": true
   },
   "outputs": [],
   "source": [
    "contin_map_train = contin_map_fit.transform(train)\n",
    "contin_map_valid = contin_map_fit.transform(valid)"
   ]
  },
  {
   "cell_type": "code",
   "execution_count": 515,
   "metadata": {},
   "outputs": [
    {
     "data": {
      "text/plain": [
       "(33778, 2)"
      ]
     },
     "execution_count": 515,
     "metadata": {},
     "output_type": "execute_result"
    }
   ],
   "source": [
    "contin_map_train.shape"
   ]
  },
  {
   "cell_type": "code",
   "execution_count": 516,
   "metadata": {},
   "outputs": [
    {
     "data": {
      "text/plain": [
       "array([[ 0.51382368,  0.00139726],\n",
       "       [ 0.54981742,  0.00244832],\n",
       "       [ 0.54981742,  0.00244832],\n",
       "       ..., \n",
       "       [ 0.46113719,  0.01449942],\n",
       "       [ 0.33437663,  0.01120876],\n",
       "       [ 0.40688576,  0.0141706 ]])"
      ]
     },
     "execution_count": 516,
     "metadata": {},
     "output_type": "execute_result"
    }
   ],
   "source": [
    "contin_map_train"
   ]
  },
  {
   "cell_type": "code",
   "execution_count": 517,
   "metadata": {
    "collapsed": true
   },
   "outputs": [],
   "source": [
    "# contin_map_train = np.concatenate([contin_map_train,np.array(text_train)],axis=1)# Adding text features\n",
    "# contin_map_valid = np.concatenate([contin_map_valid,np.array(text_valid)],axis=1)# Adding text features"
   ]
  },
  {
   "cell_type": "code",
   "execution_count": null,
   "metadata": {
    "collapsed": true
   },
   "outputs": [],
   "source": []
  },
  {
   "cell_type": "code",
   "execution_count": 518,
   "metadata": {},
   "outputs": [
    {
     "data": {
      "text/plain": [
       "(33778, 2)"
      ]
     },
     "execution_count": 518,
     "metadata": {},
     "output_type": "execute_result"
    }
   ],
   "source": [
    "contin_map_train.shape"
   ]
  },
  {
   "cell_type": "code",
   "execution_count": 519,
   "metadata": {
    "collapsed": true
   },
   "outputs": [],
   "source": [
    "def split_cols(arr): return np.hsplit(arr,arr.shape[1])"
   ]
  },
  {
   "cell_type": "code",
   "execution_count": 520,
   "metadata": {
    "collapsed": true
   },
   "outputs": [],
   "source": [
    "def split_data(train,valid,split_contin=False):\n",
    "    cat_map_train = cat_map_fit.transform(train)\n",
    "    cat_map_valid = cat_map_fit.transform(valid)\n",
    "    \n",
    "    contim_map_train = contin_map_fit.transform(train)\n",
    "    contim_map_valid = contin_map_fit.transform(valid)\n",
    "    \n",
    "    if split_contin:\n",
    "        map_train = split_cols(cat_map_train) + split_cols(contin_map_train)\n",
    "        map_valid = split_cols(cat_map_valid) + split_cols(contin_map_valid)\n",
    "    else:\n",
    "        map_train = split_cols(cat_map_train) + [contin_map_train]\n",
    "        map_valid = split_cols(cat_map_valid) + [contin_map_valid]\n",
    "    return (map_train, map_valid)"
   ]
  },
  {
   "cell_type": "code",
   "execution_count": 521,
   "metadata": {
    "collapsed": true
   },
   "outputs": [],
   "source": [
    "# map_train = split_cols(cat_map_train) + [contin_map_train]\n",
    "# map_valid = split_cols(cat_map_valid) + [contin_map_valid]"
   ]
  },
  {
   "cell_type": "code",
   "execution_count": 522,
   "metadata": {
    "collapsed": true
   },
   "outputs": [],
   "source": [
    "map_train,map_valid = split_data(train,valid,split_contin=False)"
   ]
  },
  {
   "cell_type": "markdown",
   "metadata": {},
   "source": [
    "# Neural Network\n",
    "\n",
    "- A neural network trained on some of the data."
   ]
  },
  {
   "cell_type": "code",
   "execution_count": 526,
   "metadata": {
    "collapsed": true
   },
   "outputs": [],
   "source": [
    "def matthews_correlation(y_true, y_pred):\n",
    "        y_pred_pos = K.round(K.clip(y_pred, 0, 1))\n",
    "        y_pred_neg = 1 - y_pred_pos\n",
    "\n",
    "        y_pos = K.round(K.clip(y_true, 0, 1))\n",
    "        y_neg = 1 - y_pos\n",
    "\n",
    "        tp = K.sum(y_pos * y_pred_pos)\n",
    "        tn = K.sum(y_neg * y_pred_neg)\n",
    "\n",
    "        fp = K.sum(1 - y_neg * y_pred_pos)\n",
    "        fn = K.sum(1 - y_pos * y_pred_neg)\n",
    "\n",
    "        numerator = (tp * tn - fp * fn)\n",
    "        denominator = K.sqrt((tp + fp) * (tp + fn) * (tn + fp) * (tn + fn))\n",
    "\n",
    "        return -numerator / (denominator + K.epsilon())#1e-6)\n"
   ]
  },
  {
   "cell_type": "code",
   "execution_count": 527,
   "metadata": {
    "collapsed": true
   },
   "outputs": [],
   "source": [
    "def map_info(feat): return feat[0],len(feat[1].classes_)"
   ]
  },
  {
   "cell_type": "code",
   "execution_count": 572,
   "metadata": {
    "collapsed": true
   },
   "outputs": [],
   "source": [
    "def get_embeddings(feature,cat_map_fit):\n",
    "    name,nfeat = map_info(feature)\n",
    "    em_out = nfeat\n",
    "#     em_out = (nfeat+1)//2 #Arbitrary choice\n",
    "    if nfeat>10: em_out = 10\n",
    "    inp = Input((1,),dtype='int64',name=name+'_emb_in')\n",
    "#     emb_init = VarianceScaling(scale=2/(1+em_out), distribution='normal')\n",
    "    emb_init = 'glorot_normal'\n",
    "    u = Embedding(nfeat,em_out,input_length=1,#activity_regularizer=l2(1e-6),\n",
    "                  embeddings_regularizer=l2(1e-6),\n",
    "                  embeddings_initializer=emb_init)(inp)\n",
    "    u = Flatten(name=name+'_emb_fltn')(u)\n",
    "    return inp,u\n",
    "\n",
    "    "
   ]
  },
  {
   "cell_type": "code",
   "execution_count": 582,
   "metadata": {
    "collapsed": true
   },
   "outputs": [],
   "source": [
    "def get_contin_dense(feature,contin_map_fit):\n",
    "    name = feature[0][0]\n",
    "    inp = Input((1,),name=name+'_contin_in')\n",
    "    return inp, BatchNormalization()(Dense(1,name=name+'_contin_dense')(inp))"
   ]
  },
  {
   "cell_type": "code",
   "execution_count": 574,
   "metadata": {
    "collapsed": true
   },
   "outputs": [],
   "source": [
    "contin_cols = contin_map_train.shape[1]\n",
    "contin_inp = Input((contin_cols,), name='contin')\n",
    "contin_out = Dense(contin_cols*10,activation='relu', name='contin_d')(contin_inp)\n",
    "# contin_out = contin_out"
   ]
  },
  {
   "cell_type": "code",
   "execution_count": 575,
   "metadata": {
    "collapsed": true
   },
   "outputs": [],
   "source": [
    "\n",
    "optimizer = SGD(lr=1e-4,momentum=0.8,nesterov=True)\n",
    "# optimizer = Nadam(lr=1e-4)"
   ]
  },
  {
   "cell_type": "code",
   "execution_count": 576,
   "metadata": {
    "collapsed": true
   },
   "outputs": [],
   "source": [
    "#Define model:\n",
    "\n",
    "embs = [get_embeddings(feat,cat_map_fit) for feat in cat_map_fit.features]"
   ]
  },
  {
   "cell_type": "code",
   "execution_count": 577,
   "metadata": {},
   "outputs": [
    {
     "data": {
      "text/plain": [
       "[(<tf.Tensor 'term_emb_in_12:0' shape=(?, 1) dtype=int64>,\n",
       "  <tf.Tensor 'term_emb_fltn_12/Reshape:0' shape=(?, ?) dtype=float32>),\n",
       " (<tf.Tensor 'grade_emb_in_16:0' shape=(?, 1) dtype=int64>,\n",
       "  <tf.Tensor 'grade_emb_fltn_16/Reshape:0' shape=(?, ?) dtype=float32>),\n",
       " (<tf.Tensor 'sub_grade_emb_in_16:0' shape=(?, 1) dtype=int64>,\n",
       "  <tf.Tensor 'sub_grade_emb_fltn_16/Reshape:0' shape=(?, ?) dtype=float32>),\n",
       " (<tf.Tensor 'emp_length_emb_in_12:0' shape=(?, 1) dtype=int64>,\n",
       "  <tf.Tensor 'emp_length_emb_fltn_12/Reshape:0' shape=(?, ?) dtype=float32>),\n",
       " (<tf.Tensor 'home_ownership_emb_in_12:0' shape=(?, 1) dtype=int64>,\n",
       "  <tf.Tensor 'home_ownership_emb_fltn_12/Reshape:0' shape=(?, ?) dtype=float32>),\n",
       " (<tf.Tensor 'verification_status_emb_in_12:0' shape=(?, 1) dtype=int64>,\n",
       "  <tf.Tensor 'verification_status_emb_fltn_12/Reshape:0' shape=(?, ?) dtype=float32>),\n",
       " (<tf.Tensor 'loan_status_emb_in_12:0' shape=(?, 1) dtype=int64>,\n",
       "  <tf.Tensor 'loan_status_emb_fltn_12/Reshape:0' shape=(?, ?) dtype=float32>),\n",
       " (<tf.Tensor 'purpose_emb_in_12:0' shape=(?, 1) dtype=int64>,\n",
       "  <tf.Tensor 'purpose_emb_fltn_12/Reshape:0' shape=(?, ?) dtype=float32>),\n",
       " (<tf.Tensor 'zip_code_emb_in_12:0' shape=(?, 1) dtype=int64>,\n",
       "  <tf.Tensor 'zip_code_emb_fltn_12/Reshape:0' shape=(?, ?) dtype=float32>),\n",
       " (<tf.Tensor 'addr_state_emb_in_12:0' shape=(?, 1) dtype=int64>,\n",
       "  <tf.Tensor 'addr_state_emb_fltn_12/Reshape:0' shape=(?, ?) dtype=float32>),\n",
       " (<tf.Tensor 'pub_rec_emb_in_12:0' shape=(?, 1) dtype=int64>,\n",
       "  <tf.Tensor 'pub_rec_emb_fltn_12/Reshape:0' shape=(?, ?) dtype=float32>),\n",
       " (<tf.Tensor 'pub_rec_bankruptcies_emb_in_12:0' shape=(?, 1) dtype=int64>,\n",
       "  <tf.Tensor 'pub_rec_bankruptcies_emb_fltn_12/Reshape:0' shape=(?, ?) dtype=float32>)]"
      ]
     },
     "execution_count": 577,
     "metadata": {},
     "output_type": "execute_result"
    }
   ],
   "source": [
    "embs"
   ]
  },
  {
   "cell_type": "code",
   "execution_count": 591,
   "metadata": {
    "collapsed": true
   },
   "outputs": [],
   "source": [
    "conts = [get_contin_dense(feat,contin_map_fit) for feat in contin_map_fit.features]\n",
    "contin_d = [d for inp,d in conts]\n",
    "# x = merge([emb for inp,emb in embs] + contin_d, mode='concat')\n",
    "\n",
    "x = concatenate([emb for inp,emb in embs] + [contin_out])\n",
    "# x = concatenate([emb for inp,emb in embs] + contin_d)\n",
    "\n",
    "# x = Dropout(0.02)(x)\n",
    "x = Dense(1000, activation='relu',kernel_regularizer=l2(1e-4))(x)\n",
    "x = Dense(500, activation='relu',kernel_regularizer=l2(1e-4))(x)\n",
    "# x = Dropout(0.2)(x)\n",
    "x = Dense(1, activation='sigmoid')(x)\n",
    "\n",
    "model = Model([inp for inp,emb in embs] + [contin_inp], x)\n",
    "\n",
    "# model = Model([inp for inp,emb in embs] + [inp for inp,d in conts], x)\n",
    "\n",
    "model.compile(optimizer=optimizer, loss= 'binary_crossentropy',metrics=['accuracy'])#,matthews_correlation])"
   ]
  },
  {
   "cell_type": "code",
   "execution_count": null,
   "metadata": {
    "collapsed": true
   },
   "outputs": [],
   "source": []
  },
  {
   "cell_type": "code",
   "execution_count": 592,
   "metadata": {
    "scrolled": false
   },
   "outputs": [
    {
     "name": "stdout",
     "output_type": "stream",
     "text": [
      "____________________________________________________________________________________________________\n",
      "Layer (type)                     Output Shape          Param #     Connected to                     \n",
      "====================================================================================================\n",
      "term_emb_in (InputLayer)         (None, 1)             0                                            \n",
      "____________________________________________________________________________________________________\n",
      "grade_emb_in (InputLayer)        (None, 1)             0                                            \n",
      "____________________________________________________________________________________________________\n",
      "sub_grade_emb_in (InputLayer)    (None, 1)             0                                            \n",
      "____________________________________________________________________________________________________\n",
      "emp_length_emb_in (InputLayer)   (None, 1)             0                                            \n",
      "____________________________________________________________________________________________________\n",
      "home_ownership_emb_in (InputLaye (None, 1)             0                                            \n",
      "____________________________________________________________________________________________________\n",
      "verification_status_emb_in (Inpu (None, 1)             0                                            \n",
      "____________________________________________________________________________________________________\n",
      "loan_status_emb_in (InputLayer)  (None, 1)             0                                            \n",
      "____________________________________________________________________________________________________\n",
      "purpose_emb_in (InputLayer)      (None, 1)             0                                            \n",
      "____________________________________________________________________________________________________\n",
      "zip_code_emb_in (InputLayer)     (None, 1)             0                                            \n",
      "____________________________________________________________________________________________________\n",
      "addr_state_emb_in (InputLayer)   (None, 1)             0                                            \n",
      "____________________________________________________________________________________________________\n",
      "pub_rec_emb_in (InputLayer)      (None, 1)             0                                            \n",
      "____________________________________________________________________________________________________\n",
      "pub_rec_bankruptcies_emb_in (Inp (None, 1)             0                                            \n",
      "____________________________________________________________________________________________________\n",
      "embedding_153 (Embedding)        (None, 1, 2)          4           term_emb_in[0][0]                \n",
      "____________________________________________________________________________________________________\n",
      "embedding_154 (Embedding)        (None, 1, 7)          49          grade_emb_in[0][0]               \n",
      "____________________________________________________________________________________________________\n",
      "embedding_155 (Embedding)        (None, 1, 10)         350         sub_grade_emb_in[0][0]           \n",
      "____________________________________________________________________________________________________\n",
      "embedding_156 (Embedding)        (None, 1, 10)         120         emp_length_emb_in[0][0]          \n",
      "____________________________________________________________________________________________________\n",
      "embedding_157 (Embedding)        (None, 1, 5)          25          home_ownership_emb_in[0][0]      \n",
      "____________________________________________________________________________________________________\n",
      "embedding_158 (Embedding)        (None, 1, 3)          9           verification_status_emb_in[0][0] \n",
      "____________________________________________________________________________________________________\n",
      "embedding_159 (Embedding)        (None, 1, 4)          16          loan_status_emb_in[0][0]         \n",
      "____________________________________________________________________________________________________\n",
      "embedding_160 (Embedding)        (None, 1, 10)         140         purpose_emb_in[0][0]             \n",
      "____________________________________________________________________________________________________\n",
      "embedding_161 (Embedding)        (None, 1, 10)         8360        zip_code_emb_in[0][0]            \n",
      "____________________________________________________________________________________________________\n",
      "embedding_162 (Embedding)        (None, 1, 10)         500         addr_state_emb_in[0][0]          \n",
      "____________________________________________________________________________________________________\n",
      "embedding_163 (Embedding)        (None, 1, 6)          36          pub_rec_emb_in[0][0]             \n",
      "____________________________________________________________________________________________________\n",
      "embedding_164 (Embedding)        (None, 1, 3)          9           pub_rec_bankruptcies_emb_in[0][0]\n",
      "____________________________________________________________________________________________________\n",
      "contin (InputLayer)              (None, 2)             0                                            \n",
      "____________________________________________________________________________________________________\n",
      "term_emb_fltn (Flatten)          (None, 2)             0           embedding_153[0][0]              \n",
      "____________________________________________________________________________________________________\n",
      "grade_emb_fltn (Flatten)         (None, 7)             0           embedding_154[0][0]              \n",
      "____________________________________________________________________________________________________\n",
      "sub_grade_emb_fltn (Flatten)     (None, 10)            0           embedding_155[0][0]              \n",
      "____________________________________________________________________________________________________\n",
      "emp_length_emb_fltn (Flatten)    (None, 10)            0           embedding_156[0][0]              \n",
      "____________________________________________________________________________________________________\n",
      "home_ownership_emb_fltn (Flatten (None, 5)             0           embedding_157[0][0]              \n",
      "____________________________________________________________________________________________________\n",
      "verification_status_emb_fltn (Fl (None, 3)             0           embedding_158[0][0]              \n",
      "____________________________________________________________________________________________________\n",
      "loan_status_emb_fltn (Flatten)   (None, 4)             0           embedding_159[0][0]              \n",
      "____________________________________________________________________________________________________\n",
      "purpose_emb_fltn (Flatten)       (None, 10)            0           embedding_160[0][0]              \n",
      "____________________________________________________________________________________________________\n",
      "zip_code_emb_fltn (Flatten)      (None, 10)            0           embedding_161[0][0]              \n",
      "____________________________________________________________________________________________________\n",
      "addr_state_emb_fltn (Flatten)    (None, 10)            0           embedding_162[0][0]              \n",
      "____________________________________________________________________________________________________\n",
      "pub_rec_emb_fltn (Flatten)       (None, 6)             0           embedding_163[0][0]              \n",
      "____________________________________________________________________________________________________\n",
      "pub_rec_bankruptcies_emb_fltn (F (None, 3)             0           embedding_164[0][0]              \n",
      "____________________________________________________________________________________________________\n",
      "contin_d (Dense)                 (None, 20)            60          contin[0][0]                     \n",
      "____________________________________________________________________________________________________\n",
      "concatenate_24 (Concatenate)     (None, 100)           0           term_emb_fltn[0][0]              \n",
      "                                                                   grade_emb_fltn[0][0]             \n",
      "                                                                   sub_grade_emb_fltn[0][0]         \n",
      "                                                                   emp_length_emb_fltn[0][0]        \n",
      "                                                                   home_ownership_emb_fltn[0][0]    \n",
      "                                                                   verification_status_emb_fltn[0][0\n",
      "                                                                   loan_status_emb_fltn[0][0]       \n",
      "                                                                   purpose_emb_fltn[0][0]           \n",
      "                                                                   zip_code_emb_fltn[0][0]          \n",
      "                                                                   addr_state_emb_fltn[0][0]        \n",
      "                                                                   pub_rec_emb_fltn[0][0]           \n",
      "                                                                   pub_rec_bankruptcies_emb_fltn[0][\n",
      "                                                                   contin_d[0][0]                   \n",
      "____________________________________________________________________________________________________\n",
      "dense_70 (Dense)                 (None, 1000)          101000      concatenate_24[0][0]             \n",
      "____________________________________________________________________________________________________\n",
      "dense_71 (Dense)                 (None, 500)           500500      dense_70[0][0]                   \n",
      "____________________________________________________________________________________________________\n",
      "dense_72 (Dense)                 (None, 1)             501         dense_71[0][0]                   \n",
      "====================================================================================================\n",
      "Total params: 611,679\n",
      "Trainable params: 611,679\n",
      "Non-trainable params: 0\n",
      "____________________________________________________________________________________________________\n"
     ]
    }
   ],
   "source": [
    "model.summary() "
   ]
  },
  {
   "cell_type": "code",
   "execution_count": 593,
   "metadata": {
    "collapsed": true
   },
   "outputs": [],
   "source": [
    "# K.set_value(model.optimizer.lr,1e-4)\n",
    "# K.set_value(model.optimizer.momentum,0.2)"
   ]
  },
  {
   "cell_type": "code",
   "execution_count": 594,
   "metadata": {
    "scrolled": false
   },
   "outputs": [
    {
     "name": "stdout",
     "output_type": "stream",
     "text": [
      "Train on 33778 samples, validate on 8445 samples\n",
      "Epoch 1/5\n",
      "33778/33778 [==============================] - 3s - loss: 0.7421 - acc: 0.8254 - val_loss: 0.7678 - val_acc: 0.6271\n",
      "Epoch 2/5\n",
      "33778/33778 [==============================] - 1s - loss: 0.7379 - acc: 0.8364 - val_loss: 0.7661 - val_acc: 0.6266\n",
      "Epoch 3/5\n",
      "33778/33778 [==============================] - 1s - loss: 0.7330 - acc: 0.8444 - val_loss: 0.7644 - val_acc: 0.6263\n",
      "Epoch 4/5\n",
      "33778/33778 [==============================] - 1s - loss: 0.7282 - acc: 0.8493 - val_loss: 0.7627 - val_acc: 0.6261\n",
      "Epoch 5/5\n",
      "33778/33778 [==============================] - 1s - loss: 0.7235 - acc: 0.8529 - val_loss: 0.7611 - val_acc: 0.6258\n",
      "CPU times: user 1min 35s, sys: 1.89 s, total: 1min 37s\n",
      "Wall time: 12.6 s\n"
     ]
    }
   ],
   "source": [
    "%%time \n",
    "hist = model.fit(map_train, y_train, batch_size=512*8, epochs=5,\n",
    "                 verbose=1, validation_data=(map_valid, y_valid))"
   ]
  },
  {
   "cell_type": "code",
   "execution_count": 564,
   "metadata": {
    "collapsed": true
   },
   "outputs": [],
   "source": [
    "#Loss is decreasing and accurracy is increasing\n",
    "from sklearn.metrics import matthews_corrcoef"
   ]
  },
  {
   "cell_type": "code",
   "execution_count": null,
   "metadata": {
    "collapsed": true
   },
   "outputs": [],
   "source": [
    "def plot_train(hist):\n",
    "    h = hist.history\n",
    "    if 'acc' in h:\n",
    "        meas='acc'\n",
    "        loc='lower right'\n",
    "    else:\n",
    "        meas='loss'\n",
    "        loc='upper right'\n",
    "    plt.plot(hist.history[meas])\n",
    "    plt.plot(hist.history['val_'+meas])\n",
    "    plt.title('model '+meas)\n",
    "    plt.ylabel(meas)\n",
    "    plt.xlabel('epoch')\n",
    "    plt.legend(['train', 'validation'], loc=loc)"
   ]
  },
  {
   "cell_type": "code",
   "execution_count": null,
   "metadata": {
    "collapsed": true
   },
   "outputs": [],
   "source": [
    "# plot_train(hist)"
   ]
  },
  {
   "cell_type": "code",
   "execution_count": null,
   "metadata": {
    "collapsed": true
   },
   "outputs": [],
   "source": []
  }
 ],
 "metadata": {
  "anaconda-cloud": {},
  "kernelspec": {
   "display_name": "Python 3",
   "language": "python",
   "name": "python3"
  },
  "language_info": {
   "codemirror_mode": {
    "name": "ipython",
    "version": 3
   },
   "file_extension": ".py",
   "mimetype": "text/x-python",
   "name": "python",
   "nbconvert_exporter": "python",
   "pygments_lexer": "ipython3",
   "version": "3.6.2"
  }
 },
 "nbformat": 4,
 "nbformat_minor": 1
}
